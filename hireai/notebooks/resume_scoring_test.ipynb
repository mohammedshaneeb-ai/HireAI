{
 "cells": [
  {
   "cell_type": "code",
   "execution_count": 1,
   "metadata": {},
   "outputs": [
    {
     "name": "stdout",
     "output_type": "stream",
     "text": [
      "Match Score: 73.0\n"
     ]
    }
   ],
   "source": [
    "def calculate_match_score(resume_skills, jd_skills, penalty_per_skill=0):\n",
    "    resume_skills_set = set(resume_skills)\n",
    "    jd_skills_set = set(jd_skills)\n",
    "    \n",
    "    total_jd_skills = len(jd_skills_set)\n",
    "    matching_skills = resume_skills_set.intersection(jd_skills_set)\n",
    "    num_matching_skills = len(matching_skills)\n",
    "    \n",
    "    # Calculate base match score\n",
    "    if total_jd_skills == 0:\n",
    "        match_score = 0\n",
    "    else:\n",
    "        match_score = (num_matching_skills / total_jd_skills) * 100\n",
    "    \n",
    "    # Apply penalty for non-matching skills if specified\n",
    "    if penalty_per_skill > 0:\n",
    "        num_non_matching_skills = len(resume_skills_set - jd_skills_set)\n",
    "        penalty = num_non_matching_skills * penalty_per_skill\n",
    "        match_score -= penalty\n",
    "        match_score = max(0, match_score)  # Ensure score doesn't go negative\n",
    "    \n",
    "    return match_score\n",
    "\n",
    "# Example usage\n",
    "resume_skills = ['Python', 'Machine Learning', 'Data Analysis', 'SQL']\n",
    "jd_skills = ['Python', 'Data Analysis', 'SQL', 'Communication Skills']\n",
    "\n",
    "score = calculate_match_score(resume_skills, jd_skills, penalty_per_skill=2)\n",
    "print(f'Match Score: {score}')\n"
   ]
  },
  {
   "cell_type": "code",
   "execution_count": null,
   "metadata": {},
   "outputs": [],
   "source": [
    "resume_skills = [\"QLORA\", \"Falcon\", \"NLP\", \"Gemma\", \"AWS\", \"Vector Database\", \"Chroma DB\", \"GCP\", \"Spacy\", \"LLM\", \"Git\", \"Sentence Transformers\", \"AWS RDS\", \"OpenAI\", \"Keras\", \"Embedding\", \"Langchain\", \"Python Data Science\", \"Numpy\", \"RNN\", \"MySQL\", \"PEFT\", \"Word2vec\", \"FastAPI\", \"Sklearn\", \"Version Control\", \"Transfomers\", \"Tensorflow\", \"Python\"]\n",
    "resume_technologies = [\"QLORA\", \"Pandas\", \"Classification\", \"Falcon\", \"Fine-Tuning\", \"NLP\", \"Deep Learning\", \"NER\", \"Gemma\", \"Transfer Learning\", \"NLTK\", \"AWS\", \"Hugging Face\", \"GCP\", \"Spacy\", \"TF-IDF\", \"PineCone\", \"Streamlit\", \"LLM\", \"Git\", \"LORA\", \"AWS RDS\", \"Pytorch\", \"OpenAI\", \"Llama2\", \"Opendl Embeddings\", \"Keras\", \"Numpy\", \"Llama Index\", \"RNN\", \"MySQL\", \"FAISS\", \"Flask\", \"PEFT\", \"Django\", \"Machine Learning\", \"Mistral\", \"Bert\", \"LSTM\", \"FastAPI\", \"Prompt Engineering\", \"GPT\"]\n",
    "\n"
   ]
  },
  {
   "cell_type": "markdown",
   "metadata": {},
   "source": [
    "## JD Skill Extractor"
   ]
  },
  {
   "cell_type": "code",
   "execution_count": 2,
   "metadata": {},
   "outputs": [],
   "source": [
    "jd_skill_extracter = '''You are a helpful skill extracter.you want to extract skills from job_description given below.\n",
    "give me output in list format.\n",
    "{job_description}\n",
    "'''"
   ]
  },
  {
   "cell_type": "code",
   "execution_count": 3,
   "metadata": {},
   "outputs": [
    {
     "data": {
      "text/plain": [
       "True"
      ]
     },
     "execution_count": 3,
     "metadata": {},
     "output_type": "execute_result"
    }
   ],
   "source": [
    "from langchain_core.prompts import PromptTemplate\n",
    "from langchain_groq import ChatGroq\n",
    "from langchain.schema.output_parser import StrOutputParser\n",
    "from dotenv import load_dotenv\n",
    "import os\n",
    "load_dotenv()"
   ]
  },
  {
   "cell_type": "code",
   "execution_count": 4,
   "metadata": {},
   "outputs": [],
   "source": [
    "chat = ChatGroq(temperature=0, model_name=\"mixtral-8x7b-32768\")"
   ]
  },
  {
   "cell_type": "code",
   "execution_count": 5,
   "metadata": {},
   "outputs": [],
   "source": [
    "job_description = \"\"\"\n",
    "Stockarea is a Managed logistics platform that provides Supply Chain solutions to SME & MNC Brands in India. Stockarea aggregates supply chain service providers like warehouse operators, Transporters, Freight Forwarders, Customs Agents, & Compliance service providers, and offers a single platform for Brands to Book/Manage these services.\n",
    "\"\"\"\n",
    "job_responsibilities = \"\"\"\n",
    "Design and develop high-quality software solutions that align with project requirements and industry best practices. ▪ Implement and optimize data structures and algorithms to ensure efficient and scalable applications.\n",
    "\n",
    "▪ Collaborate with cross-functional teams to understand project requirements and contribute to the overall system architecture.\n",
    "\n",
    "▪ Develop and maintain REST APIs to facilitate seamless communication between different components of the system.\n",
    "\n",
    "▪ Implement and manage client-server architecture, ensuring robust and secure communication between clients and servers.\n",
    "\n",
    "▪ Work with relational database management systems, including MySQL and RDMS, to design and maintain database structures, optimize queries, and ensure data integrity.\n",
    "\n",
    "▪ Write clean, modular, and maintainable code in Python and/or PHP, and actively participate in code reviews.\n",
    "\n",
    "▪ Troubleshoot, debug, and resolve software defects and issues in a timely manner.\n",
    "\n",
    "▪ Stay up to date with industry trends and emerging technologies to continuously improve development processes.\n",
    "\n",
    "\"\"\"\n",
    "job_requirements = \"\"\"\n",
    "Experience required 1-4 years.\n",
    "▪ Bachelor's degree in computer science, Software Engineering, or a related field.\n",
    "\n",
    "▪ Proven experience in software development with a focus on data structures, algorithms, REST APIs, and client-server architecture.\n",
    "\n",
    "▪ Strong proficiency in database management systems, particularly MySQL and RDMS.\n",
    "\n",
    "▪ Proficiency in programming languages such as Python and/or PHP.\n",
    "\n",
    "▪ Excellent problem-solving and analytical skills.\n",
    "\n",
    "▪ Good understanding of software development best practices and coding standards.\n",
    "\n",
    "▪ Effective communication and teamwork skills\n",
    "\"\"\""
   ]
  },
  {
   "cell_type": "code",
   "execution_count": 6,
   "metadata": {},
   "outputs": [],
   "source": [
    "Combined_Job_Description = (\n",
    "        f\"Job Description:\\n {job_description}\\n\"\n",
    "        f\"Job Responsibilities:\\n {job_responsibilities}\\n\"\n",
    "        f\"Job Requirements:\\n {job_requirements}\"\n",
    "    )"
   ]
  },
  {
   "cell_type": "code",
   "execution_count": 7,
   "metadata": {},
   "outputs": [],
   "source": [
    "output_parser = StrOutputParser()"
   ]
  },
  {
   "cell_type": "code",
   "execution_count": 8,
   "metadata": {},
   "outputs": [],
   "source": [
    "prompt = PromptTemplate.from_template(jd_skill_extracter)\n",
    "chain = prompt | chat | output_parser\n",
    "result = chain.invoke({\"job_description\": Combined_Job_Description})"
   ]
  },
  {
   "cell_type": "code",
   "execution_count": 9,
   "metadata": {},
   "outputs": [
    {
     "data": {
      "text/plain": [
       "\"Here is the list of skills extracted from the job description:\\n\\n* Design and develop high-quality software solutions\\n* Implement and optimize data structures and algorithms\\n* Collaborate with cross-functional teams\\n* Contribute to the overall system architecture\\n* Develop and maintain REST APIs\\n* Implement and manage client-server architecture\\n* Work with relational database management systems (MySQL, RDMS)\\n* Design and maintain database structures\\n* Optimize queries\\n* Ensure data integrity\\n* Write clean, modular, and maintainable code (Python, PHP)\\n* Participate in code reviews\\n* Troubleshoot, debug, and resolve software defects\\n* Stay up-to-date with industry trends and emerging technologies\\n* Bachelor's degree in computer science, Software Engineering, or a related field\\n* Proven experience in software development\\n* Strong proficiency in database management systems\\n* Proficiency in programming languages (Python, PHP)\\n* Excellent problem-solving and analytical skills\\n* Good understanding of software development best practices and coding standards\\n* Effective communication and teamwork skills\""
      ]
     },
     "execution_count": 9,
     "metadata": {},
     "output_type": "execute_result"
    }
   ],
   "source": [
    "result"
   ]
  },
  {
   "cell_type": "code",
   "execution_count": 10,
   "metadata": {},
   "outputs": [],
   "source": [
    "job_description = \"\"\"\n",
    "We're an AI Healthtech company in partnership with Microsoft Startups introducing custom AI to redefine global health equity.\n",
    "We're looking for a driven AI Engineer to join our team. The perfect fit will be well-versed in ML, NLP, and deep learning, with expertise in creating custom algorithms. Experience with machine translation projects and familiarity with NLP and MT techniques like NMT and transformer architecture is highly preferred.\n",
    "\n",
    "\"\"\"\n",
    "job_responsibilities = \"\"\"\n",
    "Collaborate with AI leads and the team to enhance current iterative builds for continuous model performance improvements.\n",
    "Fine-tune models and manage associated data pipelines throughout iterative phases.\n",
    "Oversee RLHF testing pipeline for error analysis and enhance accuracy, including evaluation using metrics such as BLEU and METEOR.\n",
    "Execute and assess systems for automated performance metrics to facilitate comparative analysis between models.\n",
    "Engage in research and development with AI leads on parallel builds for ongoing feature enhancements.\n",
    "\n",
    "\"\"\"\n",
    "job_requirements = \"\"\"\n",
    "Proficiency in fine-tuning models for domain-specific use cases using machine learning frameworks like TensorFlow, PyTorch, and NLP techniques.\n",
    "Capability to develop data preprocessing pipelines to clean, normalize, and augment text data for both training and evaluation.\n",
    "Excellent collaboration and communication skills, as the candidate will assist in overseeing and mentoring junior engineers and interns.\n",
    "Strong problem-solving abilities and the capacity to thrive in a fast-paced, deadline-oriented startup environment.\n",
    "\n",
    "\"\"\"\n",
    "Combined_Job_Description = (\n",
    "        f\"Job Description:\\n {job_description}\\n\"\n",
    "        f\"Job Responsibilities:\\n {job_responsibilities}\\n\"\n",
    "        f\"Job Requirements:\\n {job_requirements}\"\n",
    "    )"
   ]
  },
  {
   "cell_type": "code",
   "execution_count": 11,
   "metadata": {},
   "outputs": [],
   "source": [
    "prompt = PromptTemplate.from_template(jd_skill_extracter)\n",
    "chain = prompt | chat | output_parser\n",
    "result = chain.invoke({\"job_description\": Combined_Job_Description})"
   ]
  },
  {
   "cell_type": "code",
   "execution_count": 12,
   "metadata": {},
   "outputs": [
    {
     "data": {
      "text/plain": [
       "'Based on the job description, responsibilities, and requirements, the following skills can be extracted:\\n\\n1. Machine Learning (ML)\\n2. Natural Language Processing (NLP)\\n3. Deep Learning\\n4. Creating custom algorithms\\n5. Experience with machine translation projects\\n6. NLP and MT techniques like NMT and transformer architecture\\n7. Collaboration and teamwork\\n8. Fine-tuning models\\n9. Managing data pipelines\\n10. RLHF testing pipeline error analysis\\n11. Evaluation using metrics such as BLEU and METEOR\\n12. Executing and assessing systems for automated performance metrics\\n13. Research and development\\n14. Proficiency in machine learning frameworks like TensorFlow, PyTorch\\n15. Developing data preprocessing pipelines\\n16. Text data cleaning, normalization, and augmentation\\n17. Excellent collaboration and communication skills\\n18. Mentoring junior engineers and interns\\n19. Strong problem-solving abilities\\n20. Thriving in a fast-paced, deadline-oriented startup environment'"
      ]
     },
     "execution_count": 12,
     "metadata": {},
     "output_type": "execute_result"
    }
   ],
   "source": [
    "result"
   ]
  },
  {
   "cell_type": "code",
   "execution_count": 13,
   "metadata": {},
   "outputs": [],
   "source": [
    "jd_skill_extracter = '''You are a helpful skill extracter.you want to extract skills from job_description given below.\n",
    "give me output list of skills.\n",
    "{job_description}\n",
    "\n",
    "'''"
   ]
  },
  {
   "cell_type": "code",
   "execution_count": 14,
   "metadata": {},
   "outputs": [
    {
     "data": {
      "text/plain": [
       "'Based on the job description, here are the skills I have extracted:\\n\\n1. Machine Learning (ML)\\n2. Natural Language Processing (NLP)\\n3. Deep learning\\n4. Creating custom algorithms\\n5. Experience with machine translation projects\\n6. NLP and MT techniques like Neural Machine Translation (NMT) and transformer architecture\\n7. Collaboration and teamwork\\n8. Fine-tuning models\\n9. Managing data pipelines\\n10. RLHF testing pipeline\\n11. Error analysis\\n12. Evaluation using metrics such as BLEU and METEOR\\n13. Automated performance metrics\\n14. Research and development\\n15. Proficiency in machine learning frameworks like TensorFlow, PyTorch\\n16. Data preprocessing pipelines\\n17. Text data cleaning, normalization, and augmentation\\n18. Mentoring junior engineers and interns\\n19. Strong problem-solving abilities\\n20. Thriving in a fast-paced, deadline-oriented startup environment.'"
      ]
     },
     "execution_count": 14,
     "metadata": {},
     "output_type": "execute_result"
    }
   ],
   "source": [
    "prompt = PromptTemplate.from_template(jd_skill_extracter)\n",
    "chain = prompt | chat | output_parser\n",
    "result = chain.invoke({\"job_description\": Combined_Job_Description})\n",
    "result"
   ]
  },
  {
   "cell_type": "code",
   "execution_count": 19,
   "metadata": {},
   "outputs": [],
   "source": [
    "\n",
    "\n",
    "jd_skill_extracter = '''You are a helpful skill extracter.you want to extract skills from job_description given below.\n",
    "{job_description}\n",
    "I want to get output in below JSON format:\n",
    "JSON output : \n",
    "    'Skills' : skills extracted from job_description(python list),\n",
    "    \n",
    "'''"
   ]
  },
  {
   "cell_type": "code",
   "execution_count": 20,
   "metadata": {},
   "outputs": [
    {
     "data": {
      "text/plain": [
       "'{\\n\"Skills\": [\\n\"AI\",\\n\"Machine Learning (ML)\",\\n\"Natural Language Processing (NLP)\",\\n\"Deep Learning\",\\n\"Creating custom algorithms\",\\n\"Machine Translation\",\\n\"Reinforcement Learning with Human Feedback (RLHF)\",\\n\"TensorFlow\",\\n\"PyTorch\",\\n\"NLP techniques\",\\n\"Transformer Architecture\",\\n\"BLEU\",\\n\"METEOR\",\\n\"Data Preprocessing\",\\n\"Text Data Augmentation\",\\n\"Communication Skills\",\\n\"Mentoring\",\\n\"Problem Solving\",\\n\"Fast-paced Startup Environment\"\\n]\\n}'"
      ]
     },
     "execution_count": 20,
     "metadata": {},
     "output_type": "execute_result"
    }
   ],
   "source": [
    "prompt = PromptTemplate.from_template(jd_skill_extracter)\n",
    "chain = prompt | chat | output_parser\n",
    "result = chain.invoke({\"job_description\": Combined_Job_Description})\n",
    "result"
   ]
  },
  {
   "cell_type": "code",
   "execution_count": null,
   "metadata": {},
   "outputs": [],
   "source": [
    "prompt = PromptTemplate.from_template(jd_skill_extracter)\n",
    "chain = prompt | chat | output_parser\n",
    "result = chain.invoke({\"job_description\": Combined_Job_Description})\n",
    "result"
   ]
  },
  {
   "cell_type": "code",
   "execution_count": 42,
   "metadata": {},
   "outputs": [],
   "source": [
    "\n",
    "\n",
    "jd_skill_extracter = '''You are a helpful skill extracter.you want to extract skills from job_description given below.\n",
    "{job_description}\n",
    "I want to get output in below JSON format:\n",
    "JSON output : \n",
    "    'Skills' : list in single line,\n",
    "    \n",
    "'''"
   ]
  },
  {
   "cell_type": "code",
   "execution_count": 52,
   "metadata": {},
   "outputs": [
    {
     "data": {
      "text/plain": [
       "'{\\n  \"Skills\": [\"AI\", \"Machine Learning\", \"Natural Language Processing\", \"Deep Learning\", \"Creating Custom Algorithms\", \"Machine Translation\", \"Reinforcement Learning with Human Feedback\", \"Error Analysis\", \"Evaluation Metrics (BLEU, METEOR)\", \"Automated Performance Metrics\", \"Research and Development\", \"TensorFlow\", \"PyTorch\", \"Data Preprocessing\", \"Text Data Cleaning\", \"Text Data Normalization\", \"Text Data Augmentation\", \"Collaboration\", \"Communication\", \"Mentoring\", \"Problem Solving\", \"Startup Environment\"]\\n}'"
      ]
     },
     "execution_count": 52,
     "metadata": {},
     "output_type": "execute_result"
    }
   ],
   "source": [
    "prompt = PromptTemplate.from_template(jd_skill_extracter)\n",
    "chain = prompt | chat | output_parser\n",
    "result = chain.invoke({\"job_description\": Combined_Job_Description})\n",
    "result"
   ]
  },
  {
   "cell_type": "code",
   "execution_count": 53,
   "metadata": {},
   "outputs": [],
   "source": [
    "import json"
   ]
  },
  {
   "cell_type": "code",
   "execution_count": 54,
   "metadata": {},
   "outputs": [
    {
     "data": {
      "text/plain": [
       "['AI',\n",
       " 'Machine Learning',\n",
       " 'Natural Language Processing',\n",
       " 'Deep Learning',\n",
       " 'Creating Custom Algorithms',\n",
       " 'Machine Translation',\n",
       " 'Reinforcement Learning with Human Feedback',\n",
       " 'Error Analysis',\n",
       " 'Evaluation Metrics (BLEU, METEOR)',\n",
       " 'Automated Performance Metrics',\n",
       " 'Research and Development',\n",
       " 'TensorFlow',\n",
       " 'PyTorch',\n",
       " 'Data Preprocessing',\n",
       " 'Text Data Cleaning',\n",
       " 'Text Data Normalization',\n",
       " 'Text Data Augmentation',\n",
       " 'Collaboration',\n",
       " 'Communication',\n",
       " 'Mentoring',\n",
       " 'Problem Solving',\n",
       " 'Startup Environment']"
      ]
     },
     "execution_count": 54,
     "metadata": {},
     "output_type": "execute_result"
    }
   ],
   "source": [
    "\n",
    "result = json.loads(result)\n",
    "result['Skills']"
   ]
  },
  {
   "cell_type": "code",
   "execution_count": 55,
   "metadata": {},
   "outputs": [
    {
     "name": "stdout",
     "output_type": "stream",
     "text": [
      "['AI', 'Machine Learning', 'Natural Language Processing', 'Deep Learning', 'Creating Custom Algorithms', 'Machine Translation', 'Reinforcement Learning with Human Feedback', 'Error Analysis', 'Evaluation Metrics (BLEU, METEOR)', 'Automated Performance Metrics', 'Research and Development', 'TensorFlow', 'PyTorch', 'Data Preprocessing', 'Text Data Cleaning', 'Text Data Normalization', 'Text Data Augmentation', 'Collaboration', 'Communication', 'Mentoring', 'Problem Solving', 'Startup Environment']\n"
     ]
    }
   ],
   "source": [
    "result = result['Skills']\n",
    "print(result)"
   ]
  },
  {
   "cell_type": "code",
   "execution_count": 56,
   "metadata": {},
   "outputs": [],
   "source": [
    "jd_skill_extracter = '''You are a helpful skill extracter.you want to extract skills from job_description given below.\n",
    "{job_description}\n",
    "I want to get output in below JSON format:\n",
    "JSON output : \n",
    "    'Skills' : list,\n",
    "    \n",
    "'''"
   ]
  },
  {
   "cell_type": "code",
   "execution_count": 57,
   "metadata": {},
   "outputs": [
    {
     "data": {
      "text/plain": [
       "'{\\n\"Skills\": [\\n\"AI\",\\n\"Machine Learning (ML)\",\\n\"Natural Language Processing (NLP)\",\\n\"Deep Learning\",\\n\"Creating custom algorithms\",\\n\"Machine Translation\",\\n\"Reinforcement Learning with Human Feedback (RLHF)\",\\n\"TensorFlow\",\\n\"PyTorch\",\\n\"Data Preprocessing\",\\n\"Text Data Augmentation\",\\n\"Communication\",\\n\"Mentoring\",\\n\"Problem Solving\",\\n\"Fast-paced Startup Environment\"\\n]\\n}'"
      ]
     },
     "execution_count": 57,
     "metadata": {},
     "output_type": "execute_result"
    }
   ],
   "source": [
    "prompt = PromptTemplate.from_template(jd_skill_extracter)\n",
    "chain = prompt | chat | output_parser\n",
    "result = chain.invoke({\"job_description\": Combined_Job_Description})\n",
    "result"
   ]
  },
  {
   "cell_type": "code",
   "execution_count": 58,
   "metadata": {},
   "outputs": [
    {
     "ename": "TypeError",
     "evalue": "string indices must be integers",
     "output_type": "error",
     "traceback": [
      "\u001b[0;31m---------------------------------------------------------------------------\u001b[0m",
      "\u001b[0;31mTypeError\u001b[0m                                 Traceback (most recent call last)",
      "Cell \u001b[0;32mIn[58], line 1\u001b[0m\n\u001b[0;32m----> 1\u001b[0m result \u001b[38;5;241m=\u001b[39m \u001b[43mresult\u001b[49m\u001b[43m[\u001b[49m\u001b[38;5;124;43m'\u001b[39;49m\u001b[38;5;124;43mSkills\u001b[39;49m\u001b[38;5;124;43m'\u001b[39;49m\u001b[43m]\u001b[49m\n\u001b[1;32m      2\u001b[0m \u001b[38;5;28mprint\u001b[39m(result)\n",
      "\u001b[0;31mTypeError\u001b[0m: string indices must be integers"
     ]
    }
   ],
   "source": [
    "result = result['Skills']\n",
    "print(result)"
   ]
  },
  {
   "cell_type": "code",
   "execution_count": 59,
   "metadata": {},
   "outputs": [
    {
     "name": "stdout",
     "output_type": "stream",
     "text": [
      "['AI', 'Machine Learning (ML)', 'Natural Language Processing (NLP)', 'Deep Learning', 'Creating custom algorithms', 'Machine Translation', 'Reinforcement Learning with Human Feedback (RLHF)', 'TensorFlow', 'PyTorch', 'Data Preprocessing', 'Text Data Augmentation', 'Communication', 'Mentoring', 'Problem Solving', 'Fast-paced Startup Environment']\n"
     ]
    }
   ],
   "source": [
    "result = json.loads(result)\n",
    "result = result['Skills']\n",
    "print(result)"
   ]
  },
  {
   "cell_type": "code",
   "execution_count": 60,
   "metadata": {},
   "outputs": [],
   "source": [
    "resume_skills = [\"QLORA\", \"Falcon\", \"NLP\", \"Gemma\", \"AWS\", \"Vector Database\", \"Chroma DB\", \"GCP\", \"Spacy\", \"LLM\", \"Git\", \"Sentence Transformers\", \"AWS RDS\", \"OpenAI\", \"Keras\", \"Embedding\", \"Langchain\", \"Python Data Science\", \"Numpy\", \"RNN\", \"MySQL\", \"PEFT\", \"Word2vec\", \"FastAPI\", \"Sklearn\", \"Version Control\", \"Transfomers\", \"Tensorflow\", \"Python\"]\n"
   ]
  },
  {
   "cell_type": "code",
   "execution_count": 62,
   "metadata": {},
   "outputs": [
    {
     "data": {
      "text/plain": [
       "0"
      ]
     },
     "execution_count": 62,
     "metadata": {},
     "output_type": "execute_result"
    }
   ],
   "source": [
    "calculate_match_score(resume_skills,result,penalty_per_skill=2)"
   ]
  },
  {
   "cell_type": "code",
   "execution_count": 63,
   "metadata": {},
   "outputs": [],
   "source": [
    "jd_skill_extracter = '''You are a helpful skill extracter.you want to extract skills from Job Description given below.\n",
    "Job Description:\n",
    "{job_description}\n",
    "I want to get output in below JSON format:\n",
    "JSON output : \n",
    "    'Skills' : list,\n",
    "    \n",
    "'''"
   ]
  },
  {
   "cell_type": "code",
   "execution_count": 64,
   "metadata": {},
   "outputs": [
    {
     "data": {
      "text/plain": [
       "'{\\n\"Skills\": [\\n\"Machine Learning (ML)\",\\n\"Natural Language Processing (NLP)\",\\n\"Deep Learning\",\\n\"Creating custom algorithms\",\\n\"Machine Translation projects\",\\n\"NLP and MT techniques like NMT and transformer architecture\",\\n\"Fine-tuning models\",\\n\"Managing data pipelines\",\\n\"Reinforcement Learning with Human Feedback (RLHF)\",\\n\"Evaluation metrics (BLEU, METEOR)\",\\n\"Automated performance metrics\",\\n\"Research and Development\",\\n\"TensorFlow\",\\n\"PyTorch\",\\n\"Data preprocessing pipelines\",\\n\"Text data cleaning, normalization, and augmentation\",\\n\"Collaboration and communication\",\\n\"Mentoring junior engineers and interns\",\\n\"Problem-solving abilities\",\\n\"Fast-paced, deadline-oriented startup environment\"\\n]\\n}'"
      ]
     },
     "execution_count": 64,
     "metadata": {},
     "output_type": "execute_result"
    }
   ],
   "source": [
    "prompt = PromptTemplate.from_template(jd_skill_extracter)\n",
    "chain = prompt | chat | output_parser\n",
    "result = chain.invoke({\"job_description\": Combined_Job_Description})\n",
    "result"
   ]
  },
  {
   "cell_type": "code",
   "execution_count": 65,
   "metadata": {},
   "outputs": [
    {
     "name": "stdout",
     "output_type": "stream",
     "text": [
      "['Machine Learning (ML)', 'Natural Language Processing (NLP)', 'Deep Learning', 'Creating custom algorithms', 'Machine Translation projects', 'NLP and MT techniques like NMT and transformer architecture', 'Fine-tuning models', 'Managing data pipelines', 'Reinforcement Learning with Human Feedback (RLHF)', 'Evaluation metrics (BLEU, METEOR)', 'Automated performance metrics', 'Research and Development', 'TensorFlow', 'PyTorch', 'Data preprocessing pipelines', 'Text data cleaning, normalization, and augmentation', 'Collaboration and communication', 'Mentoring junior engineers and interns', 'Problem-solving abilities', 'Fast-paced, deadline-oriented startup environment']\n"
     ]
    }
   ],
   "source": [
    "result = json.loads(result)\n",
    "result = result['Skills']\n",
    "print(result)"
   ]
  },
  {
   "cell_type": "code",
   "execution_count": 66,
   "metadata": {},
   "outputs": [],
   "source": [
    "job_description = \"\"\"\n",
    "We are seeking a highly skilled AI/ML Architect with extensive experience in cloud technologies to lead the design and implementation of cutting-edge artificial intelligence and machine learning solutions. The ideal candidate will have a deep understanding of AI/ML algorithms, frameworks, and tools, coupled with a strong background in architecting scalable and efficient systems on cloud platforms. As an AI/ML Architect, you will play a critical role in driving innovation, leveraging cloud services to develop and deploy AI/ML models that address complex business challenges.\n",
    "\n",
    "\"\"\"\n",
    "job_responsibilities = \"\"\"\n",
    "Architecture and Design: Design and architect end-to-end AI/ML solutions that encompass data ingestion, preprocessing, model training, evaluation, deployment, and monitoring, leveraging cloud-based infrastructure and services.\n",
    "Algorithm Selection and Development: Assess business requirements and select appropriate AI/ML algorithms, frameworks, and techniques to solve specific problems, ensuring accuracy, scalability, and efficiency\n",
    "Model Training and Optimization: Lead the development and training of machine learning models using large-scale datasets, employing techniques such as hyperparameter tuning, feature engineering, and ensemble learning.\n",
    "Cloud Integration: Integrate AI/ML solutions with cloud platforms such as AWS, Azure, or Google Cloud Platform, leveraging cloud-based services for data storage, processing, and compute resources.\n",
    "Scalability and Performance: Architect scalable and high-performance AI/ML systems capable of handling large volumes of data and processing intensive workloads efficiently in cloud environments.\n",
    "Deployment and Automation: Implement automated pipelines for model deployment and inference, utilizing CI/CD practices, containerization (e.g., Docker), and orchestration tools (e.g., Kubernetes) for efficient deployment and management.\n",
    "Monitoring and Optimization: Implement monitoring and logging solutions to track model performance, detect anomalies, and optimize resource utilization in production environments.\n",
    "Security and Compliance: Ensure the security and compliance of AI/ML solutions, implementing best practices for data privacy, access control, and regulatory requirements in cloud-based deployments.\n",
    "Collaboration and Communication: Collaborate closely with cross-functional teams including data scientists, software engineers, and business stakeholders to understand requirements, define solution architectures, and communicate technical concepts effectively.\n",
    "\n",
    "\"\"\"\n",
    "job_requirements = \"\"\"\n",
    "Bachelor's or Master's degree in Computer Science, Engineering, Mathematics, or related field.\n",
    "12+ years of experience in software development, data engineering, or AI/ML engineering roles, with a focus on architecting and implementing AI/ML solutions.\n",
    "Strong proficiency in AI/ML algorithms, frameworks, and libraries (e.g., TensorFlow, PyTorch, scikit-learn) for both supervised and unsupervised learning tasks.\n",
    "Extensive experience with cloud platforms such as AWS, Azure, or Google Cloud Platform, including familiarity with cloud-native services for AI/ML (e.g., AWS SageMaker, Azure Machine Learning, Google AI Platform).\n",
    "Proficiency in programming languages such as Python, Java, or Scala, with experience in developing and deploying production-grade code for AI/ML applications.\n",
    "Solid understanding of distributed computing principles, big data technologies, and cloud-based data processing frameworks (e.g., Apache Spark, Hadoop).\n",
    "Experience with containerization and orchestration technologies (e.g., Docker, Kubernetes) for deploying and managing AI/ML workloads in cloud environments.\n",
    "Excellent problem-solving skills, with the ability to analyze complex data, identify patterns, and develop innovative AI/ML solutions to address business challenges.\n",
    "Strong communication and interpersonal skills, with the ability to collaborate effectively with multidisciplinary teams and stakeholders.\n",
    "Experience with DevOps practices and Agile software development methodologies and familiarity with tools such as Jira, Confluence, or similar for Agile project management.\n",
    "Willing to work on a startup like environment - fast paced, challenging.\n",
    "Advanced degree (e.g., Master’s) in Computer Science, Artificial Intelligence, Machine Learning, or related field.\n",
    "Certifications in AI/ML (e.g., AWS Certified Machine Learning Specialty, Microsoft Certified: Azure AI Engineer Associate) and cloud platforms.\n",
    " Experience with deep learning techniques and neural network architectures for computer vision, natural language processing, or reinforcement learning.\n",
    "Knowledge of data engineering principles and practices, including data pipeline development, data warehousing, and ETL processes.\n",
    "Familiarity with MLOps practices and tools for managing the lifecycle of AI/ML models in production environments.\n",
    "Experience with streaming data processing technologies (e.g., Apache Kafka, Amazon Kinesis) for real-time AI/ML applications.\n",
    "Strong understanding of data privacy regulations (e.g., GDPR, HIPAA) and experience implementing compliance controls in AI/ML solutions.\n",
    "Contributions to open-source AI/ML projects or publications in peer-reviewed journals/conferences.\n",
    "\n",
    "\"\"\"\n",
    "Combined_Job_Description = (\n",
    "        f\"Job Description:\\n {job_description}\\n\"\n",
    "        f\"Job Responsibilities:\\n {job_responsibilities}\\n\"\n",
    "        f\"Job Requirements:\\n {job_requirements}\"\n",
    "    )"
   ]
  },
  {
   "cell_type": "code",
   "execution_count": 67,
   "metadata": {},
   "outputs": [
    {
     "data": {
      "text/plain": [
       "'{\\n  \"Skills\": [\\n    \"AI/ML algorithms\",\\n    \"Frameworks and libraries (e.g., TensorFlow, PyTorch, scikit-learn)\",\\n    \"Cloud platforms (e.g., AWS, Azure, Google Cloud Platform)\",\\n    \"Cloud-native services for AI/ML (e.g., AWS SageMaker, Azure Machine Learning, Google AI Platform)\",\\n    \"Python, Java, or Scala\",\\n    \"Distributed computing principles\",\\n    \"Big data technologies (e.g., Apache Spark, Hadoop)\",\\n    \"Containerization and orchestration technologies (e.g., Docker, Kubernetes)\",\\n    \"DevOps practices and Agile software development methodologies\",\\n    \"Jira, Confluence, or similar for Agile project management\",\\n    \"Deep learning techniques and neural network architectures\",\\n    \"Data engineering principles and practices\",\\n    \"MLOps practices and tools\",\\n    \"Streaming data processing technologies (e.g., Apache Kafka, Amazon Kinesis)\",\\n    \"Data privacy regulations (e.g., GDPR, HIPAA)\"\\n    ]\\n}'"
      ]
     },
     "execution_count": 67,
     "metadata": {},
     "output_type": "execute_result"
    }
   ],
   "source": [
    "prompt = PromptTemplate.from_template(jd_skill_extracter)\n",
    "chain = prompt | chat | output_parser\n",
    "result = chain.invoke({\"job_description\": Combined_Job_Description})\n",
    "result"
   ]
  },
  {
   "cell_type": "code",
   "execution_count": 68,
   "metadata": {},
   "outputs": [
    {
     "name": "stdout",
     "output_type": "stream",
     "text": [
      "['AI/ML algorithms', 'Frameworks and libraries (e.g., TensorFlow, PyTorch, scikit-learn)', 'Cloud platforms (e.g., AWS, Azure, Google Cloud Platform)', 'Cloud-native services for AI/ML (e.g., AWS SageMaker, Azure Machine Learning, Google AI Platform)', 'Python, Java, or Scala', 'Distributed computing principles', 'Big data technologies (e.g., Apache Spark, Hadoop)', 'Containerization and orchestration technologies (e.g., Docker, Kubernetes)', 'DevOps practices and Agile software development methodologies', 'Jira, Confluence, or similar for Agile project management', 'Deep learning techniques and neural network architectures', 'Data engineering principles and practices', 'MLOps practices and tools', 'Streaming data processing technologies (e.g., Apache Kafka, Amazon Kinesis)', 'Data privacy regulations (e.g., GDPR, HIPAA)']\n"
     ]
    }
   ],
   "source": [
    "result = json.loads(result)\n",
    "result = result['Skills']\n",
    "print(result)"
   ]
  },
  {
   "cell_type": "code",
   "execution_count": null,
   "metadata": {},
   "outputs": [],
   "source": []
  },
  {
   "cell_type": "code",
   "execution_count": null,
   "metadata": {},
   "outputs": [],
   "source": []
  },
  {
   "cell_type": "code",
   "execution_count": null,
   "metadata": {},
   "outputs": [],
   "source": []
  },
  {
   "cell_type": "code",
   "execution_count": null,
   "metadata": {},
   "outputs": [],
   "source": []
  },
  {
   "cell_type": "code",
   "execution_count": null,
   "metadata": {},
   "outputs": [],
   "source": []
  }
 ],
 "metadata": {
  "kernelspec": {
   "display_name": "hireai",
   "language": "python",
   "name": "python3"
  },
  "language_info": {
   "codemirror_mode": {
    "name": "ipython",
    "version": 3
   },
   "file_extension": ".py",
   "mimetype": "text/x-python",
   "name": "python",
   "nbconvert_exporter": "python",
   "pygments_lexer": "ipython3",
   "version": "3.10.14"
  }
 },
 "nbformat": 4,
 "nbformat_minor": 2
}
