{
 "cells": [
  {
   "cell_type": "code",
   "execution_count": 26,
   "metadata": {},
   "outputs": [],
   "source": [
    "from langchain_community.document_loaders import DirectoryLoader\n",
    "import os"
   ]
  },
  {
   "cell_type": "code",
   "execution_count": 19,
   "metadata": {},
   "outputs": [],
   "source": [
    "loader = DirectoryLoader('./data/')"
   ]
  },
  {
   "cell_type": "markdown",
   "metadata": {},
   "source": [
    "#### NOTE: INstalll  tesseract on ubuntu machine outside python env :\n",
    "sudo apt-get install tesseract-ocr\n"
   ]
  },
  {
   "cell_type": "code",
   "execution_count": 20,
   "metadata": {},
   "outputs": [
    {
     "name": "stderr",
     "output_type": "stream",
     "text": [
      "This function will be deprecated in a future release and `unstructured` will simply use the DEFAULT_MODEL from `unstructured_inference.model.base` to set default model name\n"
     ]
    }
   ],
   "source": [
    "docs = loader.load()"
   ]
  },
  {
   "cell_type": "code",
   "execution_count": 21,
   "metadata": {},
   "outputs": [
    {
     "data": {
      "text/plain": [
       "1"
      ]
     },
     "execution_count": 21,
     "metadata": {},
     "output_type": "execute_result"
    }
   ],
   "source": [
    "len(docs)"
   ]
  },
  {
   "cell_type": "code",
   "execution_count": 22,
   "metadata": {},
   "outputs": [
    {
     "data": {
      "text/plain": [
       "[Document(page_content='Thanseeh Yaseen\\n\\nPython Full Stack Developer yaseenkdr27@gmail.com | +91 8138845494\\n\\nLINKS GitHub: Thanseeeh LinkedIn: thanseehyaseen LeetCode: thanseeeh\\n\\nPROJECTS\\n\\nWORKX | Freelancers Platform Development Live Link | GitHub Repo: Frontend | Backend\\n\\nEDUCATION\\n\\n• WorkX, a versatile freelancers platform, leveraging expertise in React.js, Python Django, and Django Rest Framework.\\n\\nWEB DEVELOPMENT USING PYTHON DJANGO + REACT Brototype, Calicut 2023 - 2024\\n\\n• Within this dynamic environment, freelancers could showcase their skills through engaging Gigs, seamlessly connecting with Clients.\\n\\n• Implemented secure escrow payment systems, ensuring transaction safety.\\n\\nBACHELOR OF COMPUTER APPLICATION IGNOU, DELHI 2022 - 2025(ongoing)\\n\\n• Pioneered the integration of real-time messaging using WebSockets, enhancing communication between freelancers and clients within the platform.\\n\\nHIGHER SECONDARY RAJAS HSS, commerce 2021 - 2022\\n\\nTechnologies used: React, Django, Django REST framework, Context API, Simple JWT, PostgreSQL, Django Channels, Tailwind CSS\\n\\nRAZOPY | Token Marketplace Development Live Link | GitHub Repo: Razopy Repository\\n\\nSKILLS\\n\\n• Championed Razopy, a groundbreaking token-based marketplace, similar to NFT marketplaces from conception to launch.\\n\\nLANGUAGES Python, JavaScript, C, SQL\\n\\n• Utilized Python Django and incorporated cutting-edge technologies to create an intuitive platform empowering both creators and collectors.\\n\\nBACK-END DEVELOPMENT Python Django, Django ORM, JWT\\n\\nFRONT-END DEVELOPMENT HTML, CSS, Bootstrap, React, Tailwind\\n\\nDATABASES MySQL, PostgreSQL, MongoDB\\n\\nVERSION CONTROL Git\\n\\n• Seamlessly mint and list tokens, transforming digital creations into tangible assets.\\n\\n• Engineered real-time bidding for high-demand tokens, fostering excitement and engagement.\\n\\n• Ensured secure transactions by integrating Razorpay, enhancing the overall trust and reliability of the platform.\\n\\nTechnologies used: Django, Razorpay, Bootstrap, Twilio, SMTP, PostgreSQL\\n\\nDEPLOYMENT AWS, Render, Vercel\\n\\nMINI PROJECTS\\n\\nAPI TESTING Postman\\n\\nWEATHER APP | GitHub Repo: Weather Application\\n\\nFAMILIAR WITH TypeScript, Bash, Gunicorn, Nginx, Firebase, Figma, Twilio, SMTP, Docker\\n\\n• Designed a user-friendly weather app using React and CSS, leveraging OpenWeatherMap API to provide users with up-to-date weather data.\\n\\nINTERNAL MANAGEMENT APP | GitHub Repo: NeslinAqua\\n\\n• Developed a Python-Django based project for a client, NeslinAqua Distributors: Revenue and Business Management project.', metadata={'source': 'data/Resume-ThanseehYaseen (1).pdf'})]"
      ]
     },
     "execution_count": 22,
     "metadata": {},
     "output_type": "execute_result"
    }
   ],
   "source": [
    "docs"
   ]
  },
  {
   "cell_type": "code",
   "execution_count": 23,
   "metadata": {},
   "outputs": [
    {
     "data": {
      "text/plain": [
       "'Thanseeh Yaseen\\n\\nPython Full Stack Developer yaseenkdr27@gmail.com | +91 8138845494\\n\\nLINKS GitHub: Thanseeeh LinkedIn: thanseehyaseen LeetCode: thanseeeh\\n\\nPROJECTS\\n\\nWORKX | Freelancers Platform Development Live Link | GitHub Repo: Frontend | Backend\\n\\nEDUCATION\\n\\n• WorkX, a versatile freelancers platform, leveraging expertise in React.js, Python Django, and Django Rest Framework.\\n\\nWEB DEVELOPMENT USING PYTHON DJANGO + REACT Brototype, Calicut 2023 - 2024\\n\\n• Within this dynamic environment, freelancers could showcase their skills through engaging Gigs, seamlessly connecting with Clients.\\n\\n• Implemented secure escrow payment systems, ensuring transaction safety.\\n\\nBACHELOR OF COMPUTER APPLICATION IGNOU, DELHI 2022 - 2025(ongoing)\\n\\n• Pioneered the integration of real-time messaging using WebSockets, enhancing communication between freelancers and clients within the platform.\\n\\nHIGHER SECONDARY RAJAS HSS, commerce 2021 - 2022\\n\\nTechnologies used: React, Django, Django REST framework, Context API, Simple JWT, PostgreSQL, Django Channels, Tailwind CSS\\n\\nRAZOPY | Token Marketplace Development Live Link | GitHub Repo: Razopy Repository\\n\\nSKILLS\\n\\n• Championed Razopy, a groundbreaking token-based marketplace, similar to NFT marketplaces from conception to launch.\\n\\nLANGUAGES Python, JavaScript, C, SQL\\n\\n• Utilized Python Django and incorporated cutting-edge technologies to create an intuitive platform empowering both creators and collectors.\\n\\nBACK-END DEVELOPMENT Python Django, Django ORM, JWT\\n\\nFRONT-END DEVELOPMENT HTML, CSS, Bootstrap, React, Tailwind\\n\\nDATABASES MySQL, PostgreSQL, MongoDB\\n\\nVERSION CONTROL Git\\n\\n• Seamlessly mint and list tokens, transforming digital creations into tangible assets.\\n\\n• Engineered real-time bidding for high-demand tokens, fostering excitement and engagement.\\n\\n• Ensured secure transactions by integrating Razorpay, enhancing the overall trust and reliability of the platform.\\n\\nTechnologies used: Django, Razorpay, Bootstrap, Twilio, SMTP, PostgreSQL\\n\\nDEPLOYMENT AWS, Render, Vercel\\n\\nMINI PROJECTS\\n\\nAPI TESTING Postman\\n\\nWEATHER APP | GitHub Repo: Weather Application\\n\\nFAMILIAR WITH TypeScript, Bash, Gunicorn, Nginx, Firebase, Figma, Twilio, SMTP, Docker\\n\\n• Designed a user-friendly weather app using React and CSS, leveraging OpenWeatherMap API to provide users with up-to-date weather data.\\n\\nINTERNAL MANAGEMENT APP | GitHub Repo: NeslinAqua\\n\\n• Developed a Python-Django based project for a client, NeslinAqua Distributors: Revenue and Business Management project.'"
      ]
     },
     "execution_count": 23,
     "metadata": {},
     "output_type": "execute_result"
    }
   ],
   "source": [
    "docs[0].page_content"
   ]
  },
  {
   "cell_type": "markdown",
   "metadata": {},
   "source": [
    "## Groq"
   ]
  },
  {
   "cell_type": "code",
   "execution_count": 46,
   "metadata": {},
   "outputs": [],
   "source": [
    "from langchain_core.prompts import ChatPromptTemplate\n",
    "from langchain_core.prompts import PromptTemplate\n",
    "from langchain_groq import ChatGroq\n",
    "from langchain.schema.output_parser import StrOutputParser"
   ]
  },
  {
   "cell_type": "code",
   "execution_count": 27,
   "metadata": {},
   "outputs": [],
   "source": [
    "from dotenv import load_dotenv\n",
    "load_dotenv()\n",
    "\n",
    "os.environ['GROQ_API_KEY'] = os.environ.get('GROQ_API_KEY')"
   ]
  },
  {
   "cell_type": "code",
   "execution_count": 28,
   "metadata": {},
   "outputs": [],
   "source": [
    "chat = ChatGroq(temperature=0, model_name=\"mixtral-8x7b-32768\")"
   ]
  },
  {
   "cell_type": "code",
   "execution_count": 31,
   "metadata": {},
   "outputs": [
    {
     "data": {
      "text/plain": [
       "AIMessage(content='Candidate Name: Thanseeh Yaseen\\n\\nEmail: yaseenkdr27@gmail.com\\n\\nSkills:\\n\\n1. Python\\n2. JavaScript\\n3. C\\n4. SQL\\n5. HTML\\n6. CSS\\n7. Bootstrap\\n8. React\\n9. Tailwind\\n10. Git\\n11. Python Django\\n12. Django ORM\\n13. JWT\\n14. MySQL\\n15. PostgreSQL\\n16. MongoDB\\n17. Version Control\\n18. AWS\\n19. Render\\n20. Vercel\\n21. TypeScript\\n22. Bash\\n23. Gunicorn\\n24. Nginx\\n25. Firebase\\n26. Figma\\n27. Twilio\\n28. SMTP\\n29. Docker\\n\\nTechnologies:\\n\\n1. React.js\\n2. Python\\n3. Django\\n4. Django Rest Framework\\n5. Context API\\n6. Simple JWT\\n7. PostgreSQL\\n8. Django Channels\\n9. Tailwind CSS\\n10. Razorpay\\n11. Bootstrap\\n12. Twilio\\n13. SMTP\\n14. PostgreSQL\\n15. OpenWeatherMap API\\n16. Open source projects: Weather Application, NeslinAqua Distributors project.', response_metadata={'token_usage': {'completion_time': 0.577, 'completion_tokens': 318, 'prompt_time': 0.742, 'prompt_tokens': 826, 'queue_time': None, 'total_time': 1.319, 'total_tokens': 1144}, 'model_name': 'mixtral-8x7b-32768', 'system_fingerprint': 'fp_c5f20b5bb1', 'finish_reason': 'stop', 'logprobs': None}, id='run-bbb2b523-ecb3-4b8b-8593-e9b2263a1566-0')"
      ]
     },
     "execution_count": 31,
     "metadata": {},
     "output_type": "execute_result"
    }
   ],
   "source": [
    "system = \"You are a helpful information extracter.you want to extract from resume_content given below.you want to extract candidate name,email,skills,technologies.\"\n",
    "human = \"{resume_content}\"\n",
    "prompt = ChatPromptTemplate.from_messages([(\"system\", system), (\"human\", human)])\n",
    "\n",
    "chain = prompt | chat \n",
    "chain.invoke({\"resume_content\": docs[0].page_content})"
   ]
  },
  {
   "cell_type": "code",
   "execution_count": 35,
   "metadata": {},
   "outputs": [],
   "source": [
    "output_parser = StrOutputParser()"
   ]
  },
  {
   "cell_type": "code",
   "execution_count": 36,
   "metadata": {},
   "outputs": [
    {
     "data": {
      "text/plain": [
       "'{\\n\"candidate\\\\_name\": \"Thanseeeh Yaseen\",\\n\"email\": \"yaseenkdr27@gmail.com\",\\n\"skills\": [\\n\"Python\",\\n\"JavaScript\",\\n\"C\",\\n\"SQL\",\\n\"HTML\",\\n\"CSS\",\\n\"Bootstrap\",\\n\"React\",\\n\"Tailwind\",\\n\"Python Django\",\\n\"Django ORM\",\\n\"JWT\",\\n\"MySQL\",\\n\"PostgreSQL\",\\n\"MongoDB\",\\n\"Git\",\\n\"Razorpay\",\\n\"Django Channels\",\\n\"TypeScript\",\\n\"Bash\",\\n\"Gunicorn\",\\n\"Nginx\",\\n\"Firebase\",\\n\"Figma\",\\n\"Twilio\",\\n\"SMTP\",\\n\"Docker\"\\n],\\n\"technologies\": [\\n\"React.js\",\\n\"Python Django\",\\n\"Django Rest Framework\",\\n\"WebSockets\",\\n\"PostgreSQL\",\\n\"React\",\\n\"Django\",\\n\"Razorpay\",\\n\"Bootstrap\",\\n\"Twilio\",\\n\"SMTP\",\\n\"PostgreSQL\",\\n\"AWS\",\\n\"Render\",\\n\"Vercel\"\\n]\\n}'"
      ]
     },
     "execution_count": 36,
     "metadata": {},
     "output_type": "execute_result"
    }
   ],
   "source": [
    "system = \"You are a helpful information extracter.you want to extract from resume_content given below.you want to extract candidate name,email,skills,technologies.give output in json format\"\n",
    "human = \"{resume_content}\"\n",
    "prompt = ChatPromptTemplate.from_messages([(\"system\", system), (\"human\", human)])\n",
    "\n",
    "chain = prompt | chat | output_parser\n",
    "chain.invoke({\"resume_content\": docs[0].page_content})"
   ]
  },
  {
   "cell_type": "code",
   "execution_count": 40,
   "metadata": {},
   "outputs": [],
   "source": [
    "system = \"You are a helpful information extracter.you want to extract from resume_content given below.you want to extract candidate name,email,skills,technologies.give output in json format\"\n",
    "human = \"{resume_content}\"\n",
    "prompt = ChatPromptTemplate.from_messages([(\"system\", system), (\"human\", human)])\n",
    "\n",
    "chain = prompt | chat \n",
    "result =chain.invoke({\"resume_content\": docs[0].page_content})"
   ]
  },
  {
   "cell_type": "code",
   "execution_count": 50,
   "metadata": {},
   "outputs": [],
   "source": [
    "# function for extracting data\n",
    "def get_resume_content():\n",
    "    loader = DirectoryLoader('./data/')\n",
    "    docs = loader.load()\n",
    "    return docs[0].page_content\n",
    "    "
   ]
  },
  {
   "cell_type": "code",
   "execution_count": 45,
   "metadata": {},
   "outputs": [],
   "source": [
    "template = '''You are a helpful information extracter.you want to extract from resume_content given below.you want to extract candidate's name,phone,email,skills,technologies.\n",
    "and format the output like below:\n",
    "name : str\n",
    "email : str\n",
    "phone : str\n",
    "skills : list of strings\n",
    "technologies : list of strings\n",
    "\n",
    "{resume_content}\n",
    "'''"
   ]
  },
  {
   "cell_type": "code",
   "execution_count": 49,
   "metadata": {},
   "outputs": [
    {
     "data": {
      "text/plain": [
       "\"name : Thanseeeh Yaseen\\nemail : yaseenkdr27@gmail.com\\nphone : +91 8138845494\\nskills : ['Python', 'JavaScript', 'C', 'SQL', 'Python Django', 'HTML', 'CSS', 'Bootstrap', 'React', 'Tailwind', 'MySQL', 'PostgreSQL', 'MongoDB', 'Git', 'TypeScript', 'Bash', 'Gunicorn', 'Nginx', 'Firebase', 'Figma', 'Twilio', 'SMTP', 'Docker']\\ntechnologies : ['React.js', 'Python Django', 'Django Rest Framework', 'Context API', 'Simple JWT', 'PostgreSQL', 'Django Channels', 'Tailwind CSS', 'Python', 'Django ORM', 'JWT', 'Razorpay', 'Bootstrap', 'Twilio', 'SMTP', 'AWS', 'Render', 'Vercel']\""
      ]
     },
     "execution_count": 49,
     "metadata": {},
     "output_type": "execute_result"
    }
   ],
   "source": [
    "prompt = PromptTemplate.from_template(template)\n",
    "chain = prompt | chat | output_parser\n",
    "chain.invoke({\"resume_content\": docs[0].page_content})"
   ]
  },
  {
   "cell_type": "code",
   "execution_count": 53,
   "metadata": {},
   "outputs": [
    {
     "name": "stderr",
     "output_type": "stream",
     "text": [
      "This function will be deprecated in a future release and `unstructured` will simply use the DEFAULT_MODEL from `unstructured_inference.model.base` to set default model name\n"
     ]
    },
    {
     "name": "stdout",
     "output_type": "stream",
     "text": [
      "ARNOLD WOODS DevOps Engineer\n",
      "\n",
      "Arnow@email.com\n",
      "\n",
      "(123) 456-7890\n",
      "\n",
      "LinkedIn\n",
      "\n",
      "GitHub\n",
      "\n",
      "WORK EXPERIENCE Senior DevOps Engineer FanDuel\n",
      "\n",
      "July 2019 - current New York NY\n",
      "\n",
      "e\n",
      "\n",
      "e\n",
      "\n",
      "e\n",
      "\n",
      "e\n",
      "\n",
      "e\n",
      "\n",
      "e\n",
      "\n",
      "Worked with 50+ internal stakeholders, engineers, data scientists, cloud platform engineers, and other technologists across the business Managed development of a robust Cloud platform sitting on AWS architecture Shared best practices and guided 15+ engineers while implementing infrastructure as code, using CloudFormation and Terraform Collaborated with 3 engineering teams to help with AWS Role Management and provisioning AWS resources Managed 100% of existing AWS Cloud environments, automation, monitoring metrics, disaster recovery/backups, and capacity planning Ensured 100% of all project documentation was created and updated, including design, development, and deployment documentation\n",
      "\n",
      "Senior DevOps Engineer SiteRx\n",
      "\n",
      "January 2015 - July 2019 Remote\n",
      "\n",
      "e\n",
      "\n",
      "e\n",
      "\n",
      "e\n",
      "\n",
      "e\n",
      "\n",
      "e\n",
      "\n",
      "e\n",
      "\n",
      "Managed the transition between project planning and software deployment for 8 teams of 10 developers Owned and operated 100% of all conﬁguration and release management governance Collaborated with 20+ architects, senior engineers, and the engineering manager to deﬁne release management processes Spearheaded 100% of code repositories in GitHub and set up automated CI/CD pipeline for all product lines Deﬁned branching strategy, permissions, and access management for 10+ engineering teams Mentored 30+ junior software engineers in gaining experience and assuming DevOps responsibilities\n",
      "\n",
      "Brooklyn, NY\n",
      "\n",
      "SUMMARY DevOps engineer with 10 years of experience managing infrastructure for applications with millions of users. I have helped save over $1.75M by reducing infrastructure costs while improving performance. I am looking to apply that same drive at a successful company like Google.\n",
      "\n",
      "EDUCATION B.S. Computer Science University of Pittsburgh\n",
      "\n",
      "September 2008 - April 2012 Pittsburgh, PA\n",
      "\n",
      "SKILLS Azure AWS Git Jenkins Python Java Kubernetes Terraform Ansible Docker\n"
     ]
    }
   ],
   "source": [
    "resume_content = get_resume_content()\n",
    "print(resume_content)"
   ]
  },
  {
   "cell_type": "code",
   "execution_count": 54,
   "metadata": {},
   "outputs": [
    {
     "data": {
      "text/plain": [
       "\"name : ARNOLD WOODS\\nemail : Arnow@email.com\\nphone : (123) 456-7890\\nskills : ['Azure', 'AWS', 'Git', 'Jenkins', 'Python', 'Java', 'Kubernetes', 'Terraform', 'Ansible', 'Docker']\\ntechnologies : ['Azure', 'AWS', 'GitHub', 'CloudFormation', 'Terraform', 'Kubernetes', 'Python', 'Java', 'Jenkins', 'Ansible', 'Docker']\""
      ]
     },
     "execution_count": 54,
     "metadata": {},
     "output_type": "execute_result"
    }
   ],
   "source": [
    "prompt = PromptTemplate.from_template(template)\n",
    "chain = prompt | chat | output_parser\n",
    "chain.invoke({\"resume_content\": resume_content})"
   ]
  },
  {
   "cell_type": "code",
   "execution_count": null,
   "metadata": {},
   "outputs": [],
   "source": []
  },
  {
   "cell_type": "code",
   "execution_count": 61,
   "metadata": {},
   "outputs": [],
   "source": [
    "template = '''You are a helpful information extracter.you want to extract from resume_content given below.you want to extract candidate's name,phone,email,skills,technologies.\n",
    "and format the output like below:\n",
    "name : str,email : str,phone : str,skills : list of strings,technologies : list of strings\n",
    "if you can't extract please don't make your own answer,just blank that field.the output should be in JSON format\n",
    "\n",
    "{resume_content}\n",
    "'''"
   ]
  },
  {
   "cell_type": "code",
   "execution_count": 62,
   "metadata": {},
   "outputs": [],
   "source": [
    "prompt = PromptTemplate.from_template(template)\n",
    "chain = prompt | chat | output_parser\n",
    "result = chain.invoke({\"resume_content\": resume_content})"
   ]
  },
  {
   "cell_type": "code",
   "execution_count": 63,
   "metadata": {},
   "outputs": [
    {
     "data": {
      "text/plain": [
       "'{\\n\"name\" : \"ARNOLD WOODS\",\\n\"email\" : \"Arnow@email.com\",\\n\"phone\" : \"(123) 456-7890\",\\n\"skills\" : [\"Azure\",\"AWS\",\"Git\",\"Jenkins\",\"Python\",\"Java\",\"Kubernetes\",\"Terraform\",\"Ansible\",\"Docker\"],\\n\"technologies\" : [\"AWS\",\"GitHub\",\"CloudFormation\",\"Terraform\",\"CI/CD\",\"GitHub\",\"Kubernetes\",\"Python\",\"Java\",\"Ansible\",\"Docker\"]\\n}'"
      ]
     },
     "execution_count": 63,
     "metadata": {},
     "output_type": "execute_result"
    }
   ],
   "source": [
    "result"
   ]
  },
  {
   "cell_type": "code",
   "execution_count": 74,
   "metadata": {},
   "outputs": [
    {
     "name": "stdout",
     "output_type": "stream",
     "text": [
      "Error: Invalid JSON format\n",
      "Name: None\n",
      "Email: None\n",
      "Phone: None\n",
      "Skills: None\n",
      "Technologies: None\n"
     ]
    }
   ],
   "source": [
    "import json\n",
    "\n",
    "def parse_data(data_str):\n",
    "    # Initialize variables to store parsed values\n",
    "    name = email = phone = education = skills = technologies = None\n",
    "\n",
    "    try:\n",
    "        # Convert string to dictionary\n",
    "        data_dict = json.loads(data_str)\n",
    "\n",
    "        # Extract values if present\n",
    "        name = data_dict.get('name')\n",
    "        email = data_dict.get('email')\n",
    "        phone = data_dict.get('phone')\n",
    "        education = data_dict.get('education')\n",
    "        skills = data_dict.get('skills', [])\n",
    "        technologies = data_dict.get('technologies', [])\n",
    "\n",
    "        # Ensure skills and technologies are lists\n",
    "        if not isinstance(skills, list):\n",
    "            skills = [skills]\n",
    "        if not isinstance(technologies, list):\n",
    "            technologies = [technologies]\n",
    "\n",
    "    except json.JSONDecodeError:\n",
    "        print(\"Error: Invalid JSON format\")\n",
    "\n",
    "    return name, email, phone, education,skills, technologies\n",
    "\n",
    "# Example usage:\n",
    "data_str = '''{\n",
    "    \"name\": \"ARNOLD WOODS\",\n",
    "    \"email\": \"Arnow@email.com\",\n",
    "    \"phone\": \"(123) 456-7890\",\n",
    "    \"education: \"bsc \"\n",
    "    \"skills\": [\"Azure\", \"AWS\", \"Git\", \"Jenkins\", \"Python\", \"Java\", \"Kubernetes\", \"Terraform\", \"Ansible\", \"Docker\"],\n",
    "    \"technologies\": [\"AWS\", \"GitHub\", \"CloudFormation\", \"Terraform\", \"CI/CD\", \"Git\", \"Python\", \"Jenkins\", \"Kubernetes\", \"Ansible\", \"Docker\"]\n",
    "}'''\n",
    "\n",
    "name, email, phone,education, skills, technologies = parse_data(data_str)\n",
    "\n",
    "print(\"Name:\", name)\n",
    "print(\"Email:\", email)\n",
    "print(\"Phone:\", phone)\n",
    "print(\"Skills:\", skills)\n",
    "print(\"Technologies:\", technologies)\n"
   ]
  },
  {
   "cell_type": "code",
   "execution_count": 64,
   "metadata": {},
   "outputs": [],
   "source": [
    "name, email, phone, skills, technologies = parse_data(result)"
   ]
  },
  {
   "cell_type": "code",
   "execution_count": 65,
   "metadata": {},
   "outputs": [
    {
     "name": "stdout",
     "output_type": "stream",
     "text": [
      "Name: ARNOLD WOODS\n",
      "Email: Arnow@email.com\n",
      "Phone: (123) 456-7890\n",
      "Skills: ['Azure', 'AWS', 'Git', 'Jenkins', 'Python', 'Java', 'Kubernetes', 'Terraform', 'Ansible', 'Docker']\n",
      "Technologies: ['AWS', 'GitHub', 'CloudFormation', 'Terraform', 'CI/CD', 'GitHub', 'Kubernetes', 'Python', 'Java', 'Ansible', 'Docker']\n"
     ]
    }
   ],
   "source": [
    "print(\"Name:\", name)\n",
    "print(\"Email:\", email)\n",
    "print(\"Phone:\", phone)\n",
    "print(\"Skills:\", skills)\n",
    "print(\"Technologies:\", technologies)\n"
   ]
  },
  {
   "cell_type": "code",
   "execution_count": 66,
   "metadata": {},
   "outputs": [],
   "source": [
    "result_1 = '{\\n\"name\" : \"ARNOLD WOODS\",\\n\"phone\" : \"(123) 456-7890\",\\n\"skills\" : [\"Azure\",\"AWS\",\"Git\",\"Jenkins\",\"Python\",\"Java\",\"Kubernetes\",\"Terraform\",\"Ansible\",\"Docker\"],\\n\"technologies\" : [\"AWS\",\"GitHub\",\"CloudFormation\",\"Terraform\",\"CI/CD\",\"GitHub\",\"Kubernetes\",\"Python\",\"Java\",\"Ansible\",\"Docker\"]\\n}'\n"
   ]
  },
  {
   "cell_type": "code",
   "execution_count": 67,
   "metadata": {},
   "outputs": [],
   "source": [
    "name, email, phone, skills, technologies = parse_data(result_1)"
   ]
  },
  {
   "cell_type": "code",
   "execution_count": 68,
   "metadata": {},
   "outputs": [
    {
     "name": "stdout",
     "output_type": "stream",
     "text": [
      "Name: ARNOLD WOODS\n",
      "Email: None\n",
      "Phone: (123) 456-7890\n",
      "Skills: ['Azure', 'AWS', 'Git', 'Jenkins', 'Python', 'Java', 'Kubernetes', 'Terraform', 'Ansible', 'Docker']\n",
      "Technologies: ['AWS', 'GitHub', 'CloudFormation', 'Terraform', 'CI/CD', 'GitHub', 'Kubernetes', 'Python', 'Java', 'Ansible', 'Docker']\n"
     ]
    }
   ],
   "source": [
    "print(\"Name:\", name)\n",
    "print(\"Email:\", email)\n",
    "print(\"Phone:\", phone)\n",
    "print(\"Skills:\", skills)\n",
    "print(\"Technologies:\", technologies)"
   ]
  },
  {
   "cell_type": "code",
   "execution_count": 70,
   "metadata": {},
   "outputs": [],
   "source": [
    "## Extracting Education\n",
    "template = '''You are a helpful information extracter.you want to extract from resume_content given below.you want to extract candidate's name,phone,email,education,skills,technologies.\n",
    "and format the output like below:\n",
    "name : str,email : str,phone : str,education:str,skills : list of strings,technologies : list of strings\n",
    "if you can't extract please don't make your own answer,just blank that field.the output should be in JSON format\n",
    "\n",
    "{resume_content}\n",
    "'''"
   ]
  },
  {
   "cell_type": "code",
   "execution_count": 71,
   "metadata": {},
   "outputs": [],
   "source": [
    "prompt = PromptTemplate.from_template(template)\n",
    "chain = prompt | chat | output_parser\n",
    "result = chain.invoke({\"resume_content\": resume_content})"
   ]
  },
  {
   "cell_type": "code",
   "execution_count": 72,
   "metadata": {},
   "outputs": [
    {
     "data": {
      "text/plain": [
       "'{\\n\"name\" : \"ARNOLD WOODS\",\\n\"email\" : \"Arnow@email.com\",\\n\"phone\" : \"(123) 456-7890\",\\n\"education\" : \"B.S. Computer Science University of Pittsburgh\",\\n\"skills\" : [\"Azure\",\"AWS\",\"Git\",\"Jenkins\",\"Python\",\"Java\",\"Kubernetes\",\"Terraform\",\"Ansible\",\"Docker\"],\\n\"technologies\" : [\"AWS\",\"GitHub\",\"CloudFormation\",\"Terraform\",\"Kubernetes\",\"GitHub\",\"Azure\",\"Python\",\"Java\",\"Jenkins\",\"Ansible\",\"Docker\"]\\n}'"
      ]
     },
     "execution_count": 72,
     "metadata": {},
     "output_type": "execute_result"
    }
   ],
   "source": [
    "result"
   ]
  },
  {
   "cell_type": "code",
   "execution_count": 76,
   "metadata": {},
   "outputs": [],
   "source": [
    "name, email, phone,education, skills, technologies = parse_data(result)"
   ]
  },
  {
   "cell_type": "code",
   "execution_count": 77,
   "metadata": {},
   "outputs": [
    {
     "name": "stdout",
     "output_type": "stream",
     "text": [
      "Name: ARNOLD WOODS\n",
      "Email: Arnow@email.com\n",
      "Phone: (123) 456-7890\n",
      "Education B.S. Computer Science University of Pittsburgh\n",
      "Skills: ['Azure', 'AWS', 'Git', 'Jenkins', 'Python', 'Java', 'Kubernetes', 'Terraform', 'Ansible', 'Docker']\n",
      "Technologies: ['AWS', 'GitHub', 'CloudFormation', 'Terraform', 'Kubernetes', 'GitHub', 'Azure', 'Python', 'Java', 'Jenkins', 'Ansible', 'Docker']\n"
     ]
    }
   ],
   "source": [
    "print(\"Name:\", name)\n",
    "print(\"Email:\", email)\n",
    "print(\"Phone:\", phone)\n",
    "print(\"Education\",education)\n",
    "print(\"Skills:\", skills)\n",
    "print(\"Technologies:\", technologies)"
   ]
  },
  {
   "cell_type": "code",
   "execution_count": 84,
   "metadata": {},
   "outputs": [],
   "source": [
    "def get_user_detials():\n",
    "    resume_content = get_resume_content()\n",
    "    prompt = PromptTemplate.from_template(template)\n",
    "    chain = prompt | chat | output_parser\n",
    "    result = chain.invoke({\"resume_content\": resume_content})\n",
    "    name,email,phone,education,skills,technologies = parse_data(result)\n",
    "\n",
    "    return name,email,phone,education,skills,technologies\n",
    "    \n",
    "    "
   ]
  },
  {
   "cell_type": "code",
   "execution_count": 85,
   "metadata": {},
   "outputs": [
    {
     "name": "stderr",
     "output_type": "stream",
     "text": [
      "This function will be deprecated in a future release and `unstructured` will simply use the DEFAULT_MODEL from `unstructured_inference.model.base` to set default model name\n"
     ]
    }
   ],
   "source": [
    "name,email,phone,education,skills,technologies = get_user_detials()"
   ]
  },
  {
   "cell_type": "code",
   "execution_count": 86,
   "metadata": {},
   "outputs": [
    {
     "name": "stdout",
     "output_type": "stream",
     "text": [
      "Name: Thanseeh Yaseen\n",
      "Email: yaseenkdr27@gmail.com\n",
      "Phone: +91 8138845494\n",
      "Education WORKX, a versatile freelancers platform, Bachelor of Computer Application IGNOU, DELHI, HIGHER SECONDARY RAJAS HSS\n",
      "Skills: ['Python', 'JavaScript', 'C', 'SQL', 'HTML', 'CSS', 'Bootstrap', 'React', 'Tailwind', 'Python Django', 'Django ORM', 'JWT', 'MySQL', 'MongoDB', 'Git', 'TypeScript', 'Bash', 'Gunicorn', 'Nginx', 'Firebase', 'Figma', 'Twilio', 'SMTP', 'Docker']\n",
      "Technologies: ['React.js', 'Python Django', 'Django Rest Framework', 'Context API', 'Simple JWT', 'PostgreSQL', 'Django Channels', 'Tailwind CSS', 'Razorpay', 'Bootstrap', 'Twilio', 'SMTP', 'Django', 'Razorpay', 'PostgreSQL']\n"
     ]
    }
   ],
   "source": [
    "print(\"Name:\", name)\n",
    "print(\"Email:\", email)\n",
    "print(\"Phone:\", phone)\n",
    "print(\"Education\",education)\n",
    "print(\"Skills:\", skills)\n",
    "print(\"Technologies:\", technologies)"
   ]
  },
  {
   "cell_type": "code",
   "execution_count": 87,
   "metadata": {},
   "outputs": [
    {
     "name": "stderr",
     "output_type": "stream",
     "text": [
      "This function will be deprecated in a future release and `unstructured` will simply use the DEFAULT_MODEL from `unstructured_inference.model.base` to set default model name\n"
     ]
    },
    {
     "name": "stdout",
     "output_type": "stream",
     "text": [
      "Name: Zaheer K Z\n",
      "Email: zaheer.work24@gmail.com\n",
      "Phone: +91 9482961051\n",
      "Education BCA University of Mysore 2019 - 2022, CGPA - 8.3\n",
      "Skills: ['Python', 'C', 'Supervised & Unsupervised Learning', 'Exploratory Data Analysis', 'Feature Engineering', 'Natural Language Processing', 'Deep Learning', 'CNN', 'RNN', 'Generative AI', 'GAN', 'Transformers', 'Transfer Learning', 'Large Language Models', 'PostgreSQL', 'Vector Database', 'Git & GitHub', 'Data Structures & Algorithms', 'Statistics and Probability', 'TensorFlow', 'PyTorch', 'Keras', 'NumPy', 'Pandas', 'scikit-learn', 'Matplotlib', 'Seaborn', 'OpenCV', 'spaCy', 'MLOps', 'LangChain', 'FastAPI', 'Django', 'Flask', 'Kaggle', 'Jovain', 'Google Colab', 'Docker', 'CI/CD Pipelines', 'C++', 'Java']\n",
      "Technologies: ['Python', 'Transformers', 'LLM’s', 'NumPy', 'Django', 'AWS', 'PostgreSQL', 'Vector Database', 'Python', 'Deep Learning', 'MLOps', 'Docker', 'AWS', 'Flask', 'YOLO', 'Gradio']\n"
     ]
    }
   ],
   "source": [
    "name,email,phone,education,skills,technologies = get_user_detials()\n",
    "print(\"Name:\", name)\n",
    "print(\"Email:\", email)\n",
    "print(\"Phone:\", phone)\n",
    "print(\"Education\",education)\n",
    "print(\"Skills:\", skills)\n",
    "print(\"Technologies:\", technologies)"
   ]
  },
  {
   "cell_type": "code",
   "execution_count": 88,
   "metadata": {},
   "outputs": [
    {
     "name": "stderr",
     "output_type": "stream",
     "text": [
      "This function will be deprecated in a future release and `unstructured` will simply use the DEFAULT_MODEL from `unstructured_inference.model.base` to set default model name\n"
     ]
    },
    {
     "name": "stdout",
     "output_type": "stream",
     "text": [
      "Name: Mohammed Shaneeb\n",
      "Email: shaneebkottakkal@gmail.com\n",
      "Phone: 8304046116\n",
      "Education \n",
      "Skills: ['Python', 'Python Data Science', 'Numpy', 'Sklearn', 'Tensorflow', 'Keras', 'Transfomers', 'NLP', 'RNN', 'Spacy', 'Embedding', 'Word2vec', 'LLM', 'Sentence Transformers', 'OpenAI', 'PEFT', 'QLORA', 'Gemma', 'Falcon', 'Langchain', 'Vector Database', 'Chroma DB', 'FastAPI', 'Version Control', 'AWS', 'AWS RDS', 'MySQL', 'Git']\n",
      "Technologies: ['Machine Learning', 'Deep Learning', 'Pandas', 'Classification', 'Pytorch', 'Bert', 'LSTM', 'Llama2', 'LORA', 'Mistral', 'FAISS', 'Django', 'Flask', 'GCP', 'MySQL', 'Git', 'Numpy', 'Keras', 'NLP', 'RNN', 'Spacy', 'LLM', 'OpenDL', 'PEFT', 'QLORA', 'Gemma', 'Falcon', 'FastAPI', 'AWS RDS', 'SQL', 'Langchain', 'MySQL', 'Python', 'GPT-3.5', 'PandasAI', 'Firebase', 'html', 'css', 'SQLAgent', 'Neural Networks', 'Bag of Words', 'Streamlit', 'Faiss', 'Chatbot', 'Logistic Regression', 'Breast Cancer Prediction']\n"
     ]
    }
   ],
   "source": [
    "name,email,phone,education,skills,technologies = get_user_detials()\n",
    "print(\"Name:\", name)\n",
    "print(\"Email:\", email)\n",
    "print(\"Phone:\", phone)\n",
    "print(\"Education:\",education)\n",
    "print(\"Skills:\", skills)\n",
    "print(\"Technologies:\", technologies)"
   ]
  },
  {
   "cell_type": "code",
   "execution_count": 89,
   "metadata": {},
   "outputs": [
    {
     "name": "stderr",
     "output_type": "stream",
     "text": [
      "This function will be deprecated in a future release and `unstructured` will simply use the DEFAULT_MODEL from `unstructured_inference.model.base` to set default model name\n"
     ]
    },
    {
     "name": "stdout",
     "output_type": "stream",
     "text": [
      "Name: B E L LA T R E V I N O\n",
      "Email: bellatrevino@email.com\n",
      "Phone: (123) 456-7890\n",
      "Education: B.S. Computer Science University of Illinois Chicago 2016 - 2020 Chicago, IL GPA: 3.9 Presidential Scholarship Cum Laude Society Dean's List (6/8 semesters)\n",
      "Skills: ['JavaScript', 'HTML/ CSS', 'Python (Django)', 'SQL (PostgreSQL, Oracle)', 'REST APIs', 'Git']\n",
      "Technologies: ['Node', 'React', 'Angular', 'HTML/CSS', 'Python (Django)', 'SQL (PostgreSQL, Oracle)', 'REST APIs', 'Git', 'Django', 'Node', 'scikit-learn', 'Instagram APIs', 'Twitter APIs']\n"
     ]
    }
   ],
   "source": [
    "name,email,phone,education,skills,technologies = get_user_detials()\n",
    "print(\"Name:\", name)\n",
    "print(\"Email:\", email)\n",
    "print(\"Phone:\", phone)\n",
    "print(\"Education:\",education)\n",
    "print(\"Skills:\", skills)\n",
    "print(\"Technologies:\", technologies)"
   ]
  }
 ],
 "metadata": {
  "kernelspec": {
   "display_name": "hireai",
   "language": "python",
   "name": "python3"
  },
  "language_info": {
   "codemirror_mode": {
    "name": "ipython",
    "version": 3
   },
   "file_extension": ".py",
   "mimetype": "text/x-python",
   "name": "python",
   "nbconvert_exporter": "python",
   "pygments_lexer": "ipython3",
   "version": "3.10.14"
  }
 },
 "nbformat": 4,
 "nbformat_minor": 2
}
