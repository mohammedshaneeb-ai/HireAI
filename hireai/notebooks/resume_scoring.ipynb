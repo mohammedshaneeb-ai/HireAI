{
 "cells": [
  {
   "cell_type": "code",
   "execution_count": 1,
   "metadata": {},
   "outputs": [
    {
     "data": {
      "text/plain": [
       "True"
      ]
     },
     "execution_count": 1,
     "metadata": {},
     "output_type": "execute_result"
    }
   ],
   "source": [
    "from langchain_core.prompts import PromptTemplate\n",
    "from langchain_groq import ChatGroq\n",
    "from langchain.schema.output_parser import StrOutputParser\n",
    "from dotenv import load_dotenv\n",
    "import os\n",
    "load_dotenv()"
   ]
  },
  {
   "cell_type": "code",
   "execution_count": 2,
   "metadata": {},
   "outputs": [],
   "source": [
    "chat = ChatGroq(temperature=0, model_name=\"mixtral-8x7b-32768\")"
   ]
  },
  {
   "cell_type": "code",
   "execution_count": 3,
   "metadata": {},
   "outputs": [],
   "source": [
    "template = \"\"\"\n",
    "you are a resume score calculator.I will give you resume content and job descriptoin. based on that please give me a score out of 10.\n",
    "Resume Content : {resume_content}\n",
    "Job Description : {job_description}\n",
    "\"\"\""
   ]
  },
  {
   "cell_type": "code",
   "execution_count": 13,
   "metadata": {},
   "outputs": [],
   "source": [
    "resume_content = \"\"\"\n",
    "'15', 'DAV I D K E E LA N', 'dkeelan@email.com', '25', '2', 'Devops', '\\\"[\\\\\\\"SQL\\\\\\\", \\\\\\\"Azure\\\\\\\", \\\\\\\"Java\\\\\\\", \\\\\\\"Hadoop\\\\\\\", \\\\\\\"AWS\\\\\\\", \\\\\\\"Python\\\\\\\"]\\\"', '\\\"[\\\\\\\"Spark MLib\\\\\\\", \\\\\\\"Azure\\\\\\\", \\\\\\\"Hadoop\\\\\\\", \\\\\\\"Plotly\\\\\\\", \\\\\\\"Dash\\\\\\\", \\\\\\\"MongoDB\\\\\\\", \\\\\\\"CyberCoders\\\\\\\", \\\\\\\"AWS\\\\\\\", \\\\\\\"Kafka\\\\\\\"]\\\"', 'https://tinyurl.com/22qv2ufe', '23', 'Bachelor of Science Engineering from Rutgers University from 2017 - 2021', '8547856985', 'DAV I D K E E LA N REMOTE DATA ENGINEER\\n\\nCONTACT\\n\\ndkeelan@email.com\\n\\ndkeelan@email.com (123) 456-7890 Hoboken, NJ LinkedIn Facebook\\n\\nLinkedIn Facebook\\n\\nCAREER OBJECTIVE\\n\\nCAREER OBJECTIVE Computer Science graduate with a passion for data. As a proven Data Engineer, I have combined my SQL, Python, and Java skills with working in a remote environment. I am willing to relocate anywhere globally or continue working remotely, and I look forward to a dynamic role with Google.\\n\\nEDUCATION\\n\\nEDUCATION Bachelor of Science Engineering Rutgers University 2017 - 2021 New Brunswick, NJ\\n\\nSKILLS\\n\\nSKILLS SQL Python Java Azure Hadoop AWS\\n\\nWORK EXPERIENCE\\n\\nWORK EXPERIENCE Remote Data Engineer CyberCoders 2019 - current / Lyndhurst, NJ\\n\\nSpearheaded expanding and optimizing 100% of data and data pipeline architecture Optimized data ﬂow for 4 cross-functional teams Organized software developers, data analysts, and data scientists on 29 data initiatives Managed optimal data delivery architectures ensuring consistency in 36 ongoing projects Conﬁrmed 100% of implemented solutions were unit tested and ready to be integrated Worked in a collaborative environment with 34 other data engineers, data scientists, and software engineers Participated in a collaborative, Agile environment to understand stakeholder requirements\\n\\nCERTIFICATIONS\\n\\nCERTIFICATIONS AWS\\n\\nPROJECTS\\n\\nPROJECTS Live Twitter Sentiment Analysis\\n\\nImplemented a 5-stage data pipeline for a project using data ingestion, a NiFi GetTwitter processor that had real-time tweets and ingested them into a messaging queue Collected in the Kafka topic Processed real-time data, structured streaming API, and analyzed with Spark MLib to gain the sentiment of tweets Used MongoDB to store processed and aggregated results Visualized results in interactive dashboards using Python\\'s Plotly and Dash libraries'\n",
    "\n",
    "\"\"\""
   ]
  },
  {
   "cell_type": "code",
   "execution_count": 14,
   "metadata": {},
   "outputs": [],
   "source": [
    "job_description = \"\"\"\n",
    "We are seeking a talented and experienced Android AI Solutions Developer to join our team in Kozhikode, Kerala. The ideal candidate will have a minimum of 4 years of hands-on experience in developing AI models and solutions specifically for Android platforms. Experience with TensorFlow is a plus. As part of our team, you will be responsible for designing, developing, and implementing AI-driven features and functionalities into our Android applications.\n",
    "Collaborate with cross-functional teams to understand project requirements and develop AI-driven solutions for Android applications.\n",
    "Design and implement AI models and algorithms optimized for mobile platforms.\n",
    "Integrate AI features seamlessly into Android applications, ensuring high performance and user experience.\n",
    "Conduct thorough testing and optimization to ensure the reliability and efficiency of AI models on Android devices.\n",
    "Stay up-to-date with the latest advancements in AI technologies and Android development practices.\n",
    "Bachelor's degree in Computer Science, Engineering, or related field.\n",
    "Minimum of 4 years of experience in Android application development, with a focus on AI-driven solutions.\n",
    "Proficiency in programming languages such as Java, Kotlin, or C++.\n",
    "Strong understanding of AI concepts, including machine learning, deep learning, and natural language processing.\n",
    "Experience with popular AI frameworks and libraries such as TensorFlow (preferred), PyTorch, or OpenCV.\n",
    "Solid knowledge of Android SDK, Android Studio, and related development tools.\n",
    "Excellent problem-solving skills and attention to detail.\n",
    "Ability to work effectively in a collaborative team environment.\n",
    "\"\"\""
   ]
  },
  {
   "cell_type": "code",
   "execution_count": 6,
   "metadata": {},
   "outputs": [],
   "source": [
    "project_name = 'Resume Scoring'\n",
    "os.environ[\"LANGCHAIN_TRACING_V2\"] = \"true\"\n",
    "os.environ[\"LANGCHAIN_PROJECT\"] = f\"Tracing Walkthrough - {project_name}\"\n",
    "os.environ[\"LANGCHAIN_ENDPOINT\"] = \"https://api.smith.langchain.com\"\n",
    "os.environ[\"LANGCHAIN_API_KEY\"] = os.environ.get('LANGCHAIN_API_KEY')\n"
   ]
  },
  {
   "cell_type": "code",
   "execution_count": 7,
   "metadata": {},
   "outputs": [],
   "source": [
    "output_parser = StrOutputParser()"
   ]
  },
  {
   "cell_type": "code",
   "execution_count": 8,
   "metadata": {},
   "outputs": [
    {
     "data": {
      "text/plain": [
       "'Based on the information provided, I will evaluate the resume content based on the job description and provide a score out of 10.\\n\\nResume Score: 6\\n\\nExplanation:\\n\\nThe candidate has a strong educational background and relevant skills for the job, such as SQL, Python, Java, Azure, Hadoop, and AWS. However, the job description specifically requires experience in Android application development, AI-driven solutions, and TensorFlow, which are not mentioned in the resume. The resume does showcase experience in data engineering, but it is not directly applicable to the job requirements.\\n\\nIf the candidate has any experience in Android development or AI-driven solutions, it would be beneficial to highlight that in the resume. Additionally, if the candidate has any experience with TensorFlow or similar AI frameworks, it would significantly improve the compatibility of the resume with the job description.\\n\\nIn summary, the candidate has a solid foundation in relevant skills, but the lack of specific experience in Android development and AI-driven solutions results in a lower score.'"
      ]
     },
     "execution_count": 8,
     "metadata": {},
     "output_type": "execute_result"
    }
   ],
   "source": [
    "\n",
    "prompt = PromptTemplate.from_template(template)\n",
    "chain = prompt | chat | output_parser\n",
    "chain.invoke({\"resume_content\":resume_content,\"job_description\": job_description})"
   ]
  },
  {
   "cell_type": "markdown",
   "metadata": {},
   "source": [
    "# returning in JSON Format"
   ]
  },
  {
   "cell_type": "code",
   "execution_count": 19,
   "metadata": {},
   "outputs": [],
   "source": [
    "template = \"\"\"\n",
    "you are a resume score calculator.I will give you resume content and job descriptoin. based on that please give me a score out of 10.\n",
    "you want to return the output in JSON format.\n",
    "\n",
    "Resume Content : {resume_content}\n",
    "Job Description : {job_description}\n",
    "\n",
    "I want to get out put in below JSON format:\n",
    "JSON output : \n",
    "    'Score' : score you give,\n",
    "    'Explanation' : reason why you give this score,\n",
    "    'Summary': summary\n",
    "\n",
    "\n",
    "\"\"\""
   ]
  },
  {
   "cell_type": "code",
   "execution_count": 20,
   "metadata": {},
   "outputs": [
    {
     "data": {
      "text/plain": [
       "'{\\n\"Score\": 7,\\n\"Explanation\": \"The resume has a strong educational background and relevant skills for a data engineer role. However, there is a lack of experience in Android development and AI technologies as required by the job description. The candidate has demonstrated experience in data engineering and relevant projects, but the focus on Android AI Solutions Development is not present.\",\\n\"Summary\": \"The candidate has a strong background in data engineering and relevant skills, but lacks the required experience in Android development and AI technologies for the job.\"\\n}'"
      ]
     },
     "execution_count": 20,
     "metadata": {},
     "output_type": "execute_result"
    }
   ],
   "source": [
    "prompt = PromptTemplate.from_template(template)\n",
    "chain = prompt | chat | output_parser\n",
    "chain.invoke({\"resume_content\":resume_content,\"job_description\": job_description})"
   ]
  },
  {
   "cell_type": "markdown",
   "metadata": {},
   "source": [
    "## Changing Prompt"
   ]
  },
  {
   "cell_type": "code",
   "execution_count": 22,
   "metadata": {},
   "outputs": [],
   "source": [
    "template = \"\"\"\n",
    "you are a resume score calculator.I will give you resume content and job descriptoin. based on that please give me a score out of 10.\n",
    "you want to return the output in JSON format.\n",
    "\n",
    "Resume Content : {resume_content}\n",
    "Job Description : {job_description}\n",
    "\n",
    "I want to get out put in below JSON format:\n",
    "JSON output : \n",
    "    'Score' : score you give,\n",
    "    'Explanation' : reason why you give this score,\n",
    "    'Missing': what are missing\n",
    "    'Summary': summary\n",
    "\n",
    "\n",
    "\"\"\""
   ]
  },
  {
   "cell_type": "code",
   "execution_count": 23,
   "metadata": {},
   "outputs": [
    {
     "data": {
      "text/plain": [
       "'{\\n  \"Score\": 7,\\n  \"Explanation\": \"The resume has strong experience and skills in data engineering, particularly in remote work. However, it lacks experience and skills in Android development and AI technologies which are required for the job description.\",\\n  \"Missing\": \"Experience in Android development, proficiency in Java, Kotlin, or C++, experience with TensorFlow or other AI frameworks, and knowledge of AI concepts such as machine learning, deep learning, and natural language processing.\",\\n  \"Summary\": \"The resume presents a strong candidate for a data engineering role, but lacks the specific experience and skills required for the Android AI Solutions Developer position.\"\\n}'"
      ]
     },
     "execution_count": 23,
     "metadata": {},
     "output_type": "execute_result"
    }
   ],
   "source": [
    "prompt = PromptTemplate.from_template(template)\n",
    "chain = prompt | chat | output_parser\n",
    "chain.invoke({\"resume_content\":resume_content,\"job_description\": job_description})"
   ]
  },
  {
   "cell_type": "markdown",
   "metadata": {},
   "source": [
    "## Next Prompt"
   ]
  },
  {
   "cell_type": "code",
   "execution_count": 24,
   "metadata": {},
   "outputs": [],
   "source": [
    "template = \"\"\"\n",
    "you are a resume score calculator.I will give you resume content and job descriptoin. based on that please give me a score out of 10.\n",
    "you want to return the output in JSON format.\n",
    "\n",
    "Resume Content : {resume_content}\n",
    "Job Description : {job_description}\n",
    "\n",
    "I want to get out put in below JSON format:\n",
    "JSON output : \n",
    "    'Score' : score you give,\n",
    "    'Have' : what have,\n",
    "    'Missing': what are missing,\n",
    "    'Summary': summary\n",
    "\n",
    "\n",
    "\"\"\""
   ]
  },
  {
   "cell_type": "code",
   "execution_count": 25,
   "metadata": {},
   "outputs": [
    {
     "data": {
      "text/plain": [
       "'{\\n  \"Score\": 7,\\n  \"Have\": {\\n    \"Education\": \"Relevant bachelor\\'s degree (Computer Science, Engineering, or related field)\",\\n    \"Experience\": \"Android application development (123) 456-7890 (not explicitly AI-driven solutions)\",\\n    \"Skills\": [\\n      \"Java\"\\n    ]\\n  },\\n  \"Missing\": {\\n    \"Experience\": \"4+ years of hands-on experience in developing AI models and solutions specifically for Android platforms, experience with TensorFlow\",\\n    \"Skills\": [\\n      \"Kotlin\",\\n      \"C++\",\\n      \"TensorFlow\",\\n      \"PyTorch\",\\n      \"OpenCV\",\\n      \"AI concepts (machine learning, deep learning, natural language processing)\",\\n      \"Android SDK\",\\n      \"Android Studio\"\\n    ]\\n  },\\n  \"Summary\": \"The candidate has a relevant education background and some experience in Android application development. However, they lack the required experience in AI-driven solutions for Android platforms and proficiency in various AI frameworks, libraries, and Android development tools.\"\\n}'"
      ]
     },
     "execution_count": 25,
     "metadata": {},
     "output_type": "execute_result"
    }
   ],
   "source": [
    "prompt = PromptTemplate.from_template(template)\n",
    "chain = prompt | chat | output_parser\n",
    "chain.invoke({\"resume_content\":resume_content,\"job_description\": job_description})"
   ]
  },
  {
   "cell_type": "markdown",
   "metadata": {},
   "source": [
    "## Confirmed Prompt 1"
   ]
  },
  {
   "cell_type": "code",
   "execution_count": 26,
   "metadata": {},
   "outputs": [],
   "source": [
    "template = \"\"\"\n",
    "you are a resume score calculator.I will give you resume content and job descriptoin. based on that please give me a score out of 10.\n",
    "you want to return the output in JSON format.\n",
    "\n",
    "\n",
    "Resume Content : {resume_content}\n",
    "Job Description : {job_description}\n",
    "\n",
    "I want to get out put in below JSON format:\n",
    "JSON output : \n",
    "    'Score' : score you give,\n",
    "    'Explanation' : reason why you give this score,\n",
    "    'Missing': what are missing,\n",
    "    'Summary': summary\n",
    "\n",
    "\n",
    "\"\"\""
   ]
  },
  {
   "cell_type": "code",
   "execution_count": 27,
   "metadata": {},
   "outputs": [
    {
     "data": {
      "text/plain": [
       "'{\\n\"Score\" : 7,\\n\"Explanation\" : \"The resume has strong skills and experience in data engineering, but lacks experience in Android development and AI solutions development which are required for the job description.\",\\n\"Missing\": \"The resume is missing experience in Android development, AI solutions development, and experience with TensorFlow. The resume also does not have a Bachelor\\'s degree in Computer Science, Engineering, or related field as required by the job description.\",\\n\"Summary\": \"The resume presents a strong background in data engineering with skills in SQL, Python, Java, Azure, Hadoop, AWS, and experience in remote data engineering. However, it is lacking in the specific requirements of the job description such as Android development, AI solutions development, and experience with TensorFlow.\"\\n}'"
      ]
     },
     "execution_count": 27,
     "metadata": {},
     "output_type": "execute_result"
    }
   ],
   "source": [
    "prompt = PromptTemplate.from_template(template)\n",
    "chain = prompt | chat | output_parser\n",
    "chain.invoke({\"resume_content\":resume_content,\"job_description\": job_description})"
   ]
  },
  {
   "cell_type": "code",
   "execution_count": 28,
   "metadata": {},
   "outputs": [],
   "source": [
    "resume_content = \"\"\"\n",
    "My Contact\n",
    "\n",
    "8» oe\n",
    "\n",
    "shaneebkottakkal@gmail.com\n",
    "\n",
    "8304046116\n",
    "\n",
    "Malappuram, Kerala, India\n",
    "\n",
    "www.linkedin.com/in/moham\n",
    "\n",
    "www.linkedin.com/in/moham med-shaneeb-ai www.linkedin.com/in/moham med-shaneeb-ai\n",
    "\n",
    "H\n",
    "\n",
    "Skills\n",
    "\n",
    "* Python\n",
    "\n",
    "Python Data Science Numpy Sklearn Tensorflow Keras Transformers NLP RNN Spacy Embedding Word2vec LLM Sentence Transformers OpenAI PEFT QLoRA Gemma Falcon Langchain Vector Database Chroma DB FastAPI Version Control AWS AWS RDS OpenAI Embeddings\n",
    "\n",
    "¢\n",
    "\n",
    "« Numpy\n",
    "\n",
    "¢\n",
    "\n",
    "¢\n",
    "\n",
    "¢ Keras\n",
    "\n",
    "¢\n",
    "\n",
    "¢ NLP\n",
    "\n",
    "e RNN\n",
    "\n",
    "¢ Spacy\n",
    "\n",
    "¢\n",
    "\n",
    "«\n",
    "\n",
    "° LLM\n",
    "\n",
    "¢\n",
    "\n",
    "* Opendl\n",
    "\n",
    "© PEFT\n",
    "\n",
    "* QLORA\n",
    "\n",
    "« Gemma\n",
    "\n",
    "¢ Falcon\n",
    "\n",
    "¢\n",
    "\n",
    "\n",
    "\n",
    "\n",
    "\n",
    "« FastAPI\n",
    "\n",
    "¢\n",
    "\n",
    "« AWS\n",
    "\n",
    "Machine Learning\n",
    "\n",
    "Machine Learning Deep Learning Pandas Classification Pytorch Bert Transfer Learning Prompt Engineering LSTM NLTK NER TF-IDF GPT Fine-Tuning Llama2 LORA Gemini Mistral Hugging Face Llama Index PineCone FAISS Streamlit Django Flask GCP MySQL Git\n",
    "\n",
    "Pandas\n",
    "\n",
    "Pytorch\n",
    "\n",
    "Bert\n",
    "\n",
    "LSTM\n",
    "\n",
    "Llama2\n",
    "\n",
    "LORA\n",
    "\n",
    "Mistral\n",
    "\n",
    "FAISS\n",
    "\n",
    "Django\n",
    "\n",
    "Flask\n",
    "\n",
    "GCP\n",
    "\n",
    "« AWS RDS\n",
    "\n",
    "MySQL\n",
    "\n",
    "* Opendl Embeddings Git\n",
    "\n",
    "Mohammed Shaneeb Machine Learning Developer\n",
    "\n",
    "About Me\n",
    "\n",
    "NLP Enthusiast with ML/DL expertise. Fine-Tuned LLM Models,Created Chatbots, Custom LLM Products, NER Systems, Efficient Vector databases and Deployment. Eager to tackle new NLP Challenges.\n",
    "\n",
    "Personal Projects\n",
    "\n",
    "Fine-Tuned Llama2 Model\n",
    "\n",
    "Description: Fine Tuned Llama2 model using QLoRA(Quantized Low-Rank Adaptation) Technologies Used: Python, Hugging Face Transformers, PEFT(Parameter-Efficient Fine-Tuning),QLoRA,Pytorch,\n",
    "\n",
    "¢\n",
    "\n",
    "SFT(Supervised fine-tuning)\n",
    "\n",
    "¢\n",
    "\n",
    "¢\n",
    "\n",
    "\n",
    "\n",
    "Achievements: Enhanced efficiency through QLoRA fine-tuning, resulting in significantly faster processing, reduced costs, and improved compute efficiency compared to training from scratch. Github: https://github.com/mohammedshaneeb- ai/Llama2_Fine-Tuning_QLORA.git HuggingFace:https://huggingface.co/MohammedShaneeb/Llam a2_FineTuning\n",
    "\n",
    "Virtual Hiring Assistant chatbot\n",
    "\n",
    "\n",
    "\n",
    "\n",
    "\n",
    "«\n",
    "\n",
    "\n",
    "\n",
    "Description: Developed a Hiring assistant for HR. HR will came many resume so HR can ask to shortlist the resumes and ask any questions related to his database Technologies Used: Python, NER, Spacy, GPT- 3.5,PandasAI,AWS,Firebase,Django,html,css. Achievements: Reduced Hiring time for HR Github: https://github.com/mohammedshaneeb- ai/VIRTUAL_HIRING_ASSISTANT Youtube: https://youtu.be/p5dq0c9S9uc\n",
    "\n",
    "\n",
    "\n",
    "Conversational Chatbot\n",
    "\n",
    "¢\n",
    "\n",
    "\n",
    "\n",
    "«\n",
    "\n",
    "¢\n",
    "\n",
    "Description: Developed a custom conversatoinal chatbot with our own data. Technologies Used: Python, Langchain, GPT-3,5,Sentence Transformers, Pinecone,Streamlit UI. Achievements: Increased user satisfaction by using conversational model for their own data. Github: https://github.com/mohammedshaneeb- ai/Conversational_Chatbot_Langchain_Streamlit\n",
    "\n",
    "Soft Skills\n",
    "\n",
    "¢\n",
    "\n",
    "\n",
    "\n",
    "¢\n",
    "\n",
    "Problem solving communication Curiosity\n",
    "\n",
    "¢ Work ethic\n",
    "\n",
    "Work ethic Time Management Creativity\n",
    "\n",
    "\n",
    "\n",
    "\n",
    "\n",
    "Professional Experience\n",
    "\n",
    "Brototype | Machine Learning Intern 11/2022 – Present\n",
    "\n",
    "Key responsibilities:\n",
    "\n",
    "¢\n",
    "\n",
    "¢\n",
    "\n",
    "\n",
    "\n",
    "¢\n",
    "\n",
    "\n",
    "\n",
    "Gained practical experience in Machine Learning (ML) and Deep Learning (DL). Specialized in Natural Language Processing (NLP). Executed projects including Named Entity Recognition (NER), fine-tuned Large Language Models (LLMs), worked with open-source LLMs, and developed custom chatbots using LLMs. Created a vector database for efficient data storage and retrieval. Successfully deployed NLP applications on Amazon Web Services (AWS), demonstrating hands-on cloud computing skills.\n",
    "\n",
    "Q&A On Website data (API)\n",
    "\n",
    "Description: Developed Q&A system for website data. Developed as API.User can ask question from the web page he currently viewing. Technologies Used: Python, Langchain, GPT-3,5,Open AI Embeddings, Faiss ,FastAPI,AWS ec2. Achievements: User can get answer's within seconds without reading full page. Github: https://github.com/mohammedshaneeb- ai/website_qa_api_langchain Youtube: https://youtu.be/KMmZJcDRudA\n",
    "\n",
    "SQL Retrieval , Langchain SQL Agent\n",
    "\n",
    "Description: Developed Q&A system for SQL Database\n",
    "\n",
    "Description: Developed Q&A system for SQL Database Technologies Used: Python, Langchain, GPT-3,5,OpenAI, SQLAgent,MySQL . Achievements: User can query sql databases with natuaral language. Github: https://github.com/mohammedshaneeb- ai/Langchain_SQL_Agent.git\n",
    "\n",
    "AI Chatbot from Scratch using Pytorch\n",
    "\n",
    "Description: Developed a custom chatbot using Pytorch and NLTK Technologies Used: Python, Pytorch,NLTK, Neural Networks, Bag of Words Achievements: Trained Neural networks from scratch Github: https://github.com/mohammedshaneeb- ai/AI_Chatbot_using_Pytorch.git Youtube: https://youtu.be/btPulWB2T8o\n",
    "\n",
    "Chatbot Using LlamaIndex\n",
    "\n",
    "Description: Developed Chatbot using LlamaIndex and customized Technologies Used: Python, Langchain, GPT-3,5,Sentence- transformers,ChromaDB Achievements: quickly find and fetch information from a large collection of documents Github: https://github.com/mohammedshaneeb-ai/Llama- index.git Youtube: https://youtu.be/8c8uENCpUp4\n",
    "\n",
    "Email Spam Classification\n",
    "\n",
    "Description: Developed a Classification model to classify message and made streamlit applicaiton to interact Technologies Used: Python, numpy,pandas,sklearn,logistic regression,Streamlit Achievements: Our logistic regression model, trained on advanced embeddings using Sentence Transformers, efficiently distinguishes spam from legitimate emails. Github: https://github.com/mohammedshaneeb-ai/Spam- classification.git Youtube: https://youtu.be/JY8JlzZg-p4\n",
    "\n",
    "Breast Cancer Prediction\n",
    "\n",
    "Description: Developed a breast cancer prediction model Technologies Used: Python, numpy,pandas,sklearn,logistic regression Achievements: due to efficient preprocessing I got 97% accuracy Github: https://github.com/mohammedshaneeb- ai/Breast_Cancer_Prediction_using_Classification.git\n",
    "\"\"\""
   ]
  },
  {
   "cell_type": "code",
   "execution_count": 29,
   "metadata": {},
   "outputs": [],
   "source": [
    "job_description = \"\"\"\n",
    "We are seeking a Machine Learning Engineer (MLE) who will play a critical role in developing and implementing machine learning solutions that drive innovation and efficiency across our projects. The ideal candidate will possess a strong foundation in machine learning, data processing, and software development, with the ability to work seamlessly with existing models and deploy new models into production. Hands on project experience in the pharmaceutical or healthcare domain is a must. Should have worked on projects such as predictive modelling for drug discovery and development, personalized medicine, clinical trial optimization, patient monitoring and management, or healthcare resource allocation.\n",
    "Develop, optimize, and deploy machine learning models to support project objectives.\n",
    "Process and analyze large datasets to inform model development and enhancements.\n",
    "Maintain and improve existing machine learning models within our systems, ensuring they meet our standards for accuracy and performance.\n",
    "Collaborate with cross-functional teams to integrate machine learning solutions into our operational framework.\n",
    "Utilize software development tools to maintain a robust, scalable codebase.\n",
    "Apply a variety of machine learning techniques (e.g., statistics, clustering, classification, outlier analysis) to solve complex problems.\n",
    "Proficiency in Python and knowledge of key machine learning packages such as numpy, pandas, scikit-learn, and xgboost.\n",
    "Understanding of data structures, data modeling, software architecture, and software development tools, including Git and virtual environments.\n",
    "Demonstrated ability to apply machine learning techniques to solve real-world problems.\n",
    "Experience in deploying machine learning models in code and working with existing models.\n",
    "Strong problem-solving skills and the ability to work independently or as part of a team.\n",
    "Experience in building and accessing API endpoints.\n",
    "Cloud computing experience, particularly with AWS.\n",
    "Experience with deploying open source deep learning models, with a preference for those related to Life Sciences.\n",
    "Proficiency in Deep Learning frameworks, such as PyTorch.\n",
    "Experience in building and managing MLOps pipelines.\n",
    "\"\"\""
   ]
  },
  {
   "cell_type": "code",
   "execution_count": 30,
   "metadata": {},
   "outputs": [
    {
     "data": {
      "text/plain": [
       "'{\\n\"Score\" : 8.5,\\n\"Explanation\" : \"The resume has a strong focus on machine learning and deep learning, with a good range of skills and technologies mentioned. The personal projects showcase the candidate\\'s ability to apply their skills to real-world problems. However, there is a lack of experience in the pharmaceutical or healthcare domain, which is a specific requirement for the job description.\",\\n\"Missing\": \"While the resume is strong in many areas, it lacks experience in the pharmaceutical or healthcare domain, which is a specific requirement for the job description. Additionally, experience in building and managing MLOps pipelines and proficiency in cloud computing, particularly with AWS, are not explicitly mentioned in the resume.\",\\n\"Summary\": \"The candidate has a strong background in machine learning and deep learning, with a good range of skills and technologies mentioned. They have demonstrated their ability to apply their skills to real-world problems through their personal projects. However, they may need to gain experience in the pharmaceutical or healthcare domain and build their knowledge of MLOps pipelines and cloud computing to meet the specific requirements of the job description.\"\\n}'"
      ]
     },
     "execution_count": 30,
     "metadata": {},
     "output_type": "execute_result"
    }
   ],
   "source": [
    "chain.invoke({\"resume_content\":resume_content,\"job_description\": job_description})"
   ]
  },
  {
   "cell_type": "code",
   "execution_count": 31,
   "metadata": {},
   "outputs": [],
   "source": [
    "result = chain.invoke({\"resume_content\":resume_content,\"job_description\": job_description})\n"
   ]
  },
  {
   "cell_type": "code",
   "execution_count": 33,
   "metadata": {},
   "outputs": [
    {
     "data": {
      "text/plain": [
       "'{\\n\"Score\" : 8.5,\\n\"Explanation\" : \"The resume has a strong focus on machine learning and deep learning, with a good range of skills and technologies mentioned. The personal projects showcase the candidate\\'s ability to apply their skills to real-world problems. However, there is a lack of experience in the pharmaceutical or healthcare domain, which is a specific requirement for the job description.\",\\n\"Missing\": \"While the resume is strong in many areas, it lacks experience in the pharmaceutical or healthcare domain, which is a specific requirement for the job description. Additionally, experience in building and managing MLOps pipelines and proficiency in cloud computing, particularly with AWS, are not explicitly mentioned in the resume.\",\\n\"Summary\": \"The candidate has a strong background in machine learning and deep learning, with a good range of skills and technologies mentioned. They have demonstrated their ability to apply their skills to real-world problems through their personal projects. However, they may need to gain experience in the pharmaceutical or healthcare domain and build their knowledge of MLOps pipelines and cloud computing to meet the specific requirements of the job description.\"\\n}'"
      ]
     },
     "execution_count": 33,
     "metadata": {},
     "output_type": "execute_result"
    }
   ],
   "source": [
    "result"
   ]
  },
  {
   "cell_type": "code",
   "execution_count": 41,
   "metadata": {},
   "outputs": [],
   "source": [
    "import json\n",
    "data = json.loads(result)\n"
   ]
  },
  {
   "cell_type": "code",
   "execution_count": 43,
   "metadata": {},
   "outputs": [],
   "source": [
    "score=data['Score']\n",
    "explanation = data['Explanation']\n",
    "missing=data['Missing']\n",
    "summary=data['Summary']"
   ]
  },
  {
   "cell_type": "code",
   "execution_count": 44,
   "metadata": {},
   "outputs": [
    {
     "name": "stdout",
     "output_type": "stream",
     "text": [
      "score: 8.5\n",
      "explanatino: The resume has a strong focus on machine learning and deep learning, with a good range of skills and technologies mentioned. The personal projects showcase the candidate's ability to apply their skills to real-world problems. However, there is a lack of experience in the pharmaceutical or healthcare domain, which is a specific requirement for the job description.\n",
      "missing: While the resume is strong in many areas, it lacks experience in the pharmaceutical or healthcare domain, which is a specific requirement for the job description. Additionally, experience in building and managing MLOps pipelines and proficiency in cloud computing, particularly with AWS, are not explicitly mentioned in the resume.\n",
      "summary: The candidate has a strong background in machine learning and deep learning, with a good range of skills and technologies mentioned. They have demonstrated their ability to apply their skills to real-world problems through their personal projects. However, they may need to gain experience in the pharmaceutical or healthcare domain and build their knowledge of MLOps pipelines and cloud computing to meet the specific requirements of the job description.\n"
     ]
    }
   ],
   "source": [
    "print(f'score: {score}')\n",
    "print(f'explanatino: {explanation}')\n",
    "print(f'missing: {missing}')\n",
    "print(f'summary: {summary}')"
   ]
  },
  {
   "cell_type": "code",
   "execution_count": 45,
   "metadata": {},
   "outputs": [],
   "source": [
    "def get_score(resume_content,job_description):\n",
    "    prompt = PromptTemplate.from_template(template)\n",
    "    chain = prompt | chat | output_parser\n",
    "    result = chain.invoke({\"resume_content\":resume_content,\"job_description\": job_description})\n",
    "    data = json.loads(result)\n",
    "    score=data['Score']\n",
    "    explanation = data['Explanation']\n",
    "    missing=data['Missing']\n",
    "    summary=data['Summary']\n",
    "    return score,explanation,missing,summary"
   ]
  },
  {
   "cell_type": "code",
   "execution_count": 47,
   "metadata": {},
   "outputs": [
    {
     "data": {
      "text/plain": [
       "(9.5,\n",
       " 'The resume has a strong foundation in machine learning, data processing, and software development with a demonstrated ability to apply machine learning techniques to solve real-world problems. The candidate has experience in deploying machine learning models and working with existing models. They have also shown expertise in Python, deep learning frameworks, and cloud computing. However, there is no direct experience mentioned in the pharmaceutical or healthcare domain, which is a specific requirement for the job.',\n",
       " 'Hands on project experience in the pharmaceutical or healthcare domain is missing. Projects such as predictive modelling for drug discovery and development, personalized medicine, clinical trial optimization, patient monitoring and management, or healthcare resource allocation are expected.',\n",
       " 'The candidate has strong qualifications and experience in machine learning, data processing, and software development. They have demonstrated expertise in Python, deep learning frameworks, and cloud computing. However, the lack of experience in the pharmaceutical or healthcare domain may be a disadvantage for this specific job.')"
      ]
     },
     "execution_count": 47,
     "metadata": {},
     "output_type": "execute_result"
    }
   ],
   "source": [
    "get_score(resume_content,job_description)\n"
   ]
  },
  {
   "cell_type": "markdown",
   "metadata": {},
   "source": [
    "# New Prompt testing for better accuracy"
   ]
  },
  {
   "cell_type": "code",
   "execution_count": 1,
   "metadata": {},
   "outputs": [],
   "source": [
    "template = \"\"\"\n",
    "you are a resume score calculator.I will give you resume content and job descriptoin. based on that please give me a score out of 100.\n",
    "You want to follow instructions given below to give score:\n",
    "    Scoring Criteria:\n",
    "        A. Skills (70 points)\n",
    "\n",
    "        Required Skills (20 points):    \n",
    "            Award full points if all required skills are present.\n",
    "            Deduct points proportionally for missing skills.\n",
    "\n",
    "        B. Experience (20 points)\n",
    "\n",
    "        Relevant Work Experience (20 points):\n",
    "            Award points based on the relevance and extent of work experience compared to the JD.\n",
    "            Full points for exact matches and significant relevant experience\n",
    "            \n",
    "        C. Specific Job Responsibilities (10 points)\n",
    "            Award points based on how well the candidate's previous job responsibilities match the job description.\n",
    "\n",
    "\n",
    "Resume Content : {resume_content}\n",
    "Job Description : {job_description}\n",
    "\n",
    "I want to get out put in below JSON format:\n",
    "JSON output : \n",
    "    'Score' : score you give,\n",
    "    'Explanation' : reason why you give this score,\n",
    "    'Missing': what are missing,\n",
    "    'Summary': summary\n",
    "\n",
    "\n",
    "\"\"\""
   ]
  },
  {
   "cell_type": "code",
   "execution_count": null,
   "metadata": {},
   "outputs": [],
   "source": [
    "def get_score(resume_content,job_description):\n",
    "    prompt = PromptTemplate.from_template(template)\n",
    "    chain = prompt | chat | output_parser\n",
    "    result = chain.invoke({\"resume_content\":resume_content,\"job_description\": job_description})\n",
    "    data = json.loads(result)\n",
    "    score=data['Score']\n",
    "    explanation = data['Explanation']\n",
    "    missing=data['Missing']\n",
    "    summary=data['Summary']\n",
    "    return score,explanation,missing,summary"
   ]
  },
  {
   "cell_type": "code",
   "execution_count": null,
   "metadata": {},
   "outputs": [],
   "source": [
    "get_score(resume_content,job_description)\n"
   ]
  }
 ],
 "metadata": {
  "kernelspec": {
   "display_name": "hireai",
   "language": "python",
   "name": "python3"
  },
  "language_info": {
   "codemirror_mode": {
    "name": "ipython",
    "version": 3
   },
   "file_extension": ".py",
   "mimetype": "text/x-python",
   "name": "python",
   "nbconvert_exporter": "python",
   "pygments_lexer": "ipython3",
   "version": "3.10.14"
  }
 },
 "nbformat": 4,
 "nbformat_minor": 2
}
