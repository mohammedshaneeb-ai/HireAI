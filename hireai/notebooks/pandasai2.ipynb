{
 "cells": [
  {
   "cell_type": "code",
   "execution_count": 4,
   "metadata": {},
   "outputs": [
    {
     "ename": "IOException",
     "evalue": "IO Error: Could not set lock on file \"/home/mohammed_shaneeb/Desktop/Generative AI/HireAI/cache/cache_db_0.10.db\": Conflicting lock is held in /home/mohammed_shaneeb/anaconda3/envs/hireai/bin/python3.10 (PID 266575) by user mohammed_shaneeb. See also https://duckdb.org/docs/connect/concurrency",
     "output_type": "error",
     "traceback": [
      "\u001b[0;31m---------------------------------------------------------------------------\u001b[0m",
      "\u001b[0;31mIOException\u001b[0m                               Traceback (most recent call last)",
      "Cell \u001b[0;32mIn[4], line 20\u001b[0m\n\u001b[1;32m      6\u001b[0m os\u001b[38;5;241m.\u001b[39menviron[\u001b[38;5;124m\"\u001b[39m\u001b[38;5;124mPANDASAI_API_KEY\u001b[39m\u001b[38;5;124m\"\u001b[39m] \u001b[38;5;241m=\u001b[39m \u001b[38;5;124m\"\u001b[39m\u001b[38;5;124m$2a$10$hoXNRKXGc683SFUgvL0GAuL3Qmk0vTdf.6Iheldh3GSVPBMlpwxEe\u001b[39m\u001b[38;5;124m\"\u001b[39m\n\u001b[1;32m      8\u001b[0m mysql_connector \u001b[38;5;241m=\u001b[39m MySQLConnector(\n\u001b[1;32m      9\u001b[0m     config\u001b[38;5;241m=\u001b[39m{\n\u001b[1;32m     10\u001b[0m         \u001b[38;5;124m\"\u001b[39m\u001b[38;5;124mhost\u001b[39m\u001b[38;5;124m\"\u001b[39m: os\u001b[38;5;241m.\u001b[39menviron\u001b[38;5;241m.\u001b[39mget(\u001b[38;5;124m'\u001b[39m\u001b[38;5;124mDB_HOST\u001b[39m\u001b[38;5;124m'\u001b[39m),\n\u001b[0;32m   (...)\u001b[0m\n\u001b[1;32m     16\u001b[0m     }\n\u001b[1;32m     17\u001b[0m )\n\u001b[0;32m---> 20\u001b[0m df \u001b[38;5;241m=\u001b[39m \u001b[43mSmartDataframe\u001b[49m\u001b[43m(\u001b[49m\u001b[43mmysql_connector\u001b[49m\u001b[43m)\u001b[49m\n",
      "File \u001b[0;32m~/anaconda3/envs/hireai/lib/python3.10/site-packages/pandasai/smart_dataframe/__init__.py:62\u001b[0m, in \u001b[0;36mSmartDataframe.__init__\u001b[0;34m(self, df, name, description, custom_head, config)\u001b[0m\n\u001b[1;32m     52\u001b[0m \u001b[38;5;250m\u001b[39m\u001b[38;5;124;03m\"\"\"\u001b[39;00m\n\u001b[1;32m     53\u001b[0m \u001b[38;5;124;03mArgs:\u001b[39;00m\n\u001b[1;32m     54\u001b[0m \u001b[38;5;124;03m    df: A supported dataframe type, or a pandasai Connector\u001b[39;00m\n\u001b[0;32m   (...)\u001b[0m\n\u001b[1;32m     58\u001b[0m \u001b[38;5;124;03m    config (Config, optional): Config to be used. Defaults to None.\u001b[39;00m\n\u001b[1;32m     59\u001b[0m \u001b[38;5;124;03m\"\"\"\u001b[39;00m\n\u001b[1;32m     60\u001b[0m \u001b[38;5;28mself\u001b[39m\u001b[38;5;241m.\u001b[39m_original_import \u001b[38;5;241m=\u001b[39m df\n\u001b[0;32m---> 62\u001b[0m \u001b[38;5;28mself\u001b[39m\u001b[38;5;241m.\u001b[39m_agent \u001b[38;5;241m=\u001b[39m \u001b[43mAgent\u001b[49m\u001b[43m(\u001b[49m\u001b[43m[\u001b[49m\u001b[43mdf\u001b[49m\u001b[43m]\u001b[49m\u001b[43m,\u001b[49m\u001b[43m \u001b[49m\u001b[43mconfig\u001b[49m\u001b[38;5;241;43m=\u001b[39;49m\u001b[43mconfig\u001b[49m\u001b[43m)\u001b[49m\n\u001b[1;32m     64\u001b[0m \u001b[38;5;28mself\u001b[39m\u001b[38;5;241m.\u001b[39mdataframe \u001b[38;5;241m=\u001b[39m \u001b[38;5;28mself\u001b[39m\u001b[38;5;241m.\u001b[39m_agent\u001b[38;5;241m.\u001b[39mcontext\u001b[38;5;241m.\u001b[39mdfs[\u001b[38;5;241m0\u001b[39m]\n\u001b[1;32m     66\u001b[0m \u001b[38;5;28mself\u001b[39m\u001b[38;5;241m.\u001b[39m_table_description \u001b[38;5;241m=\u001b[39m description\n",
      "File \u001b[0;32m~/anaconda3/envs/hireai/lib/python3.10/site-packages/pandasai/agent/base.py:76\u001b[0m, in \u001b[0;36mAgent.__init__\u001b[0;34m(self, dfs, config, memory_size, pipeline, vectorstore, description)\u001b[0m\n\u001b[1;32m     74\u001b[0m \u001b[38;5;66;03m# Instantiate the context\u001b[39;00m\n\u001b[1;32m     75\u001b[0m config \u001b[38;5;241m=\u001b[39m \u001b[38;5;28mself\u001b[39m\u001b[38;5;241m.\u001b[39mget_config(config)\n\u001b[0;32m---> 76\u001b[0m \u001b[38;5;28mself\u001b[39m\u001b[38;5;241m.\u001b[39mcontext \u001b[38;5;241m=\u001b[39m \u001b[43mPipelineContext\u001b[49m\u001b[43m(\u001b[49m\n\u001b[1;32m     77\u001b[0m \u001b[43m    \u001b[49m\u001b[43mdfs\u001b[49m\u001b[38;5;241;43m=\u001b[39;49m\u001b[43mdfs\u001b[49m\u001b[43m,\u001b[49m\n\u001b[1;32m     78\u001b[0m \u001b[43m    \u001b[49m\u001b[43mconfig\u001b[49m\u001b[38;5;241;43m=\u001b[39;49m\u001b[43mconfig\u001b[49m\u001b[43m,\u001b[49m\n\u001b[1;32m     79\u001b[0m \u001b[43m    \u001b[49m\u001b[43mmemory\u001b[49m\u001b[38;5;241;43m=\u001b[39;49m\u001b[43mMemory\u001b[49m\u001b[43m(\u001b[49m\u001b[43mmemory_size\u001b[49m\u001b[43m,\u001b[49m\u001b[43m \u001b[49m\u001b[43magent_info\u001b[49m\u001b[38;5;241;43m=\u001b[39;49m\u001b[43mdescription\u001b[49m\u001b[43m)\u001b[49m\u001b[43m,\u001b[49m\n\u001b[1;32m     80\u001b[0m \u001b[43m    \u001b[49m\u001b[43mvectorstore\u001b[49m\u001b[38;5;241;43m=\u001b[39;49m\u001b[43mvectorstore\u001b[49m\u001b[43m,\u001b[49m\n\u001b[1;32m     81\u001b[0m \u001b[43m\u001b[49m\u001b[43m)\u001b[49m\n\u001b[1;32m     83\u001b[0m \u001b[38;5;66;03m# Instantiate the logger\u001b[39;00m\n\u001b[1;32m     84\u001b[0m \u001b[38;5;28mself\u001b[39m\u001b[38;5;241m.\u001b[39mlogger \u001b[38;5;241m=\u001b[39m Logger(save_logs\u001b[38;5;241m=\u001b[39mconfig\u001b[38;5;241m.\u001b[39msave_logs, verbose\u001b[38;5;241m=\u001b[39mconfig\u001b[38;5;241m.\u001b[39mverbose)\n",
      "File \u001b[0;32m~/anaconda3/envs/hireai/lib/python3.10/site-packages/pandasai/pipelines/pipeline_context.py:35\u001b[0m, in \u001b[0;36mPipelineContext.__init__\u001b[0;34m(self, dfs, config, memory, skills_manager, cache, vectorstore, initial_values)\u001b[0m\n\u001b[1;32m     32\u001b[0m \u001b[38;5;28mself\u001b[39m\u001b[38;5;241m.\u001b[39mskills_manager \u001b[38;5;241m=\u001b[39m skills_manager \u001b[38;5;129;01mor\u001b[39;00m SkillsManager()\n\u001b[1;32m     34\u001b[0m \u001b[38;5;28;01mif\u001b[39;00m config\u001b[38;5;241m.\u001b[39menable_cache:\n\u001b[0;32m---> 35\u001b[0m     \u001b[38;5;28mself\u001b[39m\u001b[38;5;241m.\u001b[39mcache \u001b[38;5;241m=\u001b[39m cache \u001b[38;5;28;01mif\u001b[39;00m cache \u001b[38;5;129;01mis\u001b[39;00m \u001b[38;5;129;01mnot\u001b[39;00m \u001b[38;5;28;01mNone\u001b[39;00m \u001b[38;5;28;01melse\u001b[39;00m \u001b[43mCache\u001b[49m\u001b[43m(\u001b[49m\u001b[43m)\u001b[49m\n\u001b[1;32m     36\u001b[0m \u001b[38;5;28;01melse\u001b[39;00m:\n\u001b[1;32m     37\u001b[0m     \u001b[38;5;28mself\u001b[39m\u001b[38;5;241m.\u001b[39mcache \u001b[38;5;241m=\u001b[39m \u001b[38;5;28;01mNone\u001b[39;00m\n",
      "File \u001b[0;32m~/anaconda3/envs/hireai/lib/python3.10/site-packages/pandasai/helpers/cache.py:32\u001b[0m, in \u001b[0;36mCache.__init__\u001b[0;34m(self, filename, abs_path)\u001b[0m\n\u001b[1;32m     29\u001b[0m os\u001b[38;5;241m.\u001b[39mmakedirs(cache_dir, mode\u001b[38;5;241m=\u001b[39mDEFAULT_FILE_PERMISSIONS, exist_ok\u001b[38;5;241m=\u001b[39m\u001b[38;5;28;01mTrue\u001b[39;00m)\n\u001b[1;32m     31\u001b[0m \u001b[38;5;28mself\u001b[39m\u001b[38;5;241m.\u001b[39mfilepath \u001b[38;5;241m=\u001b[39m os\u001b[38;5;241m.\u001b[39mpath\u001b[38;5;241m.\u001b[39mjoin(cache_dir, \u001b[38;5;124mf\u001b[39m\u001b[38;5;124m\"\u001b[39m\u001b[38;5;132;01m{\u001b[39;00mfilename\u001b[38;5;132;01m}\u001b[39;00m\u001b[38;5;124m.db\u001b[39m\u001b[38;5;124m\"\u001b[39m)\n\u001b[0;32m---> 32\u001b[0m \u001b[38;5;28mself\u001b[39m\u001b[38;5;241m.\u001b[39mconnection \u001b[38;5;241m=\u001b[39m \u001b[43mduckdb\u001b[49m\u001b[38;5;241;43m.\u001b[39;49m\u001b[43mconnect\u001b[49m\u001b[43m(\u001b[49m\u001b[38;5;28;43mself\u001b[39;49m\u001b[38;5;241;43m.\u001b[39;49m\u001b[43mfilepath\u001b[49m\u001b[43m)\u001b[49m\n\u001b[1;32m     33\u001b[0m \u001b[38;5;28mself\u001b[39m\u001b[38;5;241m.\u001b[39mconnection\u001b[38;5;241m.\u001b[39mexecute(\n\u001b[1;32m     34\u001b[0m     \u001b[38;5;124m\"\u001b[39m\u001b[38;5;124mCREATE TABLE IF NOT EXISTS cache (key STRING, value STRING)\u001b[39m\u001b[38;5;124m\"\u001b[39m\n\u001b[1;32m     35\u001b[0m )\n",
      "\u001b[0;31mIOException\u001b[0m: IO Error: Could not set lock on file \"/home/mohammed_shaneeb/Desktop/Generative AI/HireAI/cache/cache_db_0.10.db\": Conflicting lock is held in /home/mohammed_shaneeb/anaconda3/envs/hireai/bin/python3.10 (PID 266575) by user mohammed_shaneeb. See also https://duckdb.org/docs/connect/concurrency"
     ]
    }
   ],
   "source": [
    "from pandasai import SmartDataframe\n",
    "from pandasai.connectors import MySQLConnector\n",
    "import os\n",
    "\n",
    "\n",
    "os.environ[\"PANDASAI_API_KEY\"] = \"$2a$10$hoXNRKXGc683SFUgvL0GAuL3Qmk0vTdf.6Iheldh3GSVPBMlpwxEe\"\n",
    "\n",
    "mysql_connector = MySQLConnector(\n",
    "    config={\n",
    "        \"host\": os.environ.get('DB_HOST'),\n",
    "        \"port\": 3306,\n",
    "        \"database\": os.environ.get('DB_NAME'),\n",
    "        \"username\": os.environ.get('DB_USER'),\n",
    "        \"password\": os.environ.get('DB_PASSWORD'),\n",
    "        \"table\": \"adminapp_jobapplication\",\n",
    "    }\n",
    ")\n",
    "\n",
    "\n",
    "df = SmartDataframe(mysql_connector)\n"
   ]
  },
  {
   "cell_type": "code",
   "execution_count": 5,
   "metadata": {},
   "outputs": [],
   "source": [
    "mysql_connector = MySQLConnector(\n",
    "    config={\n",
    "        \"host\": os.environ.get('DB_HOST'),\n",
    "        \"port\": 3306,\n",
    "        \"database\": os.environ.get('DB_NAME'),\n",
    "        \"username\": os.environ.get('DB_USER'),\n",
    "        \"password\": os.environ.get('DB_PASSWORD'),\n",
    "        \"table\": \"adminapp_jobapplication\",\n",
    "    }\n",
    ")\n"
   ]
  },
  {
   "cell_type": "code",
   "execution_count": null,
   "metadata": {},
   "outputs": [],
   "source": []
  },
  {
   "cell_type": "code",
   "execution_count": null,
   "metadata": {},
   "outputs": [],
   "source": []
  }
 ],
 "metadata": {
  "kernelspec": {
   "display_name": "hireai",
   "language": "python",
   "name": "python3"
  },
  "language_info": {
   "codemirror_mode": {
    "name": "ipython",
    "version": 3
   },
   "file_extension": ".py",
   "mimetype": "text/x-python",
   "name": "python",
   "nbconvert_exporter": "python",
   "pygments_lexer": "ipython3",
   "version": "3.10.14"
  }
 },
 "nbformat": 4,
 "nbformat_minor": 2
}
