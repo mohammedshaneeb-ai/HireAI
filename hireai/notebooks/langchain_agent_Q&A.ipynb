{
 "cells": [
  {
   "cell_type": "code",
   "execution_count": 2,
   "metadata": {},
   "outputs": [],
   "source": [
    "import os\n"
   ]
  },
  {
   "cell_type": "code",
   "execution_count": 3,
   "metadata": {},
   "outputs": [],
   "source": [
    "project_name = 'Langchain Agent Test'\n",
    "os.environ[\"LANGCHAIN_TRACING_V2\"] = \"true\"\n",
    "os.environ[\"LANGCHAIN_PROJECT\"] = f\"Tracing Walkthrough - {project_name}\"\n",
    "os.environ[\"LANGCHAIN_ENDPOINT\"] = \"https://api.smith.langchain.com\"\n",
    "os.environ[\"LANGCHAIN_API_KEY\"] = os.environ.get('LANGCHAIN_API_KEY')"
   ]
  },
  {
   "cell_type": "code",
   "execution_count": 4,
   "metadata": {},
   "outputs": [],
   "source": [
    "os.environ['OPENAI_API_KEY'] = 'sk-proj-ZnzFYosNrNpRNMWj9RkpT3BlbkFJ6ccA2AHplnYl57aoV6wK'"
   ]
  },
  {
   "cell_type": "code",
   "execution_count": 8,
   "metadata": {},
   "outputs": [],
   "source": [
    "from langchain_community.document_loaders import WebBaseLoader\n",
    "from langchain_community.vectorstores import FAISS\n",
    "from langchain_text_splitters import RecursiveCharacterTextSplitter\n",
    "from langchain_community.embeddings import HuggingFaceEmbeddings\n",
    "\n",
    "\n",
    "embeddings = HuggingFaceEmbeddings(model_name=\"all-MiniLM-L6-v2\")\n",
    "\n",
    "loader = WebBaseLoader(\"https://docs.smith.langchain.com/overview\")\n",
    "docs = loader.load()\n",
    "documents = RecursiveCharacterTextSplitter(\n",
    "    chunk_size=1000, chunk_overlap=200\n",
    ").split_documents(docs)\n",
    "vector = FAISS.from_documents(documents, embeddings)\n",
    "retriever = vector.as_retriever()\n",
    "\n"
   ]
  },
  {
   "cell_type": "code",
   "execution_count": 9,
   "metadata": {},
   "outputs": [
    {
     "name": "stderr",
     "output_type": "stream",
     "text": [
      "/home/mohammed_shaneeb/anaconda3/envs/hireai/lib/python3.10/site-packages/langchain_core/_api/deprecation.py:119: LangChainDeprecationWarning: The method `BaseRetriever.get_relevant_documents` was deprecated in langchain-core 0.1.46 and will be removed in 0.3.0. Use invoke instead.\n",
      "  warn_deprecated(\n"
     ]
    },
    {
     "data": {
      "text/plain": [
       "[Document(page_content='Get started with LangSmith | \\uf8ffü¶úÔ∏è\\uf8ffüõ†Ô∏è LangSmith', metadata={'source': 'https://docs.smith.langchain.com/overview', 'title': 'Get started with LangSmith | \\uf8ffü¶úÔ∏è\\uf8ffüõ†Ô∏è LangSmith', 'description': 'LangSmith is a platform for building production-grade LLM applications. It allows you to closely monitor and evaluate your application, so you can ship quickly and with confidence. Use of LangChain is not necessary - LangSmith works on its own!', 'language': 'en'}),\n",
       " Document(page_content=\"Skip to main contentLangSmith API DocsSearchGo to AppQuick startTutorialsHow-to guidesConceptsReferencePricingSelf-hostingQuick startOn this pageGet started with LangSmithLangSmith is a platform for building production-grade LLM applications. It allows you to closely monitor and evaluate your application, so you can ship quickly and with confidence. Use of LangChain is not necessary - LangSmith works on its own!1. Install LangSmith‚ÄãPythonTypeScriptpip install -U langsmithyarn add langchain langsmith2. Create an API key‚ÄãTo create an API key head to the Settings page. Then click Create API Key.3. Set up your environment‚ÄãShellexport LANGCHAIN_TRACING_V2=trueexport LANGCHAIN_API_KEY=<your-api-key># The below examples use the OpenAI API, though it's not necessary in generalexport OPENAI_API_KEY=<your-openai-api-key>4. Log your first trace‚ÄãWe provide multiple ways to log traces to LangSmith. Below, we'll highlight\", metadata={'source': 'https://docs.smith.langchain.com/overview', 'title': 'Get started with LangSmith | \\uf8ffü¶úÔ∏è\\uf8ffüõ†Ô∏è LangSmith', 'description': 'LangSmith is a platform for building production-grade LLM applications. It allows you to closely monitor and evaluate your application, so you can ship quickly and with confidence. Use of LangChain is not necessary - LangSmith works on its own!', 'language': 'en'}),\n",
       " Document(page_content='how to use traceable. See more on the Annotate code for tracing page.PythonTypeScriptimport openaifrom langsmith.wrappers import wrap_openaifrom langsmith import traceable# Auto-trace LLM calls in-contextclient = wrap_openai(openai.Client())@traceable # Auto-trace this functiondef pipeline(user_input: str):    result = client.chat.completions.create(        messages=[{\"role\": \"user\", \"content\": user_input}],        model=\"gpt-3.5-turbo\"    )    return result.choices[0].message.contentpipeline(\"Hello, world!\")# Out:  Hello there! How can I assist you today?import { OpenAI } from \"openai\";import { traceable } from \"langsmith/traceable\";import { wrapOpenAI } from \"langsmith/wrappers\";// Auto-trace LLM calls in-contextconst client = wrapOpenAI(new OpenAI());// Auto-trace this functionconst pipeline = traceable(async (user_input) => {    const result = await client.chat.completions.create({        messages: [{ role: \"user\", content: user_input }],        model: \"gpt-3.5-turbo\",    });', metadata={'source': 'https://docs.smith.langchain.com/overview', 'title': 'Get started with LangSmith | \\uf8ffü¶úÔ∏è\\uf8ffüõ†Ô∏è LangSmith', 'description': 'LangSmith is a platform for building production-grade LLM applications. It allows you to closely monitor and evaluate your application, so you can ship quickly and with confidence. Use of LangChain is not necessary - LangSmith works on its own!', 'language': 'en'}),\n",
       " Document(page_content='description=\"A sample dataset in LangSmith.\")client.create_examples(    inputs=[        {\"postfix\": \"to LangSmith\"},        {\"postfix\": \"to Evaluations in LangSmith\"},    ],    outputs=[        {\"output\": \"Welcome to LangSmith\"},        {\"output\": \"Welcome to Evaluations in LangSmith\"},    ],    dataset_id=dataset.id,)# Define your evaluatordef exact_match(run, example):    return {\"score\": run.outputs[\"output\"] == example.outputs[\"output\"]}experiment_results = evaluate(    lambda input: \"Welcome \" + input[\\'postfix\\'], # Your AI system goes here    data=dataset_name, # The data to predict and grade over    evaluators=[exact_match], # The evaluators to score the results    experiment_prefix=\"sample-experiment\", # The name of the experiment    metadata={      \"version\": \"1.0.0\",      \"revision_id\": \"beta\"    },)import { Client, Run, Example } from \"langsmith\";import { evaluate } from \"langsmith/evaluation\";import { EvaluationResult } from \"langsmith/evaluation\";const client = new', metadata={'source': 'https://docs.smith.langchain.com/overview', 'title': 'Get started with LangSmith | \\uf8ffü¶úÔ∏è\\uf8ffüõ†Ô∏è LangSmith', 'description': 'LangSmith is a platform for building production-grade LLM applications. It allows you to closely monitor and evaluate your application, so you can ship quickly and with confidence. Use of LangChain is not necessary - LangSmith works on its own!', 'language': 'en'})]"
      ]
     },
     "execution_count": 9,
     "metadata": {},
     "output_type": "execute_result"
    }
   ],
   "source": [
    "retriever.get_relevant_documents(\"what is langsmith\")"
   ]
  },
  {
   "cell_type": "code",
   "execution_count": 10,
   "metadata": {},
   "outputs": [],
   "source": [
    "from langchain.tools.retriever import create_retriever_tool\n",
    "\n",
    "retriever_tool = create_retriever_tool(\n",
    "    retriever,\n",
    "    \"langsmith_search\",\n",
    "    \"Search for information about LangSmith. For any questions about LangSmith, you must use this tool!\",\n",
    ")\n",
    "\n",
    "\n"
   ]
  },
  {
   "cell_type": "code",
   "execution_count": null,
   "metadata": {},
   "outputs": [],
   "source": [
    "https://www.glassdoor.co.in/Reviews/Accenture-Reviews-E4138.htm"
   ]
  },
  {
   "cell_type": "code",
   "execution_count": 19,
   "metadata": {},
   "outputs": [],
   "source": [
    "loader2 = WebBaseLoader(\"https://www.accenture.com/in-en\")\n",
    "docs2 = loader2.load()\n",
    "documents2 = RecursiveCharacterTextSplitter(\n",
    "    chunk_size=1000, chunk_overlap=200\n",
    ").split_documents(docs2)\n",
    "vector2 = FAISS.from_documents(documents2, embeddings)\n",
    "retriever2 = vector2.as_retriever()"
   ]
  },
  {
   "cell_type": "code",
   "execution_count": 20,
   "metadata": {},
   "outputs": [
    {
     "data": {
      "text/plain": [
       "[Document(page_content=\"\\n\\n\\n\\n\\nIndia | Let There Be Change | Accenture\\n\\n\\n\\n\\n\\n\\n\\n\\n\\n\\n\\n\\n\\n\\n\\n\\n\\n\\n\\n\\n\\n\\n\\n\\n\\n\\n\\n\\n\\n\\n\\n\\n\\n\\n\\n\\n\\n\\n\\n\\n\\n\\n\\n\\n\\n\\n\\n\\n\\n\\n\\n\\n\\n\\n\\n\\n\\n\\n\\n\\n\\n\\n\\n\\n\\n\\n\\n\\n\\n\\n\\n\\n\\n\\nSkip to main content\\nSkip to footer\\n\\n\\n\\n\\n\\n\\n\\n\\n\\n\\n\\n\\n\\nMenu\\n\\n\\n\\n\\n \\nAccenture\\n\\n\\n \\n\\n\\nAccenture\\n\\n\\n\\n\\n\\n\\n\\n\\nClose Menu\\n\\n\\n\\n\\n\\nWhat we do\\n\\n \\n\\n\\n\\n\\n\\nBack\\n\\n\\n\\nWhat we do\\n\\n\\n\\n\\n\\nCapabilities\\nCapabilities\\n\\nCloud \\n\\t\\t\\t\\nCybersecurity \\n\\t\\t\\t\\nData & Artificial Intelligence \\n\\t\\t\\t\\nDigital Engineering & Manufacturing \\n\\t\\t\\t\\nEmerging Technology \\n\\t\\t\\t\\nEnterprise Platforms \\n\\t\\t\\t\\nFinance & Risk Management \\n\\t\\t\\t\\nLearning \\n\\t\\t\\t\\nMarketing & Experience \\n\\t\\t\\t\\nMetaverse \\n\\t\\t\\t\\nPrivate Equity \\n\\t\\t\\t\\nSales & Commerce \\n\\t\\t\\t\\nStrategic Managed Services \\n\\t\\t\\t\\nStrategy \\n\\t\\t\\t\\nSupply Chain \\n\\t\\t\\t\\nSustainability \\n\\t\\t\\t\\nTalent & Organization \\n\\t\\t\\t\\nTechnology Transformation \\n\\t\\t\\t\\n\\n\\n\\nIndustries\\nIndustries\\n\\nAerospace & Defense \\n\\t\\t\\t\\nAutomotive \\n\\t\\t\\t\\nBanking \\n\\t\\t\\t\\nCapital Markets \\n\\t\\t\\t\\nChemicals \\n\\t\\t\\t\\nCommunications & Media \\n\\t\\t\\t\\nConsumer Goods & Services \\n\\t\\t\\t\\nEnergy \\n\\t\\t\\t\\nHealth \\n\\t\\t\\t\\nHigh Tech \\n\\t\\t\\t\\nIndustrial \\n\\t\\t\\t\\nInsurance \\n\\t\\t\\t\\nLife Sciences \\n\\t\\t\\t\\nNatural Resources \\n\\t\\t\\t\\nPublic Service \\n\\t\\t\\t\\nRetail \\n\\t\\t\\t\\nSoftware & Platforms \\n\\t\\t\\t\\nTravel \\n\\t\\t\\t\\nUtilities \\n\\t\\t\\t\\n\\n\\n\\n\\n\\n\\n\\n\\n\\n\\nWhat we think\\n\\n\\n\\nWho we are\\n\\n \\n\\n\\n\\n\\n\\nBack\\n\\n\\n\\nAbout Accenture\\n\\n\\n\\n\\n\\nOur organization\\nOur organization\\n\\nLeaders \\n\\t\\t\\t\\nLocations \\n\\t\\t\\t\\n360° Value Report \\n\\t\\t\\t\\n\\n\\n\\nMedia & Investors\\nMedia & Investors\\n\\nMedia Relations \\n\\t\\t\\t\\nInvestor Relations \\n\\t\\t\\t\\n\\n\\n\\n\\n\\n\\n\\n\\n\\n\\nCareers\\n\\n \\n\\n\\n\\n\\n\\nBack\\n\\n\\n\\nCareers home\\n\\n\\n\\n\\n\\nFind a job\\nFind a job\\n\\nSearch all jobs \\n\\t\\t\\t\\nExecutive leaders \\n\\t\\t\\t\\nExperienced professionals \\n\\t\\t\\t\\nTraining & development \\n\\t\\t\\t\\nWork environment \\n\\t\\t\\t\\n\\n\\n\\nExplore jobs\\nExplore jobs\\n\\nSearch jobs by areas of expertise \\n\\t\\t\\t\\nConsulting jobs \\n\\t\\t\\t\\nCorporate jobs \\n\\t\\t\\t\\nDigital jobs \\n\\t\\t\\t\\nOperations jobs \\n\\t\\t\\t\\nStrategy jobs \\n\\t\\t\\t\\nTechnology jobs \\n\\t\\t\\t\\nIndustry X jobs \\n\\t\\t\\t\\n\\n\\n\\n\\n\\n\\n\\n\\n\\n\\n\\n\\nContact Us\\n\\n\\nCareers\\n\\n\\nLocations\\n\\n\\n\\n\\nlinkedin\\n\\n\\n\\nfacebook\\n\\n\\n\\ninstagram\\n\\n\\n\\n\\n\\n\\n\\n\\nSearch\\n\\n\\n\\n\\n\\nIndia\\n\\n\\nCurrent Country: United States\\n\\n\\n\\n\\n\\nDefault (English)\\nAll COUNTRIES & LANGUAGES\\nArgentina (Spanish)\\n\\nAustralia (English)\\n\\nAustria (German) \\n\\nBelgium (English)\\n\\nBrazil (Portuguese)\\n\\nBulgaria (English)\\n\\nCanada (English)\\n\\nCanada (French) \\n\\nChile (Spanish)\\n\\nChina/Hong Kong SAR (English)\\n\\nChina/Mainland (Chinese)\\n\\nChina/Mainland (English)\\n\\nColombia (Spanish)\\n\\nCosta Rica (English)\\n\\nCzech Republic (English)\\n\\nDenmark (English)\\n\\nFinland (English)\\n\\nFrance (French)\\n\\nGermany (German)\\n\\nGreece (English)\\n\\nHungary (English)\\n\\nIndia (English)\\n\\nIndonesia (English)\\n\\nIreland  (English)\\n\\nIsrael (English)\\n\\nItaly (Italian)\\n\\nJapan (Japanese)\\n\\nLatvia (English)\\n\\nLuxembourg (English)\\n\\nMalaysia (English)\\n\\nMauritius (English)\\n\\nMexico (Spanish)\\n\\nMorocco (English)\\n\\nNetherlands (English)\\n\\nNew Zealand (English)\\n\\nNorway (English)\\n\\nPhilippines (English)\\n\\nPoland (English)\\n\\nPoland (Polish)\\n\\nPortugal (Portuguese)\\n\\nRomania (English)\\n\\nSaudi Arabia (English)\\n\\nSingapore (English)\\n\\nSlovakia (English)\\n\\nSouth Africa (English)\\n\\nSpain (Spanish)\\n\\nSweden (English)\\n\\nSwitzerland (English)\\n\\nThailand (English)\\n\\nUAE (English)\\n\\nUnited Kingdom (English)\\n\\nUSA (English)\\n\\n\\n\\n\\n\\n\\n\\n\\n\\n\\n\\n\\n\\n\\n\\n\\n\\n\\n\\n\\n\\n\\n\\n\\n\\n\\n\\n\\n\\n\\n\\n\\n\\n\\n\\nClose\\n\\n\\n\\n\\n\\n\\n\\n\\n\\n\\n\\n\\n         Case Study\\n      \\n\\n         Creating five-star associate experiences: Marriott International\\n      \\n\\n\\n\\n\\nAccenture and Marriott International created a new global HR hub that delivers employee experiences as exceptional as the guest experiences that make Marriott, Marriott.\\n\\n\\nExpand\\n\\n\\n\\n\\n\\n\\n\\n\\n\\n\\n\\nClose\\n\\n\\n\\n\\n\\n\\n\\n\\n\\n\\n\\n\\n         Research Report\\n      \\n\\n         Reinvention in the age of generative AI\\n      \\n\\n\\n\\n\\nFive imperatives the C-suite must address to reinvent in the age of generative AI.\\n\\n\\nExpand\\n\\n\\n\\n\\n\\n\\n\\n\\n\\n\\n\\nClose\\n\\n\\n\\n\\n\\n\\n\\n\\n\\n\\n\\n\\n         Case Study\\n      \\n\\n         Generative AI in the driver’s seat: BMW\\n      \\n\\n\\n\\n\\nAccenture and BMW teamed up to create a new platform that uses generative AI to drive decisions across North America, accelerating productivity and experiences.\\n\\n\\nExpand\\n\\n\\n\\n\\n\\n\\n\\n\\n\\n\\n\\nClose\\n\\n\\n\\n         Announcement\\n      \\n\\n         Accenture takes new steps to help clients scale generative AI responsibly\\n      \\n\\n\\n\\n\\n\\n\\n\\nAccenture appoints Arnab Chakraborty as Chief Responsible AI Officer, and expands its capability to assess, design, implement, scale and monitor AI systems in a responsible way to help clients drive growth and value.\\n\\n\\nExpand\\n\\n\\n\\n\\n\\n\\n\\n\\n\\n\\n\\nClose\\n\\n\\n\\n\\n\\n\\n\\n\\n\\n\\n\\n\\n         Research Report\\n      \\n\\n         Turn disruption into value creation\\n      \\n\\n\\n\\n\\nIn an era of permacrisis, companies are embracing reinvention and turning to their CFOs. To meet the moment, CFOs need to transform their finance function to better support the organization’s reinvention and growth ambitions.\\n\\n\\nExpand\\n\\n\\n\\n\\n\\n\\n\\n\\n\\n\\n\\nClose\\n\\n\\n\\n\\n\\n\\n\\n\\n\\n\\n\\n\\n         Case Study\\n      \\n\\n         Banking on happy customers: BBVA\\n      \\n\\n\\n\\n\\nBBVA worked with Accenture to become one of the world’s most customer-centric banks. Using digital technology to reach people where they are has helped them see massive growth.\\n\\n\\nExpand\\n\\n\\n\\n\\n\\n\\n\\n\\n\\n\\n\\nClose\\n\\n\\n\\n\\n\\n\\n\\n\\n\\n\\n\\n\\n         Research Report\\n      \\n\\n         The empowered consumer\\n      \\n\\n\\n\\n\\nInformation overload is impacting people’s confidence in their decisions — big or small.\\xa0 \\xa0AI tools can help companies deliver hyper-personalized experiences that cut through the noise, deepening loyalty in the process.\\n\\n\\nExpand\\n\\n\\n\\n\\n\\n\\n\\n\\n\\n\\n\\nClose\\n\\n\\n\\n\\n\\n\\n\\n\\n\\n\\n\\n\\n         Case Study\\n      \\n\\n         Travel to the metaverse: Changi Airport Group\\n      \\n\\n\\n\\n\\nChangi Airport has been ranked the World's Best Airport twelve times. To take the traveler experience to new heights, we created ChangiVerse, an immersive metaverse experience.\\n\\n\\nExpand\\n\\n\\n\\n\\n\\n\\n\\n\\nCarousel slider control\\n\\n\\n\\n\\n\\n\\n\\n\\n\\n360 Value\\n\\n\\n\\n\\n\\n\\n\\n\\n\\n\\n\\n\\n\\n\\n\\n\\n\\n\\n\\n\\n\\n\\n\\nEvery day, we embrace change and create value for all our stakeholders, in every part of the world.  \\n\\n\\n\\n\\n\\nPlay\\n\\n\\n\\nPause\\n\\n\\n\\nPrevious\\n\\n\\n\\nNext\\n\\n\\n\\n\\n\\n\\n\\n\\n\\n\\n\\n\\n\\n\\n\\n\\n\\n\\n\\n\\n\\n\\n\\n\\n\\n\\n\\n\\n\\n\\n\\n\\nAccenture’s responsible AI blueprint\\nAccenture has operationalized ethical AI in our company. Now, our responsible AI program is also helping clients around the world use AI intelligently and responsibly.\\n\\nRead more\\n\\n\\n\\n\\n\\nThe metaverse meets public good\\nThe World Economic Forum, Accenture and Microsoft have built a purpose-driven platform in\\u202fthe metaverse to drive action and cooperation and to revolutionize progress.\\n\\nRead more\\n\\n\\n\\n\\n\\nCybersecurity in orbit\\nAs outer space gets more crowded and contested, QuSecure is protecting communications and data transmission with the agility required for the world of post-quantum computing.\\n\\nRead more\\n\\n\\n\\n\\n\\nGenerative AI transforming customer service\\nSifting through thousands of emails daily is tedious work, but generative AI makes it easy. A multinational bank is using generative AI to quickly process and respond to client emails used for the settling, asset servicing and reconciliation of trades – normally a massive manual task. It directs emails to the right teams and drafts responses for employees to check. The result? Faster and more enjoyable customer service, a boost in worker efficiency and more cost-effective operations.\\n\\nRead more\\n\\n\\n\\n\\n\\nMondelēz International’s Data and AI Transformation \\nThe global snacking giant is laying a tasty foundation for reinvention and growth. Accenture is helping Mondelēz International to embrace the power of data and AI, build a strong digital core and implement interoperable cloud-enabled technology.\\n\\nRead more\\n\\n\\n\\n\\n\\nCreating a sense of belonging\\nA global retailer and Accenture co-created a multiyear inclusion and diversity strategy to facilitate a greater sense of belonging for their people.\\n\\nRead more\\n\\n\\n\\n\\n\\nEgg gives electric vehicle charging a jolt\\nSeeking sustainability, more people are buying electric vehicles. To keep them powered up, Liberty Global and Accenture developed Egg, a renewable energy brand that makes installing home EV chargers easy and affordable.\\n\\nRead more\\n\\n\\n\\n\\n\\nReimagining Saudi Arabia’s economy\\nIn just five years, the Saudi Data and Artificial Intelligence Authority, in partnership with Accenture, has built a strong foundation for a globally competitive, data- and AI-driven economy.\\n\\nRead more\\n\\n\\n\\n\\n\\n\\n\\n\\n\\n\\n\\n\\n\\n\\nGlobal recognition and awards\\n\\n\\n\\n\\nToggle awards card detail view\\n\\n\\n\\n\\nAn Ethical Business Leader\\n\\n\\n\\n17 consecutive years as one of Ethisphere’s World’s Most Ethical Companies.\\nWe strive to do the right thing and act as a powerful force for good.\\n\\n\\n\\nExpand\\n\\n\\n\\n\\n\\n\\n\\nToggle awards card detail view\\n\\n\\n\\n\\nA Great Place to Work\\n\\n\\n\\nNo. 10 on the World's Best Workplaces™ list.\\nThis recognition is based on feedback from our people—measuring their level of trust, pride and camaraderie at work.\\n\\n\\n\\nExpand\\n\\n\\n\\n\\n\\n\\n\\nToggle awards card detail view\\n\\n\\n\\n\\nAn Influential Innovator\\n\\n\\n\\nJulie Sweet, our chair and CEO, is one of the TIME100 Most Influential People of 2024.\\nEvery day, Julie and all of us at Accenture help the world’s leading companies embrace continuous reinvention, with innovation and people at the center.\\n\\n\\n\\nExpand\\n\\n\\n\\n\\n\\n\\n\\n\\n\\n\\n\\n\\n\\n\\n\\nCareers\\nGrow your career at the heart of change\\n\\n\\t\\t\\tIt's your time to shine. Bring your ingenuity, curiosity and big ideas.\\n\\nJoin us\\n\\n\\n\\n\\n\\n\\n\\n\\t\\tAccenture news\\n\\t\\n\\nPlay\\n\\n\\n\\nPause\\n\\n\\n\\n\\n\\n2024 May 09\\n Currys Selects Accenture and Microsoft to Accelerate Adoption of Generative AI \\n\\n\\n\\n\\n2024 May 06\\n Accenture Named Official Business and Technology Consulting Partner of the National Football League \\n\\n\\n\\n\\n2024 April 03\\n Accenture Appoints Karalee Close as Global Talent  & Organization Lead to Help Power Clients’  Reinvention with Technology and Talent \\n\\n\\n\\n\\n2024 March 27\\n Accenture Invests in Sanctuary  AI to Bring AI-Powered,  Humanoid Robotics to Work  Alongside Humans \\n\\n\\n\\n\\n2024 March 25\\n Accenture and Adobe to Co-Develop Industry-Specific  Generative AI Solutions to  Accelerate Marketing  Transformation \\n\\n\\n\\n\\n2024 March 18\\n Accenture Teams with NVIDIA to Showcase AI-Powered Immersive Client Experiences for Defender \\n\\n\\n\\n\\nCarousel slider control\\n\\n\\n\\n\\n\\n\\n\\n\\n\\n\\n\\n\\nLet there be change\\n\\n\\n\\nPreference Center\\nCareers\\nAbout Us\\nContact Us\\nLocations\\nSitemap\\n\\n\\nPrivacy Statement\\nTerms & Conditions\\nCookie Policy/Settings\\nAccessibility Statement\\n\\n\\n\\n\\t\\t\\t\\t© 2024\\n\\t\\t\\t\\tAccenture. All Rights Reserved.\\n\\t\\t\\t\\n\\n\\n\\n\\n\\n\\n\\n\\n\\n\\n\\n\\n\\n\\n\\n\\n\\n\\n\\n\\n\\n\\n\\n\\n\", metadata={'source': 'https://www.accenture.com/in-en', 'title': 'India | Let There Be Change | Accenture', 'description': 'Accenture embraces the power of change to create 360° value and shared success for our clients, people, shareholders, partners and communities. Learn more.', 'language': 'en'})]"
      ]
     },
     "execution_count": 20,
     "metadata": {},
     "output_type": "execute_result"
    }
   ],
   "source": [
    "docs2"
   ]
  },
  {
   "cell_type": "code",
   "execution_count": 21,
   "metadata": {},
   "outputs": [
    {
     "data": {
      "text/plain": [
       "[Document(page_content=\"Careers\\nGrow your career at the heart of change\\n\\n\\t\\t\\tIt's your time to shine. Bring your ingenuity, curiosity and big ideas.\\n\\nJoin us\\n\\n\\n\\n\\n\\n\\n\\n\\t\\tAccenture news\\n\\t\\n\\nPlay\\n\\n\\n\\nPause\\n\\n\\n\\n\\n\\n2024 May 09\\n Currys Selects Accenture and Microsoft to Accelerate Adoption of Generative AI \\n\\n\\n\\n\\n2024 May 06\\n Accenture Named Official Business and Technology Consulting Partner of the National Football League \\n\\n\\n\\n\\n2024 April 03\\n Accenture Appoints Karalee Close as Global Talent  & Organization Lead to Help Power Clients’  Reinvention with Technology and Talent \\n\\n\\n\\n\\n2024 March 27\\n Accenture Invests in Sanctuary  AI to Bring AI-Powered,  Humanoid Robotics to Work  Alongside Humans \\n\\n\\n\\n\\n2024 March 25\\n Accenture and Adobe to Co-Develop Industry-Specific  Generative AI Solutions to  Accelerate Marketing  Transformation \\n\\n\\n\\n\\n2024 March 18\\n Accenture Teams with NVIDIA to Showcase AI-Powered Immersive Client Experiences for Defender \\n\\n\\n\\n\\nCarousel slider control\\n\\n\\n\\n\\n\\n\\n\\n\\n\\n\\n\\n\\nLet there be change\", metadata={'source': 'https://www.accenture.com/in-en', 'title': 'India | Let There Be Change | Accenture', 'description': 'Accenture embraces the power of change to create 360° value and shared success for our clients, people, shareholders, partners and communities. Learn more.', 'language': 'en'}),\n",
       " Document(page_content='India | Let There Be Change | Accenture\\n\\n\\n\\n\\n\\n\\n\\n\\n\\n\\n\\n\\n\\n\\n\\n\\n\\n\\n\\n\\n\\n\\n\\n\\n\\n\\n\\n\\n\\n\\n\\n\\n\\n\\n\\n\\n\\n\\n\\n\\n\\n\\n\\n\\n\\n\\n\\n\\n\\n\\n\\n\\n\\n\\n\\n\\n\\n\\n\\n\\n\\n\\n\\n\\n\\n\\n\\n\\n\\n\\n\\n\\n\\n\\nSkip to main content\\nSkip to footer\\n\\n\\n\\n\\n\\n\\n\\n\\n\\n\\n\\n\\n\\nMenu\\n\\n\\n\\n\\n \\nAccenture\\n\\n\\n \\n\\n\\nAccenture\\n\\n\\n\\n\\n\\n\\n\\n\\nClose Menu\\n\\n\\n\\n\\n\\nWhat we do\\n\\n \\n\\n\\n\\n\\n\\nBack\\n\\n\\n\\nWhat we do\\n\\n\\n\\n\\n\\nCapabilities\\nCapabilities\\n\\nCloud \\n\\t\\t\\t\\nCybersecurity \\n\\t\\t\\t\\nData & Artificial Intelligence \\n\\t\\t\\t\\nDigital Engineering & Manufacturing \\n\\t\\t\\t\\nEmerging Technology \\n\\t\\t\\t\\nEnterprise Platforms \\n\\t\\t\\t\\nFinance & Risk Management \\n\\t\\t\\t\\nLearning \\n\\t\\t\\t\\nMarketing & Experience \\n\\t\\t\\t\\nMetaverse \\n\\t\\t\\t\\nPrivate Equity \\n\\t\\t\\t\\nSales & Commerce \\n\\t\\t\\t\\nStrategic Managed Services \\n\\t\\t\\t\\nStrategy \\n\\t\\t\\t\\nSupply Chain \\n\\t\\t\\t\\nSustainability \\n\\t\\t\\t\\nTalent & Organization \\n\\t\\t\\t\\nTechnology Transformation \\n\\t\\t\\t\\n\\n\\n\\nIndustries\\nIndustries', metadata={'source': 'https://www.accenture.com/in-en', 'title': 'India | Let There Be Change | Accenture', 'description': 'Accenture embraces the power of change to create 360° value and shared success for our clients, people, shareholders, partners and communities. Learn more.', 'language': 'en'}),\n",
       " Document(page_content=\"An Ethical Business Leader\\n\\n\\n\\n17 consecutive years as one of Ethisphere’s World’s Most Ethical Companies.\\nWe strive to do the right thing and act as a powerful force for good.\\n\\n\\n\\nExpand\\n\\n\\n\\n\\n\\n\\n\\nToggle awards card detail view\\n\\n\\n\\n\\nA Great Place to Work\\n\\n\\n\\nNo. 10 on the World's Best Workplaces™ list.\\nThis recognition is based on feedback from our people—measuring their level of trust, pride and camaraderie at work.\\n\\n\\n\\nExpand\\n\\n\\n\\n\\n\\n\\n\\nToggle awards card detail view\\n\\n\\n\\n\\nAn Influential Innovator\\n\\n\\n\\nJulie Sweet, our chair and CEO, is one of the TIME100 Most Influential People of 2024.\\nEvery day, Julie and all of us at Accenture help the world’s leading companies embrace continuous reinvention, with innovation and people at the center.\\n\\n\\n\\nExpand\\n\\n\\n\\n\\n\\n\\n\\n\\n\\n\\n\\n\\n\\n\\n\\nCareers\\nGrow your career at the heart of change\\n\\n\\t\\t\\tIt's your time to shine. Bring your ingenuity, curiosity and big ideas.\\n\\nJoin us\\n\\n\\n\\n\\n\\n\\n\\n\\t\\tAccenture news\\n\\t\\n\\nPlay\\n\\n\\n\\nPause\", metadata={'source': 'https://www.accenture.com/in-en', 'title': 'India | Let There Be Change | Accenture', 'description': 'Accenture embraces the power of change to create 360° value and shared success for our clients, people, shareholders, partners and communities. Learn more.', 'language': 'en'}),\n",
       " Document(page_content='Careers home\\n\\n\\n\\n\\n\\nFind a job\\nFind a job\\n\\nSearch all jobs \\n\\t\\t\\t\\nExecutive leaders \\n\\t\\t\\t\\nExperienced professionals \\n\\t\\t\\t\\nTraining & development \\n\\t\\t\\t\\nWork environment \\n\\t\\t\\t\\n\\n\\n\\nExplore jobs\\nExplore jobs\\n\\nSearch jobs by areas of expertise \\n\\t\\t\\t\\nConsulting jobs \\n\\t\\t\\t\\nCorporate jobs \\n\\t\\t\\t\\nDigital jobs \\n\\t\\t\\t\\nOperations jobs \\n\\t\\t\\t\\nStrategy jobs \\n\\t\\t\\t\\nTechnology jobs \\n\\t\\t\\t\\nIndustry X jobs \\n\\t\\t\\t\\n\\n\\n\\n\\n\\n\\n\\n\\n\\n\\n\\n\\nContact Us\\n\\n\\nCareers\\n\\n\\nLocations\\n\\n\\n\\n\\nlinkedin\\n\\n\\n\\nfacebook\\n\\n\\n\\ninstagram\\n\\n\\n\\n\\n\\n\\n\\n\\nSearch\\n\\n\\n\\n\\n\\nIndia\\n\\n\\nCurrent Country: United States\\n\\n\\n\\n\\n\\nDefault (English)\\nAll COUNTRIES & LANGUAGES\\nArgentina (Spanish)\\n\\nAustralia (English)\\n\\nAustria (German) \\n\\nBelgium (English)\\n\\nBrazil (Portuguese)\\n\\nBulgaria (English)\\n\\nCanada (English)\\n\\nCanada (French) \\n\\nChile (Spanish)\\n\\nChina/Hong Kong SAR (English)\\n\\nChina/Mainland (Chinese)\\n\\nChina/Mainland (English)\\n\\nColombia (Spanish)\\n\\nCosta Rica (English)\\n\\nCzech Republic (English)\\n\\nDenmark (English)\\n\\nFinland (English)\\n\\nFrance (French)\\n\\nGermany (German)\\n\\nGreece (English)', metadata={'source': 'https://www.accenture.com/in-en', 'title': 'India | Let There Be Change | Accenture', 'description': 'Accenture embraces the power of change to create 360° value and shared success for our clients, people, shareholders, partners and communities. Learn more.', 'language': 'en'})]"
      ]
     },
     "execution_count": 21,
     "metadata": {},
     "output_type": "execute_result"
    }
   ],
   "source": [
    "retriever2.invoke('What is the work culture in Accenture')"
   ]
  },
  {
   "cell_type": "code",
   "execution_count": 22,
   "metadata": {},
   "outputs": [],
   "source": [
    "from langchain_community.document_loaders import TextLoader\n",
    "loader2 = TextLoader('./datas/canada.txt')\n",
    "docs2 = loader2.load()\n",
    "documents2 = RecursiveCharacterTextSplitter(\n",
    "    chunk_size=1000, chunk_overlap=200\n",
    ").split_documents(docs2)\n",
    "vector2 = FAISS.from_documents(documents2, embeddings)\n",
    "retriever2 = vector2.as_retriever()"
   ]
  },
  {
   "cell_type": "code",
   "execution_count": 23,
   "metadata": {},
   "outputs": [
    {
     "data": {
      "text/plain": [
       "[Document(page_content='Let\\'s explore the culture, festivals, and history of Canada in detail.\\n\\n**Canada\\'s Culture:**\\n\\n**1. Cultural Diversity:** Canada is known for its cultural mosaic, where people from diverse backgrounds and ethnicities coexist harmoniously. This multiculturalism is a defining feature of Canadian society.\\n\\n**2. Bilingualism:** Canada is officially bilingual, with English and French as the two official languages. This bilingualism reflects the country\\'s history and the presence of a significant French-speaking population in the province of Quebec.\\n\\n**3. Arts and Culture:** Canada has a rich artistic heritage, with contributions to literature, music, film, and visual arts. Canadian authors like Margaret Atwood and Yann Martel have achieved international acclaim. The country is also known for its indigenous art and traditions.\\n\\n**4. Indigenous Culture:** Canada\\'s indigenous peoples, including First Nations, Inuit, and Métis, have a deep cultural heritage. Indigenous art, storytelling, and traditions are an integral part of Canadian culture.\\n\\n**5. Cuisine:** Canadian cuisine is influenced by both indigenous and immigrant cultures. Iconic dishes include poutine (fries with cheese curds and gravy), butter tarts, tourtière (meat pie), and Nanaimo bars.\\n\\n**Canada\\'s Festivals:**\\n\\n**1. Canada Day:** Celebrated on July 1st, Canada Day marks the anniversary of Confederation in 1867 when Canada became a self-governing dominion within the British Empire. Festivities include parades, fireworks, and concerts.\\n\\n**2. Thanksgiving:** Similar to the U.S., Canada celebrates Thanksgiving on the second Monday in October. Families gather for a meal to give thanks for the harvest and blessings of the past year.\\n\\n**3. Winterlude:** Held in Ottawa, this winter festival showcases Canada\\'s love for winter sports and activities. It features ice sculptures, snow slides, and outdoor concerts.\\n\\n**4. Calgary Stampede:** Known as the \"Greatest Outdoor Show on Earth,\" this rodeo and exhibition celebrates Canada\\'s western heritage with rodeo events, concerts, and a lively carnival atmosphere.\\n\\n**5. Indigenous Powwows:** Throughout the year, various indigenous communities in Canada host powwows, which are gatherings featuring traditional dancing, drumming, and cultural celebrations.\\n\\n**Canada\\'s History:**\\n\\n**1. Indigenous Peoples:** Canada has a long history of indigenous cultures dating back thousands of years. These diverse communities have their own languages, traditions, and histories.\\n\\n**2. European Exploration:** European exploration of Canada began in the 15th century with the arrival of explorers like John Cabot and Jacques Cartier. The fur trade became a significant economic activity.\\n\\n**3. Confederation:** On July 1, 1867, the Dominion of Canada was established through the British North America Act, uniting the provinces of Ontario, Quebec, New Brunswick, and Nova Scotia.\\n\\n**4. Expansion and Immigration:** Canada\\'s expansion westward in the late 19th and early 20th centuries attracted immigrants from Europe, Asia, and other parts of the world. This diversity has shaped modern Canada.\\n\\n**5. Independence:** Canada gradually gained more autonomy from Britain and achieved full sovereignty in 1982 with the Canada Act. The country is a constitutional monarchy with a parliamentary democracy.\\n\\nCanada\\'s culture, festivals, and history are a reflection of its multicultural identity and its commitment to inclusivity and diversity. Its history is marked by indigenous heritage, European exploration, and a modern nation known for its natural beauty, social programs, and progressive values.', metadata={'source': './datas/canada.txt'})]"
      ]
     },
     "execution_count": 23,
     "metadata": {},
     "output_type": "execute_result"
    }
   ],
   "source": [
    "docs2"
   ]
  },
  {
   "cell_type": "code",
   "execution_count": 24,
   "metadata": {},
   "outputs": [],
   "source": [
    "retriever_tool2 = create_retriever_tool(\n",
    "    retriever2,\n",
    "    \"countries Q&A\",\n",
    "    \"Search for information about Canda. For any questions about Canada, you must use this tool!\",\n",
    ")"
   ]
  },
  {
   "cell_type": "code",
   "execution_count": 25,
   "metadata": {},
   "outputs": [],
   "source": [
    "tools = [retriever_tool, retriever_tool2]"
   ]
  },
  {
   "cell_type": "code",
   "execution_count": 26,
   "metadata": {},
   "outputs": [],
   "source": [
    "from langchain_groq import ChatGroq\n",
    "\n",
    "\n",
    "llm = ChatGroq(temperature=0, model_name=\"mixtral-8x7b-32768\")\n"
   ]
  },
  {
   "cell_type": "code",
   "execution_count": 29,
   "metadata": {},
   "outputs": [
    {
     "data": {
      "text/plain": [
       "[SystemMessagePromptTemplate(prompt=PromptTemplate(input_variables=[], template='You are a helpful assistant')),\n",
       " MessagesPlaceholder(variable_name='chat_history', optional=True),\n",
       " HumanMessagePromptTemplate(prompt=PromptTemplate(input_variables=['input'], template='{input}')),\n",
       " MessagesPlaceholder(variable_name='agent_scratchpad')]"
      ]
     },
     "execution_count": 29,
     "metadata": {},
     "output_type": "execute_result"
    }
   ],
   "source": [
    "from langchain import hub\n",
    "\n",
    "# Get the prompt to use - you can modify this!\n",
    "prompt = hub.pull(\"hwchase17/openai-functions-agent\")\n",
    "prompt.messages"
   ]
  },
  {
   "cell_type": "code",
   "execution_count": 30,
   "metadata": {},
   "outputs": [],
   "source": [
    "from langchain.agents import create_tool_calling_agent\n",
    "\n",
    "agent = create_tool_calling_agent(llm, tools, prompt)\n"
   ]
  },
  {
   "cell_type": "code",
   "execution_count": 31,
   "metadata": {},
   "outputs": [],
   "source": [
    "from langchain.agents import AgentExecutor\n",
    "\n",
    "agent_executor = AgentExecutor(agent=agent, tools=tools, verbose=True)"
   ]
  },
  {
   "cell_type": "code",
   "execution_count": 32,
   "metadata": {},
   "outputs": [
    {
     "name": "stdout",
     "output_type": "stream",
     "text": [
      "\n",
      "\n",
      "\u001b[1m> Entering new AgentExecutor chain...\u001b[0m\n",
      "\u001b[32;1m\u001b[1;3m\n",
      "Invoking: `langsmith_search` with `{'query': 'What is LangSmith?'}`\n",
      "\n",
      "\n",
      "\u001b[0m\u001b[36;1m\u001b[1;3mGet started with LangSmith | ü¶úÔ∏èüõ†Ô∏è LangSmith\n",
      "\n",
      "Skip to main contentLangSmith API DocsSearchGo to AppQuick startTutorialsHow-to guidesConceptsReferencePricingSelf-hostingQuick startOn this pageGet started with LangSmithLangSmith is a platform for building production-grade LLM applications. It allows you to closely monitor and evaluate your application, so you can ship quickly and with confidence. Use of LangChain is not necessary - LangSmith works on its own!1. Install LangSmith‚ÄãPythonTypeScriptpip install -U langsmithyarn add langchain langsmith2. Create an API key‚ÄãTo create an API key head to the Settings page. Then click Create API Key.3. Set up your environment‚ÄãShellexport LANGCHAIN_TRACING_V2=trueexport LANGCHAIN_API_KEY=<your-api-key># The below examples use the OpenAI API, though it's not necessary in generalexport OPENAI_API_KEY=<your-openai-api-key>4. Log your first trace‚ÄãWe provide multiple ways to log traces to LangSmith. Below, we'll highlight\n",
      "\n",
      "how to use traceable. See more on the Annotate code for tracing page.PythonTypeScriptimport openaifrom langsmith.wrappers import wrap_openaifrom langsmith import traceable# Auto-trace LLM calls in-contextclient = wrap_openai(openai.Client())@traceable # Auto-trace this functiondef pipeline(user_input: str):    result = client.chat.completions.create(        messages=[{\"role\": \"user\", \"content\": user_input}],        model=\"gpt-3.5-turbo\"    )    return result.choices[0].message.contentpipeline(\"Hello, world!\")# Out:  Hello there! How can I assist you today?import { OpenAI } from \"openai\";import { traceable } from \"langsmith/traceable\";import { wrapOpenAI } from \"langsmith/wrappers\";// Auto-trace LLM calls in-contextconst client = wrapOpenAI(new OpenAI());// Auto-trace this functionconst pipeline = traceable(async (user_input) => {    const result = await client.chat.completions.create({        messages: [{ role: \"user\", content: user_input }],        model: \"gpt-3.5-turbo\",    });\n",
      "\n",
      "description=\"A sample dataset in LangSmith.\")client.create_examples(    inputs=[        {\"postfix\": \"to LangSmith\"},        {\"postfix\": \"to Evaluations in LangSmith\"},    ],    outputs=[        {\"output\": \"Welcome to LangSmith\"},        {\"output\": \"Welcome to Evaluations in LangSmith\"},    ],    dataset_id=dataset.id,)# Define your evaluatordef exact_match(run, example):    return {\"score\": run.outputs[\"output\"] == example.outputs[\"output\"]}experiment_results = evaluate(    lambda input: \"Welcome \" + input['postfix'], # Your AI system goes here    data=dataset_name, # The data to predict and grade over    evaluators=[exact_match], # The evaluators to score the results    experiment_prefix=\"sample-experiment\", # The name of the experiment    metadata={      \"version\": \"1.0.0\",      \"revision_id\": \"beta\"    },)import { Client, Run, Example } from \"langsmith\";import { evaluate } from \"langsmith/evaluation\";import { EvaluationResult } from \"langsmith/evaluation\";const client = new\u001b[0m\u001b[32;1m\u001b[1;3mLangSmith is a platform for building production-grade LLM (large language model) applications. It allows you to closely monitor and evaluate your application, so you can ship quickly and with confidence. You can install LangSmith using pip or npm, and then create an API key to set up your environment. LangSmith works on its own, without the need for LangChain.\n",
      "\n",
      "To answer your question, here's how you can get started with LangSmith:\n",
      "\n",
      "1. Install LangSmith:\n",
      "   - For Python: `pip install -U langsmithy`\n",
      "   - For TypeScript: `npm install langchain langsmith`\n",
      "\n",
      "2. Create an API key by heading to the Settings page and clicking on 'Create API Key'.\n",
      "\n",
      "3. Set up your environment:\n",
      "   - For Shell:\n",
      "     ```\n",
      "     export LANGCHAIN_TRACING_V2=true\n",
      "     export LANGCHAIN_API_KEY=<your-api-key>\n",
      "     export OPENAI_API_KEY=<your-openai-api-key>\n",
      "     ```\n",
      "\n",
      "4. Log your first trace using the provided examples.\n",
      "\n",
      "LangSmith offers multiple ways to log traces, and the provided examples demonstrate how to use traceable. You can find more information on the Annotate code for tracing page.\n",
      "\n",
      "For Python:\n",
      "```python\n",
      "import openai\n",
      "from langsmith.wrappers import wrap_openaifrom langsmith import traceable\n",
      "\n",
      "# Auto-trace LLM calls in-context\n",
      "client = wrap_openai(openai.Client())\n",
      "\n",
      "@traceable  # Auto-trace this function\n",
      "def pipeline(user_input: str):\n",
      "    result = client.chat.completions.create(\n",
      "        messages=[{\"role\": \"user\", \"content\": user_input}],\n",
      "        model=\"gpt-3.5-turbo\"\n",
      "    )\n",
      "    return result.choices[0].message.content\n",
      "\n",
      "pipeline(\"Hello, world!\")  # Output: Hello there! How can I assist you today?\n",
      "```\n",
      "\n",
      "For TypeScript:\n",
      "```typescript\n",
      "import { OpenAI } from \"openai\";\n",
      "import { traceable } from \"langsmith/traceable\";\n",
      "import { wrapOpenAI } from \"langsmith/wrappers\";\n",
      "\n",
      "// Auto-trace LLM calls in-context\n",
      "const client = wrapOpenAI(new OpenAI());\n",
      "\n",
      "// Auto-trace this function\n",
      "const pipeline = traceable(async (user_input) => {\n",
      "    const result = await client.chat.completions.create({\n",
      "        messages: [{ role: \"user\", content: user_input }],\n",
      "        model: \"gpt-3.5-turbo\",\n",
      "    });\n",
      "\n",
      "    return result.choices[0].message.content;\n",
      "});\n",
      "\n",
      "pipeline(\"Hello, world!\");  // Output: Hello there! How can I assist you today?\n",
      "```\u001b[0m\n",
      "\n",
      "\u001b[1m> Finished chain.\u001b[0m\n"
     ]
    },
    {
     "data": {
      "text/plain": [
       "{'input': 'hi!',\n",
       " 'output': 'LangSmith is a platform for building production-grade LLM (large language model) applications. It allows you to closely monitor and evaluate your application, so you can ship quickly and with confidence. You can install LangSmith using pip or npm, and then create an API key to set up your environment. LangSmith works on its own, without the need for LangChain.\\n\\nTo answer your question, here\\'s how you can get started with LangSmith:\\n\\n1. Install LangSmith:\\n   - For Python: `pip install -U langsmithy`\\n   - For TypeScript: `npm install langchain langsmith`\\n\\n2. Create an API key by heading to the Settings page and clicking on \\'Create API Key\\'.\\n\\n3. Set up your environment:\\n   - For Shell:\\n     ```\\n     export LANGCHAIN_TRACING_V2=true\\n     export LANGCHAIN_API_KEY=<your-api-key>\\n     export OPENAI_API_KEY=<your-openai-api-key>\\n     ```\\n\\n4. Log your first trace using the provided examples.\\n\\nLangSmith offers multiple ways to log traces, and the provided examples demonstrate how to use traceable. You can find more information on the Annotate code for tracing page.\\n\\nFor Python:\\n```python\\nimport openai\\nfrom langsmith.wrappers import wrap_openaifrom langsmith import traceable\\n\\n# Auto-trace LLM calls in-context\\nclient = wrap_openai(openai.Client())\\n\\n@traceable  # Auto-trace this function\\ndef pipeline(user_input: str):\\n    result = client.chat.completions.create(\\n        messages=[{\"role\": \"user\", \"content\": user_input}],\\n        model=\"gpt-3.5-turbo\"\\n    )\\n    return result.choices[0].message.content\\n\\npipeline(\"Hello, world!\")  # Output: Hello there! How can I assist you today?\\n```\\n\\nFor TypeScript:\\n```typescript\\nimport { OpenAI } from \"openai\";\\nimport { traceable } from \"langsmith/traceable\";\\nimport { wrapOpenAI } from \"langsmith/wrappers\";\\n\\n// Auto-trace LLM calls in-context\\nconst client = wrapOpenAI(new OpenAI());\\n\\n// Auto-trace this function\\nconst pipeline = traceable(async (user_input) => {\\n    const result = await client.chat.completions.create({\\n        messages: [{ role: \"user\", content: user_input }],\\n        model: \"gpt-3.5-turbo\",\\n    });\\n\\n    return result.choices[0].message.content;\\n});\\n\\npipeline(\"Hello, world!\");  // Output: Hello there! How can I assist you today?\\n```'}"
      ]
     },
     "execution_count": 32,
     "metadata": {},
     "output_type": "execute_result"
    }
   ],
   "source": [
    "agent_executor.invoke({\"input\": \"hi!\"})"
   ]
  },
  {
   "cell_type": "code",
   "execution_count": 33,
   "metadata": {},
   "outputs": [
    {
     "name": "stdout",
     "output_type": "stream",
     "text": [
      "\n",
      "\n",
      "\u001b[1m> Entering new AgentExecutor chain...\u001b[0m\n",
      "\u001b[32;1m\u001b[1;3m\n",
      "Invoking: `countries Q&A` with `{'query': 'culture of canada'}`\n",
      "\n",
      "\n",
      "\u001b[0m\u001b[33;1m\u001b[1;3mLet's explore the culture, festivals, and history of Canada in detail.\n",
      "\n",
      "**Canada's Culture:**\n",
      "\n",
      "**1. Cultural Diversity:** Canada is known for its cultural mosaic, where people from diverse backgrounds and ethnicities coexist harmoniously. This multiculturalism is a defining feature of Canadian society.\n",
      "\n",
      "**2. Bilingualism:** Canada is officially bilingual, with English and French as the two official languages. This bilingualism reflects the country's history and the presence of a significant French-speaking population in the province of Quebec.\n",
      "\n",
      "**3. Arts and Culture:** Canada has a rich artistic heritage, with contributions to literature, music, film, and visual arts. Canadian authors like Margaret Atwood and Yann Martel have achieved international acclaim. The country is also known for its indigenous art and traditions.\n",
      "\n",
      "**5. Independence:** Canada gradually gained more autonomy from Britain and achieved full sovereignty in 1982 with the Canada Act. The country is a constitutional monarchy with a parliamentary democracy.\n",
      "\n",
      "Canada's culture, festivals, and history are a reflection of its multicultural identity and its commitment to inclusivity and diversity. Its history is marked by indigenous heritage, European exploration, and a modern nation known for its natural beauty, social programs, and progressive values.\n",
      "\n",
      "**4. Indigenous Culture:** Canada's indigenous peoples, including First Nations, Inuit, and Métis, have a deep cultural heritage. Indigenous art, storytelling, and traditions are an integral part of Canadian culture.\n",
      "\n",
      "**5. Cuisine:** Canadian cuisine is influenced by both indigenous and immigrant cultures. Iconic dishes include poutine (fries with cheese curds and gravy), butter tarts, tourtière (meat pie), and Nanaimo bars.\n",
      "\n",
      "**Canada's Festivals:**\n",
      "\n",
      "**1. Canada Day:** Celebrated on July 1st, Canada Day marks the anniversary of Confederation in 1867 when Canada became a self-governing dominion within the British Empire. Festivities include parades, fireworks, and concerts.\n",
      "\n",
      "**2. Thanksgiving:** Similar to the U.S., Canada celebrates Thanksgiving on the second Monday in October. Families gather for a meal to give thanks for the harvest and blessings of the past year.\n",
      "\n",
      "**2. Thanksgiving:** Similar to the U.S., Canada celebrates Thanksgiving on the second Monday in October. Families gather for a meal to give thanks for the harvest and blessings of the past year.\n",
      "\n",
      "**3. Winterlude:** Held in Ottawa, this winter festival showcases Canada's love for winter sports and activities. It features ice sculptures, snow slides, and outdoor concerts.\n",
      "\n",
      "**4. Calgary Stampede:** Known as the \"Greatest Outdoor Show on Earth,\" this rodeo and exhibition celebrates Canada's western heritage with rodeo events, concerts, and a lively carnival atmosphere.\n",
      "\n",
      "**5. Indigenous Powwows:** Throughout the year, various indigenous communities in Canada host powwows, which are gatherings featuring traditional dancing, drumming, and cultural celebrations.\n",
      "\n",
      "**Canada's History:**\n",
      "\n",
      "**1. Indigenous Peoples:** Canada has a long history of indigenous cultures dating back thousands of years. These diverse communities have their own languages, traditions, and histories.\u001b[0m\u001b[32;1m\u001b[1;3mCanada has a rich and diverse culture shaped by its multicultural society, bilingualism, indigenous heritage, and various arts and festivals. Canadian culture is a reflection of its commitment to inclusivity and diversity. Key aspects of Canada's culture include:\n",
      "\n",
      "1. Cultural Diversity: Canada is known for its multiculturalism, where people from diverse backgrounds and ethnicities coexist harmoniously.\n",
      "2. Bilingualism: Canada is officially bilingual, with English and French as the two official languages.\n",
      "3. Arts and Culture: Canada has a rich artistic heritage with contributions to literature, music, film, and visual arts.\n",
      "4. Indigenous Culture: Canada's indigenous peoples have a deep cultural heritage, including art, storytelling, and traditions.\n",
      "5. Cuisine: Canadian cuisine is influenced by both indigenous and immigrant cultures.\n",
      "\n",
      "Canada's festivals and history are also significant aspects of the country's culture. Some notable festivals include Canada Day, Thanksgiving, Winterlude, Calgary Stampede, and Indigenous Powwows. Canada's history is marked by indigenous heritage, European exploration, and a modern nation known for its natural beauty, social programs, and progressive values.\u001b[0m\n",
      "\n",
      "\u001b[1m> Finished chain.\u001b[0m\n"
     ]
    },
    {
     "data": {
      "text/plain": [
       "{'input': 'What is the culture of canada!',\n",
       " 'output': \"Canada has a rich and diverse culture shaped by its multicultural society, bilingualism, indigenous heritage, and various arts and festivals. Canadian culture is a reflection of its commitment to inclusivity and diversity. Key aspects of Canada's culture include:\\n\\n1. Cultural Diversity: Canada is known for its multiculturalism, where people from diverse backgrounds and ethnicities coexist harmoniously.\\n2. Bilingualism: Canada is officially bilingual, with English and French as the two official languages.\\n3. Arts and Culture: Canada has a rich artistic heritage with contributions to literature, music, film, and visual arts.\\n4. Indigenous Culture: Canada's indigenous peoples have a deep cultural heritage, including art, storytelling, and traditions.\\n5. Cuisine: Canadian cuisine is influenced by both indigenous and immigrant cultures.\\n\\nCanada's festivals and history are also significant aspects of the country's culture. Some notable festivals include Canada Day, Thanksgiving, Winterlude, Calgary Stampede, and Indigenous Powwows. Canada's history is marked by indigenous heritage, European exploration, and a modern nation known for its natural beauty, social programs, and progressive values.\"}"
      ]
     },
     "execution_count": 33,
     "metadata": {},
     "output_type": "execute_result"
    }
   ],
   "source": [
    "agent_executor.invoke({\"input\": \"What is the culture of canada!\"})"
   ]
  },
  {
   "cell_type": "code",
   "execution_count": 34,
   "metadata": {},
   "outputs": [
    {
     "name": "stdout",
     "output_type": "stream",
     "text": [
      "\n",
      "\n",
      "\u001b[1m> Entering new AgentExecutor chain...\u001b[0m\n",
      "\u001b[32;1m\u001b[1;3mIn the United States, there is a wide variety of foods due to its multicultural population and large geographical area. Some popular American foods include hamburgers, hot dogs, fried chicken, and apple pie. However, each region of the country has its own unique culinary traditions. For example, New England is known for clam chowder and lobster, the South is famous for barbecue and fried catfish, and the West Coast is popular for Mexican-influenced dishes like burritos and tacos.\u001b[0m\n",
      "\n",
      "\u001b[1m> Finished chain.\u001b[0m\n"
     ]
    },
    {
     "data": {
      "text/plain": [
       "{'input': 'What is the foods in america?',\n",
       " 'output': 'In the United States, there is a wide variety of foods due to its multicultural population and large geographical area. Some popular American foods include hamburgers, hot dogs, fried chicken, and apple pie. However, each region of the country has its own unique culinary traditions. For example, New England is known for clam chowder and lobster, the South is famous for barbecue and fried catfish, and the West Coast is popular for Mexican-influenced dishes like burritos and tacos.'}"
      ]
     },
     "execution_count": 34,
     "metadata": {},
     "output_type": "execute_result"
    }
   ],
   "source": [
    "agent_executor.invoke({\"input\": \"What is the foods in america?\"})"
   ]
  }
 ],
 "metadata": {
  "kernelspec": {
   "display_name": "hireai",
   "language": "python",
   "name": "python3"
  },
  "language_info": {
   "codemirror_mode": {
    "name": "ipython",
    "version": 3
   },
   "file_extension": ".py",
   "mimetype": "text/x-python",
   "name": "python",
   "nbconvert_exporter": "python",
   "pygments_lexer": "ipython3",
   "version": "3.10.14"
  }
 },
 "nbformat": 4,
 "nbformat_minor": 2
}
