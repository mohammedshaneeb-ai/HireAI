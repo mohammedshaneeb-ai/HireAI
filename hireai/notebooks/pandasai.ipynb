{
 "cells": [
  {
   "cell_type": "code",
   "execution_count": 26,
   "metadata": {},
   "outputs": [
    {
     "ename": "PandasAIApiKeyError",
     "evalue": "The api_key client option must be set either by passing api_key to the client or by setting the PANDASAI_API_KEY environment variable. To get the key follow below steps:\n1. Go to https://www.pandabi.ai and sign up\n2. From settings go to API keys and copy\n3. Set environment variable like os.environ['PANDASAI_API_KEY'] = '$2a$10$flb7....'",
     "output_type": "error",
     "traceback": [
      "\u001b[0;31m---------------------------------------------------------------------------\u001b[0m",
      "\u001b[0;31mPandasAIApiKeyError\u001b[0m                       Traceback (most recent call last)",
      "Cell \u001b[0;32mIn[26], line 19\u001b[0m\n\u001b[1;32m      3\u001b[0m \u001b[38;5;28;01mimport\u001b[39;00m \u001b[38;5;21;01mos\u001b[39;00m\n\u001b[1;32m      7\u001b[0m mysql_connector \u001b[38;5;241m=\u001b[39m MySQLConnector(\n\u001b[1;32m      8\u001b[0m     config\u001b[38;5;241m=\u001b[39m{\n\u001b[1;32m      9\u001b[0m         \u001b[38;5;124m\"\u001b[39m\u001b[38;5;124mhost\u001b[39m\u001b[38;5;124m\"\u001b[39m: os\u001b[38;5;241m.\u001b[39menviron\u001b[38;5;241m.\u001b[39mget(\u001b[38;5;124m'\u001b[39m\u001b[38;5;124mDB_HOST\u001b[39m\u001b[38;5;124m'\u001b[39m),\n\u001b[0;32m   (...)\u001b[0m\n\u001b[1;32m     15\u001b[0m     }\n\u001b[1;32m     16\u001b[0m )\n\u001b[0;32m---> 19\u001b[0m df \u001b[38;5;241m=\u001b[39m \u001b[43mSmartDataframe\u001b[49m\u001b[43m(\u001b[49m\u001b[43mmysql_connector\u001b[49m\u001b[43m)\u001b[49m\n\u001b[1;32m     20\u001b[0m df\u001b[38;5;241m.\u001b[39mchat(\u001b[38;5;124m'\u001b[39m\u001b[38;5;124mWhat is the total amount of loans in the last year?\u001b[39m\u001b[38;5;124m'\u001b[39m)\n",
      "File \u001b[0;32m~/anaconda3/envs/hireai/lib/python3.10/site-packages/pandasai/smart_dataframe/__init__.py:62\u001b[0m, in \u001b[0;36mSmartDataframe.__init__\u001b[0;34m(self, df, name, description, custom_head, config)\u001b[0m\n\u001b[1;32m     52\u001b[0m \u001b[38;5;250m\u001b[39m\u001b[38;5;124;03m\"\"\"\u001b[39;00m\n\u001b[1;32m     53\u001b[0m \u001b[38;5;124;03mArgs:\u001b[39;00m\n\u001b[1;32m     54\u001b[0m \u001b[38;5;124;03m    df: A supported dataframe type, or a pandasai Connector\u001b[39;00m\n\u001b[0;32m   (...)\u001b[0m\n\u001b[1;32m     58\u001b[0m \u001b[38;5;124;03m    config (Config, optional): Config to be used. Defaults to None.\u001b[39;00m\n\u001b[1;32m     59\u001b[0m \u001b[38;5;124;03m\"\"\"\u001b[39;00m\n\u001b[1;32m     60\u001b[0m \u001b[38;5;28mself\u001b[39m\u001b[38;5;241m.\u001b[39m_original_import \u001b[38;5;241m=\u001b[39m df\n\u001b[0;32m---> 62\u001b[0m \u001b[38;5;28mself\u001b[39m\u001b[38;5;241m.\u001b[39m_agent \u001b[38;5;241m=\u001b[39m \u001b[43mAgent\u001b[49m\u001b[43m(\u001b[49m\u001b[43m[\u001b[49m\u001b[43mdf\u001b[49m\u001b[43m]\u001b[49m\u001b[43m,\u001b[49m\u001b[43m \u001b[49m\u001b[43mconfig\u001b[49m\u001b[38;5;241;43m=\u001b[39;49m\u001b[43mconfig\u001b[49m\u001b[43m)\u001b[49m\n\u001b[1;32m     64\u001b[0m \u001b[38;5;28mself\u001b[39m\u001b[38;5;241m.\u001b[39mdataframe \u001b[38;5;241m=\u001b[39m \u001b[38;5;28mself\u001b[39m\u001b[38;5;241m.\u001b[39m_agent\u001b[38;5;241m.\u001b[39mcontext\u001b[38;5;241m.\u001b[39mdfs[\u001b[38;5;241m0\u001b[39m]\n\u001b[1;32m     66\u001b[0m \u001b[38;5;28mself\u001b[39m\u001b[38;5;241m.\u001b[39m_table_description \u001b[38;5;241m=\u001b[39m description\n",
      "File \u001b[0;32m~/anaconda3/envs/hireai/lib/python3.10/site-packages/pandasai/agent/base.py:75\u001b[0m, in \u001b[0;36mAgent.__init__\u001b[0;34m(self, dfs, config, memory_size, pipeline, vectorstore, description)\u001b[0m\n\u001b[1;32m     72\u001b[0m dfs \u001b[38;5;241m=\u001b[39m \u001b[38;5;28mself\u001b[39m\u001b[38;5;241m.\u001b[39mget_dfs(dfs)\n\u001b[1;32m     74\u001b[0m \u001b[38;5;66;03m# Instantiate the context\u001b[39;00m\n\u001b[0;32m---> 75\u001b[0m config \u001b[38;5;241m=\u001b[39m \u001b[38;5;28;43mself\u001b[39;49m\u001b[38;5;241;43m.\u001b[39;49m\u001b[43mget_config\u001b[49m\u001b[43m(\u001b[49m\u001b[43mconfig\u001b[49m\u001b[43m)\u001b[49m\n\u001b[1;32m     76\u001b[0m \u001b[38;5;28mself\u001b[39m\u001b[38;5;241m.\u001b[39mcontext \u001b[38;5;241m=\u001b[39m PipelineContext(\n\u001b[1;32m     77\u001b[0m     dfs\u001b[38;5;241m=\u001b[39mdfs,\n\u001b[1;32m     78\u001b[0m     config\u001b[38;5;241m=\u001b[39mconfig,\n\u001b[1;32m     79\u001b[0m     memory\u001b[38;5;241m=\u001b[39mMemory(memory_size, agent_info\u001b[38;5;241m=\u001b[39mdescription),\n\u001b[1;32m     80\u001b[0m     vectorstore\u001b[38;5;241m=\u001b[39mvectorstore,\n\u001b[1;32m     81\u001b[0m )\n\u001b[1;32m     83\u001b[0m \u001b[38;5;66;03m# Instantiate the logger\u001b[39;00m\n",
      "File \u001b[0;32m~/anaconda3/envs/hireai/lib/python3.10/site-packages/pandasai/agent/base.py:148\u001b[0m, in \u001b[0;36mAgent.get_config\u001b[0;34m(self, config)\u001b[0m\n\u001b[1;32m    145\u001b[0m \u001b[38;5;28;01mif\u001b[39;00m \u001b[38;5;28misinstance\u001b[39m(config, \u001b[38;5;28mdict\u001b[39m) \u001b[38;5;129;01mand\u001b[39;00m config\u001b[38;5;241m.\u001b[39mget(\u001b[38;5;124m\"\u001b[39m\u001b[38;5;124mllm\u001b[39m\u001b[38;5;124m\"\u001b[39m) \u001b[38;5;129;01mis\u001b[39;00m \u001b[38;5;129;01mnot\u001b[39;00m \u001b[38;5;28;01mNone\u001b[39;00m:\n\u001b[1;32m    146\u001b[0m     config[\u001b[38;5;124m\"\u001b[39m\u001b[38;5;124mllm\u001b[39m\u001b[38;5;124m\"\u001b[39m] \u001b[38;5;241m=\u001b[39m \u001b[38;5;28mself\u001b[39m\u001b[38;5;241m.\u001b[39mget_llm(config[\u001b[38;5;124m\"\u001b[39m\u001b[38;5;124mllm\u001b[39m\u001b[38;5;124m\"\u001b[39m])\n\u001b[0;32m--> 148\u001b[0m config \u001b[38;5;241m=\u001b[39m \u001b[43mConfig\u001b[49m\u001b[43m(\u001b[49m\u001b[38;5;241;43m*\u001b[39;49m\u001b[38;5;241;43m*\u001b[39;49m\u001b[43mconfig\u001b[49m\u001b[43m)\u001b[49m\n\u001b[1;32m    150\u001b[0m \u001b[38;5;28;01mif\u001b[39;00m config\u001b[38;5;241m.\u001b[39mllm \u001b[38;5;129;01mis\u001b[39;00m \u001b[38;5;28;01mNone\u001b[39;00m:\n\u001b[1;32m    151\u001b[0m     config\u001b[38;5;241m.\u001b[39mllm \u001b[38;5;241m=\u001b[39m BambooLLM()\n",
      "File \u001b[0;32m~/anaconda3/envs/hireai/lib/python3.10/site-packages/pydantic/v1/main.py:339\u001b[0m, in \u001b[0;36mBaseModel.__init__\u001b[0;34m(__pydantic_self__, **data)\u001b[0m\n\u001b[1;32m    333\u001b[0m \u001b[38;5;250m\u001b[39m\u001b[38;5;124;03m\"\"\"\u001b[39;00m\n\u001b[1;32m    334\u001b[0m \u001b[38;5;124;03mCreate a new model by parsing and validating input data from keyword arguments.\u001b[39;00m\n\u001b[1;32m    335\u001b[0m \n\u001b[1;32m    336\u001b[0m \u001b[38;5;124;03mRaises ValidationError if the input data cannot be parsed to form a valid model.\u001b[39;00m\n\u001b[1;32m    337\u001b[0m \u001b[38;5;124;03m\"\"\"\u001b[39;00m\n\u001b[1;32m    338\u001b[0m \u001b[38;5;66;03m# Uses something other than `self` the first arg to allow \"self\" as a settable attribute\u001b[39;00m\n\u001b[0;32m--> 339\u001b[0m values, fields_set, validation_error \u001b[38;5;241m=\u001b[39m \u001b[43mvalidate_model\u001b[49m\u001b[43m(\u001b[49m\u001b[43m__pydantic_self__\u001b[49m\u001b[38;5;241;43m.\u001b[39;49m\u001b[38;5;18;43m__class__\u001b[39;49m\u001b[43m,\u001b[49m\u001b[43m \u001b[49m\u001b[43mdata\u001b[49m\u001b[43m)\u001b[49m\n\u001b[1;32m    340\u001b[0m \u001b[38;5;28;01mif\u001b[39;00m validation_error:\n\u001b[1;32m    341\u001b[0m     \u001b[38;5;28;01mraise\u001b[39;00m validation_error\n",
      "File \u001b[0;32m~/anaconda3/envs/hireai/lib/python3.10/site-packages/pydantic/v1/main.py:1074\u001b[0m, in \u001b[0;36mvalidate_model\u001b[0;34m(model, input_data, cls)\u001b[0m\n\u001b[1;32m   1071\u001b[0m     \u001b[38;5;28;01mif\u001b[39;00m check_extra:\n\u001b[1;32m   1072\u001b[0m         names_used\u001b[38;5;241m.\u001b[39madd(field\u001b[38;5;241m.\u001b[39mname \u001b[38;5;28;01mif\u001b[39;00m using_name \u001b[38;5;28;01melse\u001b[39;00m field\u001b[38;5;241m.\u001b[39malias)\n\u001b[0;32m-> 1074\u001b[0m v_, errors_ \u001b[38;5;241m=\u001b[39m \u001b[43mfield\u001b[49m\u001b[38;5;241;43m.\u001b[39;49m\u001b[43mvalidate\u001b[49m\u001b[43m(\u001b[49m\u001b[43mvalue\u001b[49m\u001b[43m,\u001b[49m\u001b[43m \u001b[49m\u001b[43mvalues\u001b[49m\u001b[43m,\u001b[49m\u001b[43m \u001b[49m\u001b[43mloc\u001b[49m\u001b[38;5;241;43m=\u001b[39;49m\u001b[43mfield\u001b[49m\u001b[38;5;241;43m.\u001b[39;49m\u001b[43malias\u001b[49m\u001b[43m,\u001b[49m\u001b[43m \u001b[49m\u001b[38;5;28;43mcls\u001b[39;49m\u001b[38;5;241;43m=\u001b[39;49m\u001b[43mcls_\u001b[49m\u001b[43m)\u001b[49m\n\u001b[1;32m   1075\u001b[0m \u001b[38;5;28;01mif\u001b[39;00m \u001b[38;5;28misinstance\u001b[39m(errors_, ErrorWrapper):\n\u001b[1;32m   1076\u001b[0m     errors\u001b[38;5;241m.\u001b[39mappend(errors_)\n",
      "File \u001b[0;32m~/anaconda3/envs/hireai/lib/python3.10/site-packages/pydantic/v1/fields.py:874\u001b[0m, in \u001b[0;36mModelField.validate\u001b[0;34m(self, v, values, loc, cls)\u001b[0m\n\u001b[1;32m    872\u001b[0m \u001b[38;5;28;01melif\u001b[39;00m \u001b[38;5;28mself\u001b[39m\u001b[38;5;241m.\u001b[39mallow_none:\n\u001b[1;32m    873\u001b[0m     \u001b[38;5;28;01mif\u001b[39;00m \u001b[38;5;28mself\u001b[39m\u001b[38;5;241m.\u001b[39mpost_validators:\n\u001b[0;32m--> 874\u001b[0m         \u001b[38;5;28;01mreturn\u001b[39;00m \u001b[38;5;28;43mself\u001b[39;49m\u001b[38;5;241;43m.\u001b[39;49m\u001b[43m_apply_validators\u001b[49m\u001b[43m(\u001b[49m\u001b[43mv\u001b[49m\u001b[43m,\u001b[49m\u001b[43m \u001b[49m\u001b[43mvalues\u001b[49m\u001b[43m,\u001b[49m\u001b[43m \u001b[49m\u001b[43mloc\u001b[49m\u001b[43m,\u001b[49m\u001b[43m \u001b[49m\u001b[38;5;28;43mcls\u001b[39;49m\u001b[43m,\u001b[49m\u001b[43m \u001b[49m\u001b[38;5;28;43mself\u001b[39;49m\u001b[38;5;241;43m.\u001b[39;49m\u001b[43mpost_validators\u001b[49m\u001b[43m)\u001b[49m\n\u001b[1;32m    875\u001b[0m     \u001b[38;5;28;01melse\u001b[39;00m:\n\u001b[1;32m    876\u001b[0m         \u001b[38;5;28;01mreturn\u001b[39;00m \u001b[38;5;28;01mNone\u001b[39;00m, \u001b[38;5;28;01mNone\u001b[39;00m\n",
      "File \u001b[0;32m~/anaconda3/envs/hireai/lib/python3.10/site-packages/pydantic/v1/fields.py:1154\u001b[0m, in \u001b[0;36mModelField._apply_validators\u001b[0;34m(self, v, values, loc, cls, validators)\u001b[0m\n\u001b[1;32m   1152\u001b[0m \u001b[38;5;28;01mfor\u001b[39;00m validator \u001b[38;5;129;01min\u001b[39;00m validators:\n\u001b[1;32m   1153\u001b[0m     \u001b[38;5;28;01mtry\u001b[39;00m:\n\u001b[0;32m-> 1154\u001b[0m         v \u001b[38;5;241m=\u001b[39m \u001b[43mvalidator\u001b[49m\u001b[43m(\u001b[49m\u001b[38;5;28;43mcls\u001b[39;49m\u001b[43m,\u001b[49m\u001b[43m \u001b[49m\u001b[43mv\u001b[49m\u001b[43m,\u001b[49m\u001b[43m \u001b[49m\u001b[43mvalues\u001b[49m\u001b[43m,\u001b[49m\u001b[43m \u001b[49m\u001b[38;5;28;43mself\u001b[39;49m\u001b[43m,\u001b[49m\u001b[43m \u001b[49m\u001b[38;5;28;43mself\u001b[39;49m\u001b[38;5;241;43m.\u001b[39;49m\u001b[43mmodel_config\u001b[49m\u001b[43m)\u001b[49m\n\u001b[1;32m   1155\u001b[0m     \u001b[38;5;28;01mexcept\u001b[39;00m (\u001b[38;5;167;01mValueError\u001b[39;00m, \u001b[38;5;167;01mTypeError\u001b[39;00m, \u001b[38;5;167;01mAssertionError\u001b[39;00m) \u001b[38;5;28;01mas\u001b[39;00m exc:\n\u001b[1;32m   1156\u001b[0m         \u001b[38;5;28;01mreturn\u001b[39;00m v, ErrorWrapper(exc, loc)\n",
      "File \u001b[0;32m~/anaconda3/envs/hireai/lib/python3.10/site-packages/pydantic/v1/class_validators.py:304\u001b[0m, in \u001b[0;36m_generic_validator_cls.<locals>.<lambda>\u001b[0;34m(cls, v, values, field, config)\u001b[0m\n\u001b[1;32m    302\u001b[0m     \u001b[38;5;28;01mreturn\u001b[39;00m \u001b[38;5;28;01mlambda\u001b[39;00m \u001b[38;5;28mcls\u001b[39m, v, values, field, config: validator(\u001b[38;5;28mcls\u001b[39m, v, values\u001b[38;5;241m=\u001b[39mvalues, field\u001b[38;5;241m=\u001b[39mfield, config\u001b[38;5;241m=\u001b[39mconfig)\n\u001b[1;32m    303\u001b[0m \u001b[38;5;28;01melif\u001b[39;00m args \u001b[38;5;241m==\u001b[39m \u001b[38;5;28mset\u001b[39m():\n\u001b[0;32m--> 304\u001b[0m     \u001b[38;5;28;01mreturn\u001b[39;00m \u001b[38;5;28;01mlambda\u001b[39;00m \u001b[38;5;28mcls\u001b[39m, v, values, field, config: \u001b[43mvalidator\u001b[49m\u001b[43m(\u001b[49m\u001b[38;5;28;43mcls\u001b[39;49m\u001b[43m,\u001b[49m\u001b[43m \u001b[49m\u001b[43mv\u001b[49m\u001b[43m)\u001b[49m\n\u001b[1;32m    305\u001b[0m \u001b[38;5;28;01melif\u001b[39;00m args \u001b[38;5;241m==\u001b[39m {\u001b[38;5;124m'\u001b[39m\u001b[38;5;124mvalues\u001b[39m\u001b[38;5;124m'\u001b[39m}:\n\u001b[1;32m    306\u001b[0m     \u001b[38;5;28;01mreturn\u001b[39;00m \u001b[38;5;28;01mlambda\u001b[39;00m \u001b[38;5;28mcls\u001b[39m, v, values, field, config: validator(\u001b[38;5;28mcls\u001b[39m, v, values\u001b[38;5;241m=\u001b[39mvalues)\n",
      "File \u001b[0;32m~/anaconda3/envs/hireai/lib/python3.10/site-packages/pandasai/schemas/df_config.py:40\u001b[0m, in \u001b[0;36mConfig.validate_llm\u001b[0;34m(cls, llm)\u001b[0m\n\u001b[1;32m     37\u001b[0m \u001b[38;5;129m@validator\u001b[39m(\u001b[38;5;124m\"\u001b[39m\u001b[38;5;124mllm\u001b[39m\u001b[38;5;124m\"\u001b[39m, always\u001b[38;5;241m=\u001b[39m\u001b[38;5;28;01mTrue\u001b[39;00m)\n\u001b[1;32m     38\u001b[0m \u001b[38;5;28;01mdef\u001b[39;00m \u001b[38;5;21mvalidate_llm\u001b[39m(\u001b[38;5;28mcls\u001b[39m, llm) \u001b[38;5;241m-\u001b[39m\u001b[38;5;241m>\u001b[39m LLM:\n\u001b[1;32m     39\u001b[0m     \u001b[38;5;28;01mif\u001b[39;00m \u001b[38;5;129;01mnot\u001b[39;00m \u001b[38;5;28misinstance\u001b[39m(llm, (LLM, LangchainLLM)):  \u001b[38;5;66;03m# also covers llm is None\u001b[39;00m\n\u001b[0;32m---> 40\u001b[0m         \u001b[38;5;28;01mreturn\u001b[39;00m \u001b[43mBambooLLM\u001b[49m\u001b[43m(\u001b[49m\u001b[43m)\u001b[49m\n\u001b[1;32m     41\u001b[0m     \u001b[38;5;28;01mreturn\u001b[39;00m llm\n",
      "File \u001b[0;32m~/anaconda3/envs/hireai/lib/python3.10/site-packages/pandasai/llm/bamboo_llm.py:14\u001b[0m, in \u001b[0;36mBambooLLM.__init__\u001b[0;34m(self, endpoint_url, api_key)\u001b[0m\n\u001b[1;32m     11\u001b[0m \u001b[38;5;28;01mdef\u001b[39;00m \u001b[38;5;21m__init__\u001b[39m(\n\u001b[1;32m     12\u001b[0m     \u001b[38;5;28mself\u001b[39m, endpoint_url: Optional[\u001b[38;5;28mstr\u001b[39m] \u001b[38;5;241m=\u001b[39m \u001b[38;5;28;01mNone\u001b[39;00m, api_key: Optional[\u001b[38;5;28mstr\u001b[39m] \u001b[38;5;241m=\u001b[39m \u001b[38;5;28;01mNone\u001b[39;00m\n\u001b[1;32m     13\u001b[0m ):\n\u001b[0;32m---> 14\u001b[0m     \u001b[38;5;28mself\u001b[39m\u001b[38;5;241m.\u001b[39m_session \u001b[38;5;241m=\u001b[39m \u001b[43mSession\u001b[49m\u001b[43m(\u001b[49m\u001b[43mendpoint_url\u001b[49m\u001b[38;5;241;43m=\u001b[39;49m\u001b[43mendpoint_url\u001b[49m\u001b[43m,\u001b[49m\u001b[43m \u001b[49m\u001b[43mapi_key\u001b[49m\u001b[38;5;241;43m=\u001b[39;49m\u001b[43mapi_key\u001b[49m\u001b[43m)\u001b[49m\n",
      "File \u001b[0;32m~/anaconda3/envs/hireai/lib/python3.10/site-packages/pandasai/helpers/request.py:23\u001b[0m, in \u001b[0;36mSession.__init__\u001b[0;34m(self, endpoint_url, api_key, logger)\u001b[0m\n\u001b[1;32m     21\u001b[0m     api_key \u001b[38;5;241m=\u001b[39m os\u001b[38;5;241m.\u001b[39menviron\u001b[38;5;241m.\u001b[39mget(\u001b[38;5;124m\"\u001b[39m\u001b[38;5;124mPANDASAI_API_KEY\u001b[39m\u001b[38;5;124m\"\u001b[39m) \u001b[38;5;129;01mor\u001b[39;00m \u001b[38;5;28;01mNone\u001b[39;00m\n\u001b[1;32m     22\u001b[0m \u001b[38;5;28;01mif\u001b[39;00m api_key \u001b[38;5;129;01mis\u001b[39;00m \u001b[38;5;28;01mNone\u001b[39;00m:\n\u001b[0;32m---> 23\u001b[0m     \u001b[38;5;28;01mraise\u001b[39;00m PandasAIApiKeyError()\n\u001b[1;32m     24\u001b[0m \u001b[38;5;28mself\u001b[39m\u001b[38;5;241m.\u001b[39m_api_key \u001b[38;5;241m=\u001b[39m api_key\n\u001b[1;32m     26\u001b[0m \u001b[38;5;28;01mif\u001b[39;00m endpoint_url \u001b[38;5;129;01mis\u001b[39;00m \u001b[38;5;28;01mNone\u001b[39;00m:\n",
      "\u001b[0;31mPandasAIApiKeyError\u001b[0m: The api_key client option must be set either by passing api_key to the client or by setting the PANDASAI_API_KEY environment variable. To get the key follow below steps:\n1. Go to https://www.pandabi.ai and sign up\n2. From settings go to API keys and copy\n3. Set environment variable like os.environ['PANDASAI_API_KEY'] = '$2a$10$flb7....'"
     ]
    }
   ],
   "source": [
    "from pandasai import SmartDataframe\n",
    "from pandasai.connectors import MySQLConnector\n",
    "import os\n",
    "\n",
    "\n",
    "\n",
    "mysql_connector = MySQLConnector(\n",
    "    config={\n",
    "        \"host\": os.environ.get('DB_HOST'),\n",
    "        \"port\": 3306,\n",
    "        \"database\": os.environ.get('DB_NAME'),\n",
    "        \"username\": os.environ.get('DB_USER'),\n",
    "        \"password\": os.environ.get('DB_PASSWORD'),\n",
    "        \"table\": \"adminapp_jobapplication\",\n",
    "    }\n",
    ")\n",
    "\n",
    "\n",
    "df = SmartDataframe(mysql_connector)\n",
    "df.chat('What is the total amount of loans in the last year?')\n"
   ]
  },
  {
   "cell_type": "code",
   "execution_count": 27,
   "metadata": {},
   "outputs": [],
   "source": [
    "\n",
    "project_name = 'Pandas AI test'\n",
    "os.environ[\"LANGCHAIN_TRACING_V2\"] = \"true\"\n",
    "os.environ[\"LANGCHAIN_PROJECT\"] = f\"Tracing Walkthrough - {project_name}\"\n",
    "os.environ[\"LANGCHAIN_ENDPOINT\"] = \"https://api.smith.langchain.com\"\n",
    "os.environ[\"LANGCHAIN_API_KEY\"] = os.environ.get('LANGCHAIN_API_KEY')\n"
   ]
  },
  {
   "cell_type": "code",
   "execution_count": null,
   "metadata": {},
   "outputs": [],
   "source": []
  },
  {
   "cell_type": "code",
   "execution_count": null,
   "metadata": {},
   "outputs": [],
   "source": []
  },
  {
   "cell_type": "code",
   "execution_count": 29,
   "metadata": {},
   "outputs": [],
   "source": [
    "os.environ[\"GROQ_API_KEY\"] = \"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\"\n"
   ]
  },
  {
   "cell_type": "code",
   "execution_count": 28,
   "metadata": {},
   "outputs": [],
   "source": [
    "from pandasai import SmartDataframe\n",
    "from langchain_groq import ChatGroq\n",
    "\n",
    "langchain_llm = ChatGroq(temperature=0, model_name=\"llama3-70b-8192\")\n",
    "\n",
    "df = SmartDataframe(mysql_connector, config={\"llm\": langchain_llm})\n",
    "\n",
    "\n"
   ]
  },
  {
   "cell_type": "code",
   "execution_count": 7,
   "metadata": {},
   "outputs": [
    {
     "data": {
      "text/html": [
       "<div>\n",
       "<style scoped>\n",
       "    .dataframe tbody tr th:only-of-type {\n",
       "        vertical-align: middle;\n",
       "    }\n",
       "\n",
       "    .dataframe tbody tr th {\n",
       "        vertical-align: top;\n",
       "    }\n",
       "\n",
       "    .dataframe thead th {\n",
       "        text-align: right;\n",
       "    }\n",
       "</style>\n",
       "<table border=\"1\" class=\"dataframe\">\n",
       "  <thead>\n",
       "    <tr style=\"text-align: right;\">\n",
       "      <th></th>\n",
       "      <th>candidate_name</th>\n",
       "      <th>score</th>\n",
       "      <th>email</th>\n",
       "    </tr>\n",
       "  </thead>\n",
       "  <tbody>\n",
       "    <tr>\n",
       "      <th>3</th>\n",
       "      <td>Zaheer K Z</td>\n",
       "      <td>80.0</td>\n",
       "      <td>zaheer.work24@gmail.com</td>\n",
       "    </tr>\n",
       "    <tr>\n",
       "      <th>1</th>\n",
       "      <td>Mohammed Shaneeb</td>\n",
       "      <td>75.0</td>\n",
       "      <td>shaneebkottakkal@gmail.com</td>\n",
       "    </tr>\n",
       "    <tr>\n",
       "      <th>5</th>\n",
       "      <td>Rohidh Krishna</td>\n",
       "      <td>75.0</td>\n",
       "      <td>krish.rohidh@gmail.com</td>\n",
       "    </tr>\n",
       "  </tbody>\n",
       "</table>\n",
       "</div>"
      ],
      "text/plain": [
       "     candidate_name  score                       email\n",
       "3        Zaheer K Z   80.0     zaheer.work24@gmail.com\n",
       "1  Mohammed Shaneeb   75.0  shaneebkottakkal@gmail.com\n",
       "5    Rohidh Krishna   75.0      krish.rohidh@gmail.com"
      ]
     },
     "execution_count": 7,
     "metadata": {},
     "output_type": "execute_result"
    }
   ],
   "source": [
    "    df.chat('Shortlist top 3 candidates who applied for job with job_id=23')\n"
   ]
  },
  {
   "cell_type": "code",
   "execution_count": 30,
   "metadata": {},
   "outputs": [
    {
     "data": {
      "text/html": [
       "<div>\n",
       "<style scoped>\n",
       "    .dataframe tbody tr th:only-of-type {\n",
       "        vertical-align: middle;\n",
       "    }\n",
       "\n",
       "    .dataframe tbody tr th {\n",
       "        vertical-align: top;\n",
       "    }\n",
       "\n",
       "    .dataframe thead th {\n",
       "        text-align: right;\n",
       "    }\n",
       "</style>\n",
       "<table border=\"1\" class=\"dataframe\">\n",
       "  <thead>\n",
       "    <tr style=\"text-align: right;\">\n",
       "      <th></th>\n",
       "      <th>id</th>\n",
       "      <th>job_id</th>\n",
       "      <th>job_title</th>\n",
       "      <th>candidate_name</th>\n",
       "      <th>score</th>\n",
       "      <th>phone</th>\n",
       "      <th>email</th>\n",
       "      <th>experience</th>\n",
       "      <th>age</th>\n",
       "      <th>resume_link</th>\n",
       "      <th>skills</th>\n",
       "      <th>technologies</th>\n",
       "      <th>score_summary</th>\n",
       "    </tr>\n",
       "  </thead>\n",
       "  <tbody>\n",
       "  </tbody>\n",
       "</table>\n",
       "</div>"
      ],
      "text/plain": [
       "Empty DataFrame\n",
       "Columns: [id, job_id, job_title, candidate_name, score, phone, email, experience, age, resume_link, skills, technologies, score_summary]\n",
       "Index: []"
      ]
     },
     "execution_count": 30,
     "metadata": {},
     "output_type": "execute_result"
    }
   ],
   "source": [
    "df.chat('Shortlist 3 candidates who applied for job with job_id=23 with score more than 80')\n"
   ]
  },
  {
   "cell_type": "code",
   "execution_count": 10,
   "metadata": {},
   "outputs": [
    {
     "data": {
      "text/html": [
       "<div>\n",
       "<style scoped>\n",
       "    .dataframe tbody tr th:only-of-type {\n",
       "        vertical-align: middle;\n",
       "    }\n",
       "\n",
       "    .dataframe tbody tr th {\n",
       "        vertical-align: top;\n",
       "    }\n",
       "\n",
       "    .dataframe thead th {\n",
       "        text-align: right;\n",
       "    }\n",
       "</style>\n",
       "<table border=\"1\" class=\"dataframe\">\n",
       "  <thead>\n",
       "    <tr style=\"text-align: right;\">\n",
       "      <th></th>\n",
       "      <th>id</th>\n",
       "      <th>job_id</th>\n",
       "      <th>job_title</th>\n",
       "      <th>candidate_name</th>\n",
       "      <th>score</th>\n",
       "      <th>phone</th>\n",
       "      <th>email</th>\n",
       "      <th>experience</th>\n",
       "      <th>age</th>\n",
       "      <th>resume_link</th>\n",
       "      <th>skills</th>\n",
       "      <th>technologies</th>\n",
       "      <th>score_summary</th>\n",
       "    </tr>\n",
       "  </thead>\n",
       "  <tbody>\n",
       "  </tbody>\n",
       "</table>\n",
       "</div>"
      ],
      "text/plain": [
       "Empty DataFrame\n",
       "Columns: [id, job_id, job_title, candidate_name, score, phone, email, experience, age, resume_link, skills, technologies, score_summary]\n",
       "Index: []"
      ]
     },
     "execution_count": 10,
     "metadata": {},
     "output_type": "execute_result"
    }
   ],
   "source": [
    "df.chat('Shortlist candidates who applied for job  who have langchain skill')\n"
   ]
  },
  {
   "cell_type": "code",
   "execution_count": 11,
   "metadata": {},
   "outputs": [
    {
     "name": "stdout",
     "output_type": "stream",
     "text": [
      "{'type': 'dataframe', 'value':    id  job_id                  job_title                   candidate_name  \\\n",
      "7  58      19  React & Next.js Developer                       ABDUL RUBB   \n",
      "1  11      19  React & Next.js Developer                  Thanseeh Yaseen   \n",
      "8  64      19  React & Next.js Developer  M A U S O O F   A B D U L L A H   \n",
      "\n",
      "   score           phone                      email  experience  age  \\\n",
      "7   85.0  +91 7909199591       abdurabb00@gmail.com           3   25   \n",
      "1   75.0      8596744785      yaseenkdr27@gmail.com           1   21   \n",
      "8   75.0  +91 9900710261  mausoofabdullah@gmail.com           3   30   \n",
      "\n",
      "                    resume_link  \\\n",
      "7  https://tinyurl.com/224t9uyd   \n",
      "1  https://tinyurl.com/2dbvs8m7   \n",
      "8  https://tinyurl.com/277mbols   \n",
      "\n",
      "                                              skills  \\\n",
      "7  \"[\\\"Git\\\", \\\"PostgreSQL\\\", \\\"React Redux\\\", \\\"...   \n",
      "1  \"[\\\"Figma\\\", \\\"Twilio\\\", \\\"Gunicorn\\\", \\\"Pytho...   \n",
      "8  \"[\\\"HTML\\\", \\\"Adaptability\\\", \\\"Redux\\\", \\\"Pos...   \n",
      "\n",
      "                                        technologies  \\\n",
      "7  \"[\\\"Multer\\\", \\\"Redux\\\", \\\"React\\\", \\\"Stripe\\\"...   \n",
      "1  \"[\\\"Tailwind CSS\\\", \\\"Twilio\\\", \\\"Simple JWT\\\"...   \n",
      "8  \"[\\\"AWS\\\", \\\"mongodb\\\", \\\"Firebase\\\", \\\"JWT\\\",...   \n",
      "\n",
      "                                       score_summary  \n",
      "7  The candidate has a strong background in MERN ...  \n",
      "1  The candidate has a solid understanding of fro...  \n",
      "8  The candidate has a good foundation in front-e...  }\n"
     ]
    },
    {
     "data": {
      "text/html": [
       "<div>\n",
       "<style scoped>\n",
       "    .dataframe tbody tr th:only-of-type {\n",
       "        vertical-align: middle;\n",
       "    }\n",
       "\n",
       "    .dataframe tbody tr th {\n",
       "        vertical-align: top;\n",
       "    }\n",
       "\n",
       "    .dataframe thead th {\n",
       "        text-align: right;\n",
       "    }\n",
       "</style>\n",
       "<table border=\"1\" class=\"dataframe\">\n",
       "  <thead>\n",
       "    <tr style=\"text-align: right;\">\n",
       "      <th></th>\n",
       "      <th>id</th>\n",
       "      <th>job_id</th>\n",
       "      <th>job_title</th>\n",
       "      <th>candidate_name</th>\n",
       "      <th>score</th>\n",
       "      <th>phone</th>\n",
       "      <th>email</th>\n",
       "      <th>experience</th>\n",
       "      <th>age</th>\n",
       "      <th>resume_link</th>\n",
       "      <th>skills</th>\n",
       "      <th>technologies</th>\n",
       "      <th>score_summary</th>\n",
       "    </tr>\n",
       "  </thead>\n",
       "  <tbody>\n",
       "    <tr>\n",
       "      <th>7</th>\n",
       "      <td>58</td>\n",
       "      <td>19</td>\n",
       "      <td>React &amp; Next.js Developer</td>\n",
       "      <td>ABDUL RUBB</td>\n",
       "      <td>85.0</td>\n",
       "      <td>+91 7909199591</td>\n",
       "      <td>abdurabb00@gmail.com</td>\n",
       "      <td>3</td>\n",
       "      <td>25</td>\n",
       "      <td>https://tinyurl.com/224t9uyd</td>\n",
       "      <td>\"[\\\"Git\\\", \\\"PostgreSQL\\\", \\\"React Redux\\\", \\\"...</td>\n",
       "      <td>\"[\\\"Multer\\\", \\\"Redux\\\", \\\"React\\\", \\\"Stripe\\\"...</td>\n",
       "      <td>The candidate has a strong background in MERN ...</td>\n",
       "    </tr>\n",
       "    <tr>\n",
       "      <th>1</th>\n",
       "      <td>11</td>\n",
       "      <td>19</td>\n",
       "      <td>React &amp; Next.js Developer</td>\n",
       "      <td>Thanseeh Yaseen</td>\n",
       "      <td>75.0</td>\n",
       "      <td>8596744785</td>\n",
       "      <td>yaseenkdr27@gmail.com</td>\n",
       "      <td>1</td>\n",
       "      <td>21</td>\n",
       "      <td>https://tinyurl.com/2dbvs8m7</td>\n",
       "      <td>\"[\\\"Figma\\\", \\\"Twilio\\\", \\\"Gunicorn\\\", \\\"Pytho...</td>\n",
       "      <td>\"[\\\"Tailwind CSS\\\", \\\"Twilio\\\", \\\"Simple JWT\\\"...</td>\n",
       "      <td>The candidate has a solid understanding of fro...</td>\n",
       "    </tr>\n",
       "    <tr>\n",
       "      <th>8</th>\n",
       "      <td>64</td>\n",
       "      <td>19</td>\n",
       "      <td>React &amp; Next.js Developer</td>\n",
       "      <td>M A U S O O F   A B D U L L A H</td>\n",
       "      <td>75.0</td>\n",
       "      <td>+91 9900710261</td>\n",
       "      <td>mausoofabdullah@gmail.com</td>\n",
       "      <td>3</td>\n",
       "      <td>30</td>\n",
       "      <td>https://tinyurl.com/277mbols</td>\n",
       "      <td>\"[\\\"HTML\\\", \\\"Adaptability\\\", \\\"Redux\\\", \\\"Pos...</td>\n",
       "      <td>\"[\\\"AWS\\\", \\\"mongodb\\\", \\\"Firebase\\\", \\\"JWT\\\",...</td>\n",
       "      <td>The candidate has a good foundation in front-e...</td>\n",
       "    </tr>\n",
       "  </tbody>\n",
       "</table>\n",
       "</div>"
      ],
      "text/plain": [
       "   id  job_id                  job_title                   candidate_name  \\\n",
       "7  58      19  React & Next.js Developer                       ABDUL RUBB   \n",
       "1  11      19  React & Next.js Developer                  Thanseeh Yaseen   \n",
       "8  64      19  React & Next.js Developer  M A U S O O F   A B D U L L A H   \n",
       "\n",
       "   score           phone                      email  experience  age  \\\n",
       "7   85.0  +91 7909199591       abdurabb00@gmail.com           3   25   \n",
       "1   75.0      8596744785      yaseenkdr27@gmail.com           1   21   \n",
       "8   75.0  +91 9900710261  mausoofabdullah@gmail.com           3   30   \n",
       "\n",
       "                    resume_link  \\\n",
       "7  https://tinyurl.com/224t9uyd   \n",
       "1  https://tinyurl.com/2dbvs8m7   \n",
       "8  https://tinyurl.com/277mbols   \n",
       "\n",
       "                                              skills  \\\n",
       "7  \"[\\\"Git\\\", \\\"PostgreSQL\\\", \\\"React Redux\\\", \\\"...   \n",
       "1  \"[\\\"Figma\\\", \\\"Twilio\\\", \\\"Gunicorn\\\", \\\"Pytho...   \n",
       "8  \"[\\\"HTML\\\", \\\"Adaptability\\\", \\\"Redux\\\", \\\"Pos...   \n",
       "\n",
       "                                        technologies  \\\n",
       "7  \"[\\\"Multer\\\", \\\"Redux\\\", \\\"React\\\", \\\"Stripe\\\"...   \n",
       "1  \"[\\\"Tailwind CSS\\\", \\\"Twilio\\\", \\\"Simple JWT\\\"...   \n",
       "8  \"[\\\"AWS\\\", \\\"mongodb\\\", \\\"Firebase\\\", \\\"JWT\\\",...   \n",
       "\n",
       "                                       score_summary  \n",
       "7  The candidate has a strong background in MERN ...  \n",
       "1  The candidate has a solid understanding of fro...  \n",
       "8  The candidate has a good foundation in front-e...  "
      ]
     },
     "execution_count": 11,
     "metadata": {},
     "output_type": "execute_result"
    }
   ],
   "source": [
    "df.chat('from job_id=19. shortlist top 3 candidates')\n"
   ]
  },
  {
   "cell_type": "code",
   "execution_count": 12,
   "metadata": {},
   "outputs": [
    {
     "name": "stderr",
     "output_type": "stream",
     "text": [
      "Traceback (most recent call last):\n",
      "  File \"/home/mohammed_shaneeb/anaconda3/envs/hireai/lib/python3.10/site-packages/sqlalchemy/engine/base.py\", line 1967, in _exec_single_context\n",
      "    self.dialect.do_execute(\n",
      "  File \"/home/mohammed_shaneeb/anaconda3/envs/hireai/lib/python3.10/site-packages/sqlalchemy/engine/default.py\", line 924, in do_execute\n",
      "    cursor.execute(statement, parameters)\n",
      "  File \"/home/mohammed_shaneeb/anaconda3/envs/hireai/lib/python3.10/site-packages/pymysql/cursors.py\", line 153, in execute\n",
      "    result = self._query(query)\n",
      "  File \"/home/mohammed_shaneeb/anaconda3/envs/hireai/lib/python3.10/site-packages/pymysql/cursors.py\", line 322, in _query\n",
      "    conn.query(q)\n",
      "  File \"/home/mohammed_shaneeb/anaconda3/envs/hireai/lib/python3.10/site-packages/pymysql/connections.py\", line 563, in query\n",
      "    self._affected_rows = self._read_query_result(unbuffered=unbuffered)\n",
      "  File \"/home/mohammed_shaneeb/anaconda3/envs/hireai/lib/python3.10/site-packages/pymysql/connections.py\", line 825, in _read_query_result\n",
      "    result.read()\n",
      "  File \"/home/mohammed_shaneeb/anaconda3/envs/hireai/lib/python3.10/site-packages/pymysql/connections.py\", line 1199, in read\n",
      "    first_packet = self.connection._read_packet()\n",
      "  File \"/home/mohammed_shaneeb/anaconda3/envs/hireai/lib/python3.10/site-packages/pymysql/connections.py\", line 775, in _read_packet\n",
      "    packet.raise_for_error()\n",
      "  File \"/home/mohammed_shaneeb/anaconda3/envs/hireai/lib/python3.10/site-packages/pymysql/protocol.py\", line 219, in raise_for_error\n",
      "    err.raise_mysql_exception(self._data)\n",
      "  File \"/home/mohammed_shaneeb/anaconda3/envs/hireai/lib/python3.10/site-packages/pymysql/err.py\", line 150, in raise_mysql_exception\n",
      "    raise errorclass(errno, errval)\n",
      "pymysql.err.OperationalError: (1054, \"Unknown column 'value' in 'where clause'\")\n",
      "\n",
      "The above exception was the direct cause of the following exception:\n",
      "\n",
      "Traceback (most recent call last):\n",
      "  File \"/home/mohammed_shaneeb/anaconda3/envs/hireai/lib/python3.10/site-packages/pandasai/pipelines/chat/generate_chat_pipeline.py\", line 307, in run\n",
      "    output = (self.code_generation_pipeline | self.code_execution_pipeline).run(\n",
      "  File \"/home/mohammed_shaneeb/anaconda3/envs/hireai/lib/python3.10/site-packages/pandasai/pipelines/pipeline.py\", line 137, in run\n",
      "    raise e\n",
      "  File \"/home/mohammed_shaneeb/anaconda3/envs/hireai/lib/python3.10/site-packages/pandasai/pipelines/pipeline.py\", line 101, in run\n",
      "    step_output = logic.execute(\n",
      "  File \"/home/mohammed_shaneeb/anaconda3/envs/hireai/lib/python3.10/site-packages/pandasai/pipelines/chat/code_execution.py\", line 113, in execute\n",
      "    raise e\n",
      "  File \"/home/mohammed_shaneeb/anaconda3/envs/hireai/lib/python3.10/site-packages/pandasai/pipelines/chat/code_execution.py\", line 85, in execute\n",
      "    result = self.execute_code(code_to_run, code_context)\n",
      "  File \"/home/mohammed_shaneeb/anaconda3/envs/hireai/lib/python3.10/site-packages/pandasai/pipelines/chat/code_execution.py\", line 157, in execute_code\n",
      "    environment[\"dfs\"] = self._get_originals(dfs)\n",
      "  File \"/home/mohammed_shaneeb/anaconda3/envs/hireai/lib/python3.10/site-packages/pandasai/pipelines/chat/code_execution.py\", line 225, in _get_originals\n",
      "    df.execute()\n",
      "  File \"/home/mohammed_shaneeb/anaconda3/envs/hireai/lib/python3.10/site-packages/pandasai/connectors/sql.py\", line 304, in execute\n",
      "    result = pd.read_sql(query, self._connection)\n",
      "  File \"/home/mohammed_shaneeb/anaconda3/envs/hireai/lib/python3.10/site-packages/pandas/io/sql.py\", line 590, in read_sql\n",
      "    return pandas_sql.read_query(\n",
      "  File \"/home/mohammed_shaneeb/anaconda3/envs/hireai/lib/python3.10/site-packages/pandas/io/sql.py\", line 1560, in read_query\n",
      "    result = self.execute(*args)\n",
      "  File \"/home/mohammed_shaneeb/anaconda3/envs/hireai/lib/python3.10/site-packages/pandas/io/sql.py\", line 1405, in execute\n",
      "    return self.connectable.execution_options().execute(*args, **kwargs)\n",
      "  File \"/home/mohammed_shaneeb/anaconda3/envs/hireai/lib/python3.10/site-packages/sqlalchemy/engine/base.py\", line 1418, in execute\n",
      "    return meth(\n",
      "  File \"/home/mohammed_shaneeb/anaconda3/envs/hireai/lib/python3.10/site-packages/sqlalchemy/sql/elements.py\", line 515, in _execute_on_connection\n",
      "    return connection._execute_clauseelement(\n",
      "  File \"/home/mohammed_shaneeb/anaconda3/envs/hireai/lib/python3.10/site-packages/sqlalchemy/engine/base.py\", line 1640, in _execute_clauseelement\n",
      "    ret = self._execute_context(\n",
      "  File \"/home/mohammed_shaneeb/anaconda3/envs/hireai/lib/python3.10/site-packages/sqlalchemy/engine/base.py\", line 1846, in _execute_context\n",
      "    return self._exec_single_context(\n",
      "  File \"/home/mohammed_shaneeb/anaconda3/envs/hireai/lib/python3.10/site-packages/sqlalchemy/engine/base.py\", line 1986, in _exec_single_context\n",
      "    self._handle_dbapi_exception(\n",
      "  File \"/home/mohammed_shaneeb/anaconda3/envs/hireai/lib/python3.10/site-packages/sqlalchemy/engine/base.py\", line 2353, in _handle_dbapi_exception\n",
      "    raise sqlalchemy_exception.with_traceback(exc_info[2]) from e\n",
      "  File \"/home/mohammed_shaneeb/anaconda3/envs/hireai/lib/python3.10/site-packages/sqlalchemy/engine/base.py\", line 1967, in _exec_single_context\n",
      "    self.dialect.do_execute(\n",
      "  File \"/home/mohammed_shaneeb/anaconda3/envs/hireai/lib/python3.10/site-packages/sqlalchemy/engine/default.py\", line 924, in do_execute\n",
      "    cursor.execute(statement, parameters)\n",
      "  File \"/home/mohammed_shaneeb/anaconda3/envs/hireai/lib/python3.10/site-packages/pymysql/cursors.py\", line 153, in execute\n",
      "    result = self._query(query)\n",
      "  File \"/home/mohammed_shaneeb/anaconda3/envs/hireai/lib/python3.10/site-packages/pymysql/cursors.py\", line 322, in _query\n",
      "    conn.query(q)\n",
      "  File \"/home/mohammed_shaneeb/anaconda3/envs/hireai/lib/python3.10/site-packages/pymysql/connections.py\", line 563, in query\n",
      "    self._affected_rows = self._read_query_result(unbuffered=unbuffered)\n",
      "  File \"/home/mohammed_shaneeb/anaconda3/envs/hireai/lib/python3.10/site-packages/pymysql/connections.py\", line 825, in _read_query_result\n",
      "    result.read()\n",
      "  File \"/home/mohammed_shaneeb/anaconda3/envs/hireai/lib/python3.10/site-packages/pymysql/connections.py\", line 1199, in read\n",
      "    first_packet = self.connection._read_packet()\n",
      "  File \"/home/mohammed_shaneeb/anaconda3/envs/hireai/lib/python3.10/site-packages/pymysql/connections.py\", line 775, in _read_packet\n",
      "    packet.raise_for_error()\n",
      "  File \"/home/mohammed_shaneeb/anaconda3/envs/hireai/lib/python3.10/site-packages/pymysql/protocol.py\", line 219, in raise_for_error\n",
      "    err.raise_mysql_exception(self._data)\n",
      "  File \"/home/mohammed_shaneeb/anaconda3/envs/hireai/lib/python3.10/site-packages/pymysql/err.py\", line 150, in raise_mysql_exception\n",
      "    raise errorclass(errno, errval)\n",
      "sqlalchemy.exc.OperationalError: (pymysql.err.OperationalError) (1054, \"Unknown column 'value' in 'where clause'\")\n",
      "[SQL: SELECT * \n",
      "FROM adminapp_jobapplication \n",
      "WHERE value = %(value_0)s AND candidate_name = %(value_1)s]\n",
      "[parameters: {'value_0': '', 'value_1': 'Abdul Rabb'}]\n",
      "(Background on this error at: https://sqlalche.me/e/20/e3q8)\n"
     ]
    },
    {
     "data": {
      "text/plain": [
       "'Unfortunately, I was not able to answer your question, because of the following error:\\n\\n(pymysql.err.OperationalError) (1054, \"Unknown column \\'value\\' in \\'where clause\\'\")\\n[SQL: SELECT * \\nFROM adminapp_jobapplication \\nWHERE value = %(value_0)s AND candidate_name = %(value_1)s]\\n[parameters: {\\'value_0\\': \\'\\', \\'value_1\\': \\'Abdul Rabb\\'}]\\n(Background on this error at: https://sqlalche.me/e/20/e3q8)\\n'"
      ]
     },
     "execution_count": 12,
     "metadata": {},
     "output_type": "execute_result"
    }
   ],
   "source": [
    "df.chat('give me the score summary of abdul rabb')\n"
   ]
  },
  {
   "cell_type": "code",
   "execution_count": 15,
   "metadata": {},
   "outputs": [
    {
     "data": {
      "text/html": [
       "<div>\n",
       "<style scoped>\n",
       "    .dataframe tbody tr th:only-of-type {\n",
       "        vertical-align: middle;\n",
       "    }\n",
       "\n",
       "    .dataframe tbody tr th {\n",
       "        vertical-align: top;\n",
       "    }\n",
       "\n",
       "    .dataframe thead th {\n",
       "        text-align: right;\n",
       "    }\n",
       "</style>\n",
       "<table border=\"1\" class=\"dataframe\">\n",
       "  <thead>\n",
       "    <tr style=\"text-align: right;\">\n",
       "      <th></th>\n",
       "      <th>candidate_name</th>\n",
       "      <th>score</th>\n",
       "      <th>skills</th>\n",
       "    </tr>\n",
       "  </thead>\n",
       "  <tbody>\n",
       "  </tbody>\n",
       "</table>\n",
       "</div>"
      ],
      "text/plain": [
       "Empty DataFrame\n",
       "Columns: [candidate_name, score, skills]\n",
       "Index: []"
      ]
     },
     "execution_count": 15,
     "metadata": {},
     "output_type": "execute_result"
    }
   ],
   "source": [
    "df.chat('from job_id=23 . Shortlist top 3 candidates ')\n"
   ]
  },
  {
   "cell_type": "code",
   "execution_count": 16,
   "metadata": {},
   "outputs": [
    {
     "data": {
      "text/html": [
       "<div>\n",
       "<style scoped>\n",
       "    .dataframe tbody tr th:only-of-type {\n",
       "        vertical-align: middle;\n",
       "    }\n",
       "\n",
       "    .dataframe tbody tr th {\n",
       "        vertical-align: top;\n",
       "    }\n",
       "\n",
       "    .dataframe thead th {\n",
       "        text-align: right;\n",
       "    }\n",
       "</style>\n",
       "<table border=\"1\" class=\"dataframe\">\n",
       "  <thead>\n",
       "    <tr style=\"text-align: right;\">\n",
       "      <th></th>\n",
       "      <th>id</th>\n",
       "      <th>job_id</th>\n",
       "      <th>job_title</th>\n",
       "      <th>candidate_name</th>\n",
       "      <th>score</th>\n",
       "      <th>phone</th>\n",
       "      <th>email</th>\n",
       "      <th>experience</th>\n",
       "      <th>age</th>\n",
       "      <th>resume_link</th>\n",
       "      <th>skills</th>\n",
       "      <th>technologies</th>\n",
       "      <th>score_summary</th>\n",
       "    </tr>\n",
       "  </thead>\n",
       "  <tbody>\n",
       "    <tr>\n",
       "      <th>1</th>\n",
       "      <td>17</td>\n",
       "      <td>18</td>\n",
       "      <td>MLOPS</td>\n",
       "      <td>Zaheer K Z</td>\n",
       "      <td>85.0</td>\n",
       "      <td>9658741232</td>\n",
       "      <td>zaheer.work24@gmail.com</td>\n",
       "      <td>5</td>\n",
       "      <td>23</td>\n",
       "      <td>https://tinyurl.com/2aezpg6v</td>\n",
       "      <td>\"[\\\"Generative AI\\\", \\\"TensorFlow\\\", \\\"Kaggle\\...</td>\n",
       "      <td>\"[\\\"MLOps\\\", \\\"Streamlit\\\", \\\"YOLO models\\\", \\...</td>\n",
       "      <td>Overall, this is a strong resume for a machine...</td>\n",
       "    </tr>\n",
       "    <tr>\n",
       "      <th>4</th>\n",
       "      <td>31</td>\n",
       "      <td>18</td>\n",
       "      <td>MLOPS</td>\n",
       "      <td>Rohidh Krishna</td>\n",
       "      <td>85.0</td>\n",
       "      <td>+91 9947730369</td>\n",
       "      <td>krish.rohidh@gmail.com</td>\n",
       "      <td>2</td>\n",
       "      <td>22</td>\n",
       "      <td>https://tinyurl.com/2caqpoe9</td>\n",
       "      <td>\"[\\\"Linux Bash\\\", \\\"Write Technical Articles\\\"...</td>\n",
       "      <td>\"[\\\"Django\\\", \\\"TensorFlow\\\", \\\"PyTorch\\\", \\\"A...</td>\n",
       "      <td>Overall, the candidate has a strong background...</td>\n",
       "    </tr>\n",
       "    <tr>\n",
       "      <th>5</th>\n",
       "      <td>37</td>\n",
       "      <td>18</td>\n",
       "      <td>MLOPS</td>\n",
       "      <td>ALEXANDER OWENS</td>\n",
       "      <td>85.0</td>\n",
       "      <td>(123) 456-7890</td>\n",
       "      <td>alex.owens@email.com</td>\n",
       "      <td>3</td>\n",
       "      <td>30</td>\n",
       "      <td>https://tinyurl.com/22vwmlnl</td>\n",
       "      <td>\"[\\\"Apache Spark\\\", \\\"Informatica\\\", \\\"NLTK (N...</td>\n",
       "      <td>\"[\\\"NLTK\\\", \\\"Apache Spark\\\", \\\"Informatica\\\",...</td>\n",
       "      <td>Alexander Owens is a highly qualified data sci...</td>\n",
       "    </tr>\n",
       "  </tbody>\n",
       "</table>\n",
       "</div>"
      ],
      "text/plain": [
       "   id  job_id job_title   candidate_name  score           phone  \\\n",
       "1  17      18     MLOPS       Zaheer K Z   85.0      9658741232   \n",
       "4  31      18     MLOPS   Rohidh Krishna   85.0  +91 9947730369   \n",
       "5  37      18     MLOPS  ALEXANDER OWENS   85.0  (123) 456-7890   \n",
       "\n",
       "                     email  experience  age                   resume_link  \\\n",
       "1  zaheer.work24@gmail.com           5   23  https://tinyurl.com/2aezpg6v   \n",
       "4   krish.rohidh@gmail.com           2   22  https://tinyurl.com/2caqpoe9   \n",
       "5     alex.owens@email.com           3   30  https://tinyurl.com/22vwmlnl   \n",
       "\n",
       "                                              skills  \\\n",
       "1  \"[\\\"Generative AI\\\", \\\"TensorFlow\\\", \\\"Kaggle\\...   \n",
       "4  \"[\\\"Linux Bash\\\", \\\"Write Technical Articles\\\"...   \n",
       "5  \"[\\\"Apache Spark\\\", \\\"Informatica\\\", \\\"NLTK (N...   \n",
       "\n",
       "                                        technologies  \\\n",
       "1  \"[\\\"MLOps\\\", \\\"Streamlit\\\", \\\"YOLO models\\\", \\...   \n",
       "4  \"[\\\"Django\\\", \\\"TensorFlow\\\", \\\"PyTorch\\\", \\\"A...   \n",
       "5  \"[\\\"NLTK\\\", \\\"Apache Spark\\\", \\\"Informatica\\\",...   \n",
       "\n",
       "                                       score_summary  \n",
       "1  Overall, this is a strong resume for a machine...  \n",
       "4  Overall, the candidate has a strong background...  \n",
       "5  Alexander Owens is a highly qualified data sci...  "
      ]
     },
     "execution_count": 16,
     "metadata": {},
     "output_type": "execute_result"
    }
   ],
   "source": [
    "df.chat('from job_id=18 . Shortlist top 3 candidates ')\n"
   ]
  },
  {
   "cell_type": "code",
   "execution_count": 17,
   "metadata": {},
   "outputs": [
    {
     "name": "stdout",
     "output_type": "stream",
     "text": [
      "{'type': 'dataframe', 'value': Empty DataFrame\n",
      "Columns: [id, job_id, job_title, candidate_name, score, phone, email, experience, age, resume_link, skills, technologies, score_summary]\n",
      "Index: []}\n"
     ]
    },
    {
     "data": {
      "text/html": [
       "<div>\n",
       "<style scoped>\n",
       "    .dataframe tbody tr th:only-of-type {\n",
       "        vertical-align: middle;\n",
       "    }\n",
       "\n",
       "    .dataframe tbody tr th {\n",
       "        vertical-align: top;\n",
       "    }\n",
       "\n",
       "    .dataframe thead th {\n",
       "        text-align: right;\n",
       "    }\n",
       "</style>\n",
       "<table border=\"1\" class=\"dataframe\">\n",
       "  <thead>\n",
       "    <tr style=\"text-align: right;\">\n",
       "      <th></th>\n",
       "      <th>id</th>\n",
       "      <th>job_id</th>\n",
       "      <th>job_title</th>\n",
       "      <th>candidate_name</th>\n",
       "      <th>score</th>\n",
       "      <th>phone</th>\n",
       "      <th>email</th>\n",
       "      <th>experience</th>\n",
       "      <th>age</th>\n",
       "      <th>resume_link</th>\n",
       "      <th>skills</th>\n",
       "      <th>technologies</th>\n",
       "      <th>score_summary</th>\n",
       "    </tr>\n",
       "  </thead>\n",
       "  <tbody>\n",
       "  </tbody>\n",
       "</table>\n",
       "</div>"
      ],
      "text/plain": [
       "Empty DataFrame\n",
       "Columns: [id, job_id, job_title, candidate_name, score, phone, email, experience, age, resume_link, skills, technologies, score_summary]\n",
       "Index: []"
      ]
     },
     "execution_count": 17,
     "metadata": {},
     "output_type": "execute_result"
    }
   ],
   "source": [
    "df.chat('from job_id=23 . Shortlist top 3 candidates ')\n"
   ]
  },
  {
   "cell_type": "code",
   "execution_count": 18,
   "metadata": {},
   "outputs": [
    {
     "name": "stdout",
     "output_type": "stream",
     "text": [
      "{'type': 'dataframe', 'value': Empty DataFrame\n",
      "Columns: [id, job_id, job_title, candidate_name, score, phone, email, experience, age, resume_link, skills, technologies, score_summary]\n",
      "Index: []}\n"
     ]
    },
    {
     "data": {
      "text/html": [
       "<div>\n",
       "<style scoped>\n",
       "    .dataframe tbody tr th:only-of-type {\n",
       "        vertical-align: middle;\n",
       "    }\n",
       "\n",
       "    .dataframe tbody tr th {\n",
       "        vertical-align: top;\n",
       "    }\n",
       "\n",
       "    .dataframe thead th {\n",
       "        text-align: right;\n",
       "    }\n",
       "</style>\n",
       "<table border=\"1\" class=\"dataframe\">\n",
       "  <thead>\n",
       "    <tr style=\"text-align: right;\">\n",
       "      <th></th>\n",
       "      <th>id</th>\n",
       "      <th>job_id</th>\n",
       "      <th>job_title</th>\n",
       "      <th>candidate_name</th>\n",
       "      <th>score</th>\n",
       "      <th>phone</th>\n",
       "      <th>email</th>\n",
       "      <th>experience</th>\n",
       "      <th>age</th>\n",
       "      <th>resume_link</th>\n",
       "      <th>skills</th>\n",
       "      <th>technologies</th>\n",
       "      <th>score_summary</th>\n",
       "    </tr>\n",
       "  </thead>\n",
       "  <tbody>\n",
       "  </tbody>\n",
       "</table>\n",
       "</div>"
      ],
      "text/plain": [
       "Empty DataFrame\n",
       "Columns: [id, job_id, job_title, candidate_name, score, phone, email, experience, age, resume_link, skills, technologies, score_summary]\n",
       "Index: []"
      ]
     },
     "execution_count": 18,
     "metadata": {},
     "output_type": "execute_result"
    }
   ],
   "source": [
    "df.chat('from job_id=14 . Shortlist top 3 candidates ')\n"
   ]
  },
  {
   "cell_type": "code",
   "execution_count": 19,
   "metadata": {},
   "outputs": [
    {
     "data": {
      "text/html": [
       "<div>\n",
       "<style scoped>\n",
       "    .dataframe tbody tr th:only-of-type {\n",
       "        vertical-align: middle;\n",
       "    }\n",
       "\n",
       "    .dataframe tbody tr th {\n",
       "        vertical-align: top;\n",
       "    }\n",
       "\n",
       "    .dataframe thead th {\n",
       "        text-align: right;\n",
       "    }\n",
       "</style>\n",
       "<table border=\"1\" class=\"dataframe\">\n",
       "  <thead>\n",
       "    <tr style=\"text-align: right;\">\n",
       "      <th></th>\n",
       "      <th>candidate_name</th>\n",
       "      <th>score</th>\n",
       "      <th>email</th>\n",
       "      <th>phone</th>\n",
       "    </tr>\n",
       "  </thead>\n",
       "  <tbody>\n",
       "    <tr>\n",
       "      <th>4</th>\n",
       "      <td>Rohidh Krishna</td>\n",
       "      <td>85.0</td>\n",
       "      <td>krish.rohidh@gmail.com</td>\n",
       "      <td>+91 9947730369</td>\n",
       "    </tr>\n",
       "    <tr>\n",
       "      <th>6</th>\n",
       "      <td>Daniel Trevino</td>\n",
       "      <td>85.0</td>\n",
       "      <td>shaneebunofficail@gmail.com</td>\n",
       "      <td>(123) 456-7890</td>\n",
       "    </tr>\n",
       "    <tr>\n",
       "      <th>7</th>\n",
       "      <td>ABDUL RUBB</td>\n",
       "      <td>85.0</td>\n",
       "      <td>abdurabb00@gmail.com</td>\n",
       "      <td>+91 7909199591</td>\n",
       "    </tr>\n",
       "  </tbody>\n",
       "</table>\n",
       "</div>"
      ],
      "text/plain": [
       "   candidate_name  score                        email           phone\n",
       "4  Rohidh Krishna   85.0       krish.rohidh@gmail.com  +91 9947730369\n",
       "6  Daniel Trevino   85.0  shaneebunofficail@gmail.com  (123) 456-7890\n",
       "7      ABDUL RUBB   85.0         abdurabb00@gmail.com  +91 7909199591"
      ]
     },
     "execution_count": 19,
     "metadata": {},
     "output_type": "execute_result"
    }
   ],
   "source": [
    "df.chat('Shortlist top 3 candidates who applied for job with job_id=14')\n"
   ]
  },
  {
   "cell_type": "code",
   "execution_count": 20,
   "metadata": {},
   "outputs": [
    {
     "data": {
      "text/html": [
       "<div>\n",
       "<style scoped>\n",
       "    .dataframe tbody tr th:only-of-type {\n",
       "        vertical-align: middle;\n",
       "    }\n",
       "\n",
       "    .dataframe tbody tr th {\n",
       "        vertical-align: top;\n",
       "    }\n",
       "\n",
       "    .dataframe thead th {\n",
       "        text-align: right;\n",
       "    }\n",
       "</style>\n",
       "<table border=\"1\" class=\"dataframe\">\n",
       "  <thead>\n",
       "    <tr style=\"text-align: right;\">\n",
       "      <th></th>\n",
       "      <th>candidate_name</th>\n",
       "      <th>score</th>\n",
       "      <th>email</th>\n",
       "      <th>phone</th>\n",
       "    </tr>\n",
       "  </thead>\n",
       "  <tbody>\n",
       "    <tr>\n",
       "      <th>4</th>\n",
       "      <td>Rohidh Krishna</td>\n",
       "      <td>85.0</td>\n",
       "      <td>krish.rohidh@gmail.com</td>\n",
       "      <td>+91 9947730369</td>\n",
       "    </tr>\n",
       "    <tr>\n",
       "      <th>6</th>\n",
       "      <td>Daniel Trevino</td>\n",
       "      <td>85.0</td>\n",
       "      <td>shaneebunofficail@gmail.com</td>\n",
       "      <td>(123) 456-7890</td>\n",
       "    </tr>\n",
       "    <tr>\n",
       "      <th>7</th>\n",
       "      <td>ABDUL RUBB</td>\n",
       "      <td>85.0</td>\n",
       "      <td>abdurabb00@gmail.com</td>\n",
       "      <td>+91 7909199591</td>\n",
       "    </tr>\n",
       "  </tbody>\n",
       "</table>\n",
       "</div>"
      ],
      "text/plain": [
       "   candidate_name  score                        email           phone\n",
       "4  Rohidh Krishna   85.0       krish.rohidh@gmail.com  +91 9947730369\n",
       "6  Daniel Trevino   85.0  shaneebunofficail@gmail.com  (123) 456-7890\n",
       "7      ABDUL RUBB   85.0         abdurabb00@gmail.com  +91 7909199591"
      ]
     },
     "execution_count": 20,
     "metadata": {},
     "output_type": "execute_result"
    }
   ],
   "source": [
    "df.chat('from job_id=14 . Shortlist top 3 candidates ')"
   ]
  },
  {
   "cell_type": "code",
   "execution_count": 21,
   "metadata": {},
   "outputs": [
    {
     "data": {
      "text/html": [
       "<div>\n",
       "<style scoped>\n",
       "    .dataframe tbody tr th:only-of-type {\n",
       "        vertical-align: middle;\n",
       "    }\n",
       "\n",
       "    .dataframe tbody tr th {\n",
       "        vertical-align: top;\n",
       "    }\n",
       "\n",
       "    .dataframe thead th {\n",
       "        text-align: right;\n",
       "    }\n",
       "</style>\n",
       "<table border=\"1\" class=\"dataframe\">\n",
       "  <thead>\n",
       "    <tr style=\"text-align: right;\">\n",
       "      <th></th>\n",
       "      <th>candidate_name</th>\n",
       "      <th>score</th>\n",
       "      <th>email</th>\n",
       "      <th>phone</th>\n",
       "    </tr>\n",
       "  </thead>\n",
       "  <tbody>\n",
       "  </tbody>\n",
       "</table>\n",
       "</div>"
      ],
      "text/plain": [
       "Empty DataFrame\n",
       "Columns: [candidate_name, score, email, phone]\n",
       "Index: []"
      ]
     },
     "execution_count": 21,
     "metadata": {},
     "output_type": "execute_result"
    }
   ],
   "source": [
    "df.chat('from job_id=23 . Shortlist top 3 candidates ')"
   ]
  },
  {
   "cell_type": "code",
   "execution_count": 33,
   "metadata": {},
   "outputs": [
    {
     "name": "stderr",
     "output_type": "stream",
     "text": [
      "Traceback (most recent call last):\n",
      "  File \"/home/mohammed_shaneeb/anaconda3/envs/hireai/lib/python3.10/site-packages/pandasai/pipelines/chat/generate_chat_pipeline.py\", line 307, in run\n",
      "    output = (self.code_generation_pipeline | self.code_execution_pipeline).run(\n",
      "  File \"/home/mohammed_shaneeb/anaconda3/envs/hireai/lib/python3.10/site-packages/pandasai/pipelines/pipeline.py\", line 137, in run\n",
      "    raise e\n",
      "  File \"/home/mohammed_shaneeb/anaconda3/envs/hireai/lib/python3.10/site-packages/pandasai/pipelines/pipeline.py\", line 101, in run\n",
      "    step_output = logic.execute(\n",
      "  File \"/home/mohammed_shaneeb/anaconda3/envs/hireai/lib/python3.10/site-packages/pandasai/pipelines/chat/code_execution.py\", line 113, in execute\n",
      "    raise e\n",
      "  File \"/home/mohammed_shaneeb/anaconda3/envs/hireai/lib/python3.10/site-packages/pandasai/pipelines/chat/code_execution.py\", line 85, in execute\n",
      "    result = self.execute_code(code_to_run, code_context)\n",
      "  File \"/home/mohammed_shaneeb/anaconda3/envs/hireai/lib/python3.10/site-packages/pandasai/pipelines/chat/code_execution.py\", line 171, in execute_code\n",
      "    exec(code, environment)\n",
      "  File \"<string>\", line 1, in <module>\n",
      "NameError: name 'adminapp_jobapplication' is not defined\n"
     ]
    },
    {
     "data": {
      "text/plain": [
       "\"Unfortunately, I was not able to answer your question, because of the following error:\\n\\nname 'adminapp_jobapplication' is not defined\\n\""
      ]
     },
     "execution_count": 33,
     "metadata": {},
     "output_type": "execute_result"
    }
   ],
   "source": [
    "df.chat('from job_id=20 . Shortlist top 3 candidates ')"
   ]
  },
  {
   "cell_type": "code",
   "execution_count": 23,
   "metadata": {},
   "outputs": [
    {
     "data": {
      "text/html": [
       "<div>\n",
       "<style scoped>\n",
       "    .dataframe tbody tr th:only-of-type {\n",
       "        vertical-align: middle;\n",
       "    }\n",
       "\n",
       "    .dataframe tbody tr th {\n",
       "        vertical-align: top;\n",
       "    }\n",
       "\n",
       "    .dataframe thead th {\n",
       "        text-align: right;\n",
       "    }\n",
       "</style>\n",
       "<table border=\"1\" class=\"dataframe\">\n",
       "  <thead>\n",
       "    <tr style=\"text-align: right;\">\n",
       "      <th></th>\n",
       "      <th>candidate_name</th>\n",
       "      <th>score</th>\n",
       "      <th>email</th>\n",
       "      <th>phone</th>\n",
       "    </tr>\n",
       "  </thead>\n",
       "  <tbody>\n",
       "    <tr>\n",
       "      <th>7</th>\n",
       "      <td>KATHY JAMES</td>\n",
       "      <td>75.0</td>\n",
       "      <td>shaneebunofficail@gmail.com</td>\n",
       "      <td>(123) 456-7890</td>\n",
       "    </tr>\n",
       "    <tr>\n",
       "      <th>1</th>\n",
       "      <td>Thanseeh Yaseen</td>\n",
       "      <td>70.0</td>\n",
       "      <td>yaseenkdr27@gmail.com</td>\n",
       "      <td>8596744785</td>\n",
       "    </tr>\n",
       "    <tr>\n",
       "      <th>3</th>\n",
       "      <td>AL AAJ DIYOUF KV</td>\n",
       "      <td>70.0</td>\n",
       "      <td>diyoufkv7@gmail.com</td>\n",
       "      <td>+91 8590629210</td>\n",
       "    </tr>\n",
       "  </tbody>\n",
       "</table>\n",
       "</div>"
      ],
      "text/plain": [
       "     candidate_name  score                        email           phone\n",
       "7       KATHY JAMES   75.0  shaneebunofficail@gmail.com  (123) 456-7890\n",
       "1   Thanseeh Yaseen   70.0        yaseenkdr27@gmail.com      8596744785\n",
       "3  AL AAJ DIYOUF KV   70.0          diyoufkv7@gmail.com  +91 8590629210"
      ]
     },
     "execution_count": 23,
     "metadata": {},
     "output_type": "execute_result"
    }
   ],
   "source": [
    "df.chat('Shortlist top 3 candidates who applied for job with job_id=20')\n"
   ]
  },
  {
   "cell_type": "code",
   "execution_count": 32,
   "metadata": {},
   "outputs": [
    {
     "data": {
      "text/plain": [
       "8"
      ]
     },
     "execution_count": 32,
     "metadata": {},
     "output_type": "execute_result"
    }
   ],
   "source": [
    "df.chat('How many are applied for job_id=20')\n"
   ]
  },
  {
   "cell_type": "code",
   "execution_count": null,
   "metadata": {},
   "outputs": [],
   "source": []
  },
  {
   "cell_type": "code",
   "execution_count": null,
   "metadata": {},
   "outputs": [],
   "source": []
  }
 ],
 "metadata": {
  "kernelspec": {
   "display_name": "hireai",
   "language": "python",
   "name": "python3"
  },
  "language_info": {
   "codemirror_mode": {
    "name": "ipython",
    "version": 3
   },
   "file_extension": ".py",
   "mimetype": "text/x-python",
   "name": "python",
   "nbconvert_exporter": "python",
   "pygments_lexer": "ipython3",
   "version": "3.10.14"
  }
 },
 "nbformat": 4,
 "nbformat_minor": 2
}
